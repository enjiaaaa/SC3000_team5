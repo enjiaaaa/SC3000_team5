{
  "cells": [
    {
      "cell_type": "markdown",
      "metadata": {
        "colab_type": "text",
        "id": "view-in-github"
      },
      "source": [
        "<a href=\"https://colab.research.google.com/github/yue-zhongqi/cartpole_colab/blob/main/cartpole.ipynb\" target=\"_parent\"><img src=\"https://colab.research.google.com/assets/colab-badge.svg\" alt=\"Open In Colab\"/></a>"
      ]
    },
    {
      "cell_type": "markdown",
      "metadata": {
        "id": "ZauhjPSfX7pI"
      },
      "source": [
        "# Tutorial and Sample Code for Balancing a Pole on a Cart"
      ]
    },
    {
      "cell_type": "markdown",
      "metadata": {
        "id": "UBiYOoesYMvr"
      },
      "source": [
        "## Installing dependencies:"
      ]
    },
    {
      "cell_type": "code",
      "execution_count": null,
      "metadata": {
        "colab": {
          "base_uri": "https://localhost:8080/"
        },
        "id": "PbgnVwZmX5uW",
        "outputId": "7dcfe5ac-b419-4d5d-8305-1ba3c1240df3"
      },
      "outputs": [],
      "source": []
    },
    {
      "cell_type": "markdown",
      "metadata": {
        "id": "RwKbYeTgbaTA"
      },
      "source": [
        "## Importing dependencies and define helper functions"
      ]
    },
    {
      "cell_type": "code",
      "execution_count": 124,
      "metadata": {
        "id": "j6KpgCLGYWmj"
      },
      "outputs": [],
      "source": [
        "import gymnasium\n",
        "from gymnasium.wrappers import RecordVideo\n",
        "from gymnasium import logger as gymlogger\n",
        "\n",
        "import tensorflow as tf\n",
        "import numpy as np\n",
        "import random\n",
        "import matplotlib.pyplot as plt\n",
        "%matplotlib inline \n",
        "\n",
        "import math\n",
        "import glob\n",
        "import io\n",
        "import base64\n",
        "from IPython.display import HTML\n",
        "from IPython import display as ipythondisplay\n",
        "\n",
        "# Set gym logger level to show only errors\n",
        "import logging\n",
        "# gymlogger.setLevel(logging.ERROR)\n",
        "\n",
        "# # Function to display a recorded video from the 'video/' directory\n",
        "def show_video():\n",
        "    mp4list = glob.glob('video/*.mp4')\n",
        "    if len(mp4list) > 0:\n",
        "        mp4 = mp4list[0]\n",
        "        video = io.open(mp4, 'r+b').read()\n",
        "        encoded = base64.b64encode(video).decode('ascii')\n",
        "        display_html = f'''\n",
        "        <video alt=\"Recorded video\" autoplay loop controls style=\"height: 400px;\">\n",
        "            <source src=\"data:video/mp4;base64,{encoded}\" type=\"video/mp4\" />\n",
        "        </video>\n",
        "        '''\n",
        "        ipythondisplay.display(HTML(display_html))\n",
        "    else: \n",
        "        print(\"⚠️ Could not find any video in the 'video/' folder.\")\n"
      ]
    },
    {
      "cell_type": "markdown",
      "metadata": {},
      "source": []
    },
    {
      "cell_type": "markdown",
      "metadata": {
        "id": "ehbqP9CXbmo7"
      },
      "source": [
        "## Tutorial: Loading CartPole environment"
      ]
    },
    {
      "cell_type": "code",
      "execution_count": 125,
      "metadata": {
        "id": "Go12dH4qbwBy"
      },
      "outputs": [
        {
          "name": "stdout",
          "output_type": "stream",
          "text": [
            "Discrete(2)\n",
            "Box([-4.8               -inf -0.41887903        -inf], [4.8               inf 0.41887903        inf], (4,), float32)\n"
          ]
        }
      ],
      "source": [
        "env = gymnasium.make(\"CartPole-v1\")\n",
        "print(env.action_space)\n",
        "print(env.observation_space)"
      ]
    },
    {
      "cell_type": "markdown",
      "metadata": {
        "id": "9XZ9g3xrcAXE"
      },
      "source": [
        "We can check the action and observation space of this environment. Discrete(2) means that there are two valid discrete actions: 0 & 1."
      ]
    },
    {
      "cell_type": "markdown",
      "metadata": {
        "id": "pVXGWi_Ncfg-"
      },
      "source": [
        "The observation space is given below. The first two arrays define the min and max values of the 4 observed values, corresponding to cart position, velocity and pole angle, angular velocity."
      ]
    },
    {
      "cell_type": "code",
      "execution_count": 126,
      "metadata": {
        "colab": {
          "base_uri": "https://localhost:8080/"
        },
        "id": "DyqHr9I5cdkX",
        "outputId": "369a0733-e7c0-4bca-b427-5e1c603ff074"
      },
      "outputs": [
        {
          "name": "stdout",
          "output_type": "stream",
          "text": [
            "initial observation (array([ 0.03630047, -0.04800527, -0.02227082, -0.02938143], dtype=float32), {})\n",
            "actionSpaceDiscrete(2)\n",
            "actionSpaceBox([-4.8               -inf -0.41887903        -inf], [4.8               inf 0.41887903        inf], (4,), float32)\n"
          ]
        }
      ],
      "source": [
        "observation = env.reset()\n",
        "print(\"initial observation\", observation)\n",
        "print(\"actionSpace{}\".format(env.action_space))\n",
        "print(\"actionSpace{}\".format(env.observation_space))"
      ]
    },
    {
      "cell_type": "code",
      "execution_count": 127,
      "metadata": {
        "colab": {
          "base_uri": "https://localhost:8080/"
        },
        "id": "MmfMDvyYdWGk",
        "outputId": "fa12ffd8-6707-4cbc-fb86-aef8484d5d17"
      },
      "outputs": [
        {
          "name": "stdout",
          "output_type": "stream",
          "text": [
            "New observations after choosing action 0: [ 0.03534037 -0.24280088 -0.02285845  0.25619245]\n",
            "Reward for this step: 1.0\n",
            "Done? False\n"
          ]
        }
      ],
      "source": [
        "observation, reward, terminated, truncated, info = env.step(0)\n",
        "done = terminated or truncated\n",
        "\n",
        "print(\"New observations after choosing action 0:\", observation)\n",
        "print(\"Reward for this step:\", reward)\n",
        "print(\"Done?\", done)\n"
      ]
    },
    {
      "cell_type": "markdown",
      "metadata": {
        "id": "tj0zCh59fhBb"
      },
      "source": [
        "Now we can play a full round of the game using a naive strategy (always choosing action 0), and show the cumulative reward in the round. Note that reward returned by env.step(*) corresponds to the reward for current step. So we have to accumulate the reward for each step. Clearly, the naive strategy performs poorly by surviving only a dozen of steps."
      ]
    },
    {
      "cell_type": "code",
      "execution_count": 128,
      "metadata": {
        "colab": {
          "base_uri": "https://localhost:8080/"
        },
        "id": "AVucQVRwf6Jm",
        "outputId": "72f0b7d5-7cb5-4e37-da3d-997c1bfb4641"
      },
      "outputs": [
        {
          "name": "stdout",
          "output_type": "stream",
          "text": [
            "Cumulative reward for this round: 9.0\n"
          ]
        }
      ],
      "source": [
        "observation, info = env.reset()\n",
        "cumulative_reward = 0\n",
        "terminated = False\n",
        "truncated = False\n",
        "\n",
        "while not (terminated or truncated):\n",
        "    observation, reward, terminated, truncated, info = env.step(0)\n",
        "    cumulative_reward += reward\n",
        "\n",
        "print(\"Cumulative reward for this round:\", cumulative_reward)\n"
      ]
    },
    {
      "cell_type": "markdown",
      "metadata": {
        "id": "2oIzK9SzhlWN"
      },
      "source": [
        "## Task 1: Development of an RL agent"
      ]
    },
    {
      "cell_type": "markdown",
      "metadata": {
        "id": "Cc6_e5c_huiq"
      },
      "source": [
        "Initialize of parameters\n"
      ]
    },
    {
      "cell_type": "code",
      "execution_count": 162,
      "metadata": {},
      "outputs": [
        {
          "name": "stdout",
          "output_type": "stream",
          "text": [
            "initial observation [ 0.01611979 -0.02047234  0.01338207  0.04969927]\n",
            "actionSpaceDiscrete(2)\n",
            "actionSpaceBox([-4.8               -inf -0.41887903        -inf], [4.8               inf 0.41887903        inf], (4,), float32)\n"
          ]
        }
      ],
      "source": [
        "# Parameters\n",
        "LEARNING_RATE = 0.09\n",
        "DISCOUNT = 0.95\n",
        "EPISODES = 80000\n",
        "epsilon = 1.0\n",
        "epsilon_decay = 0.99944\n",
        "min_epsilon = 0.01\n",
        "print(\"initial observation\", observation)\n",
        "print(\"actionSpace{}\".format(env.action_space))\n",
        "print(\"actionSpace{}\".format(env.observation_space))\n",
        "# State space discretization\n",
        "bins = [6, 6, 12, 50]\n",
        "\n",
        "lower_bounds = np.array([-4.8, -5.0, -0.418, -5.0])\n",
        "upper_bounds = np.array([4.8, 5.0, 0.418, 5.0])\n",
        "\n",
        "bin_sizes = (upper_bounds - lower_bounds) / bins\n",
        "\n",
        "# Q-table\n",
        "q_table = np.random.uniform(low=0, high=1, size=(bins + [env.action_space.n]))"
      ]
    },
    {
      "cell_type": "code",
      "execution_count": 163,
      "metadata": {
        "id": "Hk-M4QEfh6l5"
      },
      "outputs": [],
      "source": [
        "def get_discrete_state(state):\n",
        "    clipped = np.clip(state, lower_bounds, upper_bounds)\n",
        "    discrete = ((clipped - lower_bounds) / bin_sizes)\n",
        "    discrete = np.clip(discrete, 0, np.array(bins) - 1).astype(int) # prevent overflow\n",
        "    return tuple(discrete)\n"
      ]
    },
    {
      "cell_type": "markdown",
      "metadata": {
        "id": "RAi7KKwNiegR"
      },
      "source": [
        "For Task 1, we can show the observation and chosen action below:"
      ]
    },
    {
      "cell_type": "code",
      "execution_count": 164,
      "metadata": {
        "colab": {
          "base_uri": "https://localhost:8080/"
        },
        "id": "ae2ia-vUiNKJ",
        "outputId": "22c614ca-5ba0-43d3-d27a-d79073b5d04e"
      },
      "outputs": [],
      "source": [
        "rewards_per_episode = []\n"
      ]
    },
    {
      "cell_type": "code",
      "execution_count": null,
      "metadata": {},
      "outputs": [
        {
          "name": "stdout",
          "output_type": "stream",
          "text": [
            "Episode 0 | Avg Reward (last 100): 10.00 | Epsilon: 0.9994\n",
            "Episode 500 | Avg Reward (last 100): 25.02 | Epsilon: 0.7553\n",
            "Episode 1000 | Avg Reward (last 100): 36.13 | Epsilon: 0.5708\n",
            "Episode 1500 | Avg Reward (last 100): 78.12 | Epsilon: 0.4314\n",
            "Episode 2000 | Avg Reward (last 100): 174.20 | Epsilon: 0.3260\n",
            "Episode 2500 | Avg Reward (last 100): 234.27 | Epsilon: 0.2464\n",
            "Episode 3000 | Avg Reward (last 100): 320.53 | Epsilon: 0.1862\n",
            "Episode 3500 | Avg Reward (last 100): 298.74 | Epsilon: 0.1407\n",
            "Episode 4000 | Avg Reward (last 100): 258.75 | Epsilon: 0.1063\n",
            "Episode 4500 | Avg Reward (last 100): 271.10 | Epsilon: 0.0804\n",
            "Episode 5000 | Avg Reward (last 100): 500.00 | Epsilon: 0.0607\n",
            "Episode 5500 | Avg Reward (last 100): 470.82 | Epsilon: 0.0459\n"
          ]
        }
      ],
      "source": [
        "env = gymnasium.make(\"CartPole-v1\")\n",
        "\n",
        "for episode in range(EPISODES):\n",
        "    state, _ = env.reset()\n",
        "    discrete_state = get_discrete_state(state)\n",
        "    total_reward = 0\n",
        "    done = False\n",
        "    terminated = False\n",
        "    truncated = False\n",
        "\n",
        "\n",
        "    while not (terminated or truncated):\n",
        "        # Epsilon-greedy action selection\n",
        "        if np.random.random() < epsilon:\n",
        "            action = env.action_space.sample()\n",
        "        else:\n",
        "            action = np.argmax(q_table[discrete_state])\n",
        "\n",
        "        # next_state, reward, done, _, _ = env.step(action)\n",
        "        next_state, reward, terminated, truncated, info = env.step(action)\n",
        "\n",
        "        next_discrete_state = get_discrete_state(next_state)\n",
        "\n",
        "        # Update Q-table using Bellman Equation\n",
        "        max_future_q = np.max(q_table[next_discrete_state])\n",
        "        current_q = q_table[discrete_state + (action,)]\n",
        "        new_q = (1 - LEARNING_RATE) * current_q + LEARNING_RATE * (reward + DISCOUNT * max_future_q)\n",
        "        q_table[discrete_state + (action,)] = new_q\n",
        "\n",
        "        discrete_state = next_discrete_state\n",
        "        total_reward += reward\n",
        "\n",
        "    # Decay epsilon\n",
        "    if epsilon > min_epsilon:\n",
        "        epsilon *= epsilon_decay\n",
        "        epsilon = max(min_epsilon, epsilon)\n",
        "\n",
        "    rewards_per_episode.append(total_reward)\n",
        "\n",
        "    # Optional: print progress\n",
        "    if episode % 500 == 0:\n",
        "        avg = np.mean(rewards_per_episode[-100:])\n",
        "        print(f\"Episode {episode} | Avg Reward (last 100): {avg:.2f} | Epsilon: {epsilon:.4f}\")"
      ]
    },
    {
      "cell_type": "code",
      "execution_count": 151,
      "metadata": {},
      "outputs": [],
      "source": [
        "def Reinforcement_Learning_agent(state):\n",
        "    discrete_state=get_discrete_state(state)\n",
        "    action = np.argmax(q_table[discrete_state]) \n",
        "    return action"
      ]
    },
    {
      "cell_type": "markdown",
      "metadata": {
        "id": "-XtIQ0Rti1gm"
      },
      "source": [
        "## Task 2: Demonstrate the effectiveness of the RL agent"
      ]
    },
    {
      "cell_type": "code",
      "execution_count": 152,
      "metadata": {},
      "outputs": [],
      "source": [
        "env = gymnasium.make(\"CartPole-v1\")\n",
        "test_episodes=100\n",
        "episode_results = []\n",
        "cumulative_reward_results = int(0)\n",
        "for test_episode in range(test_episodes):\n",
        "    observation, info = env.reset()\n",
        "    state = observation\n",
        "\n",
        "    cumulative_reward = 0\n",
        "    terminated = False\n",
        "    truncated = False\n",
        "\n",
        "    while not (terminated or truncated):\n",
        "        action = Reinforcement_Learning_agent(state)\n",
        "        \n",
        "        next_state, reward, terminated, truncated, info = env.step(action)\n",
        "        state = next_state\n",
        "        cumulative_reward += reward\n",
        "        cumulative_reward_results+=reward\n",
        "        #env.render()\n",
        "    episode_results.append(cumulative_reward)\n",
        "  #print(\"Cumulative reward for this round:\", cumulative_reward)"
      ]
    },
    {
      "cell_type": "code",
      "execution_count": 153,
      "metadata": {
        "colab": {
          "base_uri": "https://localhost:8080/",
          "height": 295
        },
        "id": "RZrCKywQi6CE",
        "outputId": "e304ecc5-14b6-4cf1-831b-dcb42eb46351"
      },
      "outputs": [
        {
          "data": {
            "image/png": "[encoded data removed]",
            "text/plain": [
              "<Figure size 640x480 with 1 Axes>"
            ]
          },
          "metadata": {},
          "output_type": "display_data"
        }
      ],
      "source": [
        "# episode_results = np.random.randint(150, 250, size=100)\n",
        "plt.plot(episode_results)\n",
        "\n",
        "plt.title('Cumulative reward for each episode')\n",
        "plt.ylabel('Cumulative reward')\n",
        "plt.xlabel('episode')\n",
        "plt.show()"
      ]
    },
    {
      "cell_type": "markdown",
      "metadata": {
        "id": "XndSYH7wlvn7"
      },
      "source": [
        "Print the average reward over the 100 episodes."
      ]
    },
    {
      "cell_type": "code",
      "execution_count": 145,
      "metadata": {
        "colab": {
          "base_uri": "https://localhost:8080/"
        },
        "id": "pOiOp9OYlo5Y",
        "outputId": "7a02ba7b-ff17-41f2-aa7f-eb50d49a83fd"
      },
      "outputs": [
        {
          "name": "stdout",
          "output_type": "stream",
          "text": [
            "Average cumulative reward: 500.0\n",
            "Is my agent good enough? True\n"
          ]
        }
      ],
      "source": [
        "print(\"Average cumulative reward:\", np.mean(episode_results))\n",
        "print(\"Is my agent good enough?\", np.mean(episode_results) > 195)"
      ]
    },
    {
      "cell_type": "markdown",
      "metadata": {
        "id": "Yg0DCT38lFA6"
      },
      "source": [
        "## Task 3: Render one episode played by the agent"
      ]
    },
    {
      "cell_type": "markdown",
      "metadata": {
        "id": "vx1awMr9lc_w"
      },
      "source": [
        "Plug your agent to the code below to obtain rendered result."
      ]
    },
    {
      "cell_type": "code",
      "execution_count": 146,
      "metadata": {
        "colab": {
          "base_uri": "https://localhost:8080/",
          "height": 421
        },
        "id": "LYyavfbIa47D",
        "outputId": "10c2f1e7-f3b9-4975-ed25-7c380966a56c"
      },
      "outputs": [
        {
          "name": "stdout",
          "output_type": "stream",
          "text": [
            "Cumulative reward: 500.0\n"
          ]
        },
        {
          "data": {
            "text/html": [
              "\n",
              "        <video alt=\"Recorded video\" autoplay loop controls style=\"height: 400px;\">\n",
              "            <source src=\"data:video/mp4;base64,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\" type=\"video/mp4\" />\n",
              "        </video>\n",
              "        "
            ],
            "text/plain": [
              "<IPython.core.display.HTML object>"
            ]
          },
          "metadata": {},
          "output_type": "display_data"
        }
      ],
      "source": [
        "import gymnasium as gym\n",
        "from gymnasium.wrappers import RecordVideo\n",
        "import random\n",
        "\n",
        "# Create environment with correct render mode\n",
        "env = gym.make(\"CartPole-v1\", render_mode=\"rgb_array\")\n",
        "\n",
        "# Wrap it to record video\n",
        "env = RecordVideo(env, video_folder=\"./video\")\n",
        "\n",
        "# Reset environment and unpack the new return format\n",
        "observation, info = env.reset()\n",
        "\n",
        "cumulative_reward = 0\n",
        "terminated = False\n",
        "truncated = False\n",
        "\n",
        "while not (terminated or truncated):\n",
        "        action = Reinforcement_Learning_agent(state)\n",
        "        \n",
        "        next_state, reward, terminated, truncated, info = env.step(action)\n",
        "        state = next_state\n",
        "        cumulative_reward += reward\n",
        "        cumulative_reward_results+=reward\n",
        "\n",
        "env.close()\n",
        "\n",
        "print(\"Cumulative reward:\", cumulative_reward)\n",
        "\n",
        "# Show video if you're in Jupyter\n",
        "show_video()\n"
      ]
    },
    {
      "cell_type": "code",
      "execution_count": null,
      "metadata": {},
      "outputs": [],
      "source": []
    }
  ],
  "metadata": {
    "colab": {
      "authorship_tag": "ABX9TyNczA+lJQOKjOo4XtzYjWQc",
      "include_colab_link": true,
      "provenance": []
    },
    "kernelspec": {
      "display_name": ".venv",
      "language": "python",
      "name": "python3"
    },
    "language_info": {
      "codemirror_mode": {
        "name": "ipython",
        "version": 3
      },
      "file_extension": ".py",
      "mimetype": "text/x-python",
      "name": "python",
      "nbconvert_exporter": "python",
      "pygments_lexer": "ipython3",
      "version": "3.12.6"
    }
  },
  "nbformat": 4,
  "nbformat_minor": 0
}
