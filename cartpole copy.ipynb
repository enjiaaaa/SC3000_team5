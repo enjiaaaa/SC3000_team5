{
  "cells": [
    {
      "cell_type": "markdown",
      "metadata": {
        "colab_type": "text",
        "id": "view-in-github"
      },
      "source": [
        "<a href=\"https://colab.research.google.com/github/yue-zhongqi/cartpole_colab/blob/main/cartpole.ipynb\" target=\"_parent\"><img src=\"https://colab.research.google.com/assets/colab-badge.svg\" alt=\"Open In Colab\"/></a>"
      ]
    },
    {
      "cell_type": "markdown",
      "metadata": {},
      "source": [
        "# SC3000 Lab Group:SCSB , Group 5\n",
        "### Lim En Jia, Lee Jia Rong, Ng Zi Yuan\n"
      ]
    },
    {
      "cell_type": "markdown",
      "metadata": {
        "id": "ZauhjPSfX7pI"
      },
      "source": [
        "# Tutorial and Sample Code for Balancing a Pole on a Cart"
      ]
    },
    {
      "cell_type": "markdown",
      "metadata": {
        "id": "RwKbYeTgbaTA"
      },
      "source": [
        "## Importing dependencies and define helper functions"
      ]
    },
    {
      "cell_type": "code",
      "execution_count": 1,
      "metadata": {
        "id": "j6KpgCLGYWmj"
      },
      "outputs": [],
      "source": [
        "import gymnasium\n",
        "from gymnasium.wrappers import RecordVideo\n",
        "from gymnasium import logger as gymlogger\n",
        "\n",
        "import tensorflow as tf\n",
        "import numpy as np\n",
        "import random\n",
        "import matplotlib.pyplot as plt\n",
        "%matplotlib inline \n",
        "\n",
        "import math\n",
        "import glob\n",
        "import io\n",
        "import base64\n",
        "from IPython.display import HTML\n",
        "from IPython import display as ipythondisplay\n",
        "\n",
        "# Set gym logger level to show only errors\n",
        "import logging\n",
        "# gymlogger.setLevel(logging.ERROR)\n",
        "\n",
        "# # Function to display a recorded video from the 'video/' directory\n",
        "def show_video():\n",
        "    mp4list = glob.glob('video/*.mp4')\n",
        "    if len(mp4list) > 0:\n",
        "        mp4 = mp4list[0]\n",
        "        video = io.open(mp4, 'r+b').read()\n",
        "        encoded = base64.b64encode(video).decode('ascii')\n",
        "        display_html = f'''\n",
        "        <video alt=\"Recorded video\" autoplay loop controls style=\"height: 400px;\">\n",
        "            <source src=\"data:video/mp4;base64,{encoded}\" type=\"video/mp4\" />\n",
        "        </video>\n",
        "        '''\n",
        "        ipythondisplay.display(HTML(display_html))\n",
        "    else: \n",
        "        print(\"⚠️ Could not find any video in the 'video/' folder.\")\n"
      ]
    },
    {
      "cell_type": "markdown",
      "metadata": {
        "id": "ehbqP9CXbmo7"
      },
      "source": [
        "## Tutorial: Loading CartPole environment"
      ]
    },
    {
      "cell_type": "code",
      "execution_count": 2,
      "metadata": {
        "id": "Go12dH4qbwBy"
      },
      "outputs": [
        {
          "name": "stdout",
          "output_type": "stream",
          "text": [
            "Discrete(2)\n",
            "Box([-4.8               -inf -0.41887903        -inf], [4.8               inf 0.41887903        inf], (4,), float32)\n"
          ]
        }
      ],
      "source": [
        "env = gymnasium.make(\"CartPole-v1\")\n",
        "print(env.action_space)\n",
        "print(env.observation_space)"
      ]
    },
    {
      "cell_type": "markdown",
      "metadata": {
        "id": "9XZ9g3xrcAXE"
      },
      "source": [
        "We can check the action and observation space of this environment. Discrete(2) means that there are two valid discrete actions: 0 & 1."
      ]
    },
    {
      "cell_type": "markdown",
      "metadata": {
        "id": "pVXGWi_Ncfg-"
      },
      "source": [
        "The observation space is given below. The first two arrays define the min and max values of the 4 observed values, corresponding to cart position, velocity and pole angle, angular velocity."
      ]
    },
    {
      "cell_type": "code",
      "execution_count": 3,
      "metadata": {
        "colab": {
          "base_uri": "https://localhost:8080/"
        },
        "id": "DyqHr9I5cdkX",
        "outputId": "369a0733-e7c0-4bca-b427-5e1c603ff074"
      },
      "outputs": [
        {
          "name": "stdout",
          "output_type": "stream",
          "text": [
            "initial observation (array([-0.04084715, -0.02830034, -0.04776929,  0.04866767], dtype=float32), {})\n",
            "actionSpaceDiscrete(2)\n",
            "actionSpaceBox([-4.8               -inf -0.41887903        -inf], [4.8               inf 0.41887903        inf], (4,), float32)\n"
          ]
        }
      ],
      "source": [
        "observation = env.reset()\n",
        "print(\"initial observation\", observation)\n",
        "print(\"actionSpace{}\".format(env.action_space))\n",
        "print(\"actionSpace{}\".format(env.observation_space))"
      ]
    },
    {
      "cell_type": "code",
      "execution_count": 4,
      "metadata": {
        "colab": {
          "base_uri": "https://localhost:8080/"
        },
        "id": "MmfMDvyYdWGk",
        "outputId": "fa12ffd8-6707-4cbc-fb86-aef8484d5d17"
      },
      "outputs": [
        {
          "name": "stdout",
          "output_type": "stream",
          "text": [
            "New observations after choosing action 0: [-0.04141315 -0.22270593 -0.04679593  0.32590458]\n",
            "Reward for this step: 1.0\n",
            "Done? False\n"
          ]
        }
      ],
      "source": [
        "observation, reward, terminated, truncated, info = env.step(0)\n",
        "done = terminated or truncated\n",
        "\n",
        "print(\"New observations after choosing action 0:\", observation)\n",
        "print(\"Reward for this step:\", reward)\n",
        "print(\"Done?\", done)\n"
      ]
    },
    {
      "cell_type": "markdown",
      "metadata": {
        "id": "tj0zCh59fhBb"
      },
      "source": [
        "Now we can play a full round of the game using a naive strategy (always choosing action 0), and show the cumulative reward in the round. Note that reward returned by env.step(*) corresponds to the reward for current step. So we have to accumulate the reward for each step. Clearly, the naive strategy performs poorly by surviving only a dozen of steps."
      ]
    },
    {
      "cell_type": "code",
      "execution_count": 5,
      "metadata": {
        "colab": {
          "base_uri": "https://localhost:8080/"
        },
        "id": "AVucQVRwf6Jm",
        "outputId": "72f0b7d5-7cb5-4e37-da3d-997c1bfb4641"
      },
      "outputs": [
        {
          "name": "stdout",
          "output_type": "stream",
          "text": [
            "Cumulative reward for this round: 10.0\n"
          ]
        }
      ],
      "source": [
        "observation, info = env.reset()\n",
        "cumulative_reward = 0\n",
        "terminated = False\n",
        "truncated = False\n",
        "\n",
        "while not (terminated or truncated):\n",
        "    observation, reward, terminated, truncated, info = env.step(0)\n",
        "    cumulative_reward += reward\n",
        "\n",
        "print(\"Cumulative reward for this round:\", cumulative_reward)\n"
      ]
    },
    {
      "cell_type": "markdown",
      "metadata": {},
      "source": [
        "# Task 1: Development of an RL agent\n"
      ]
    },
    {
      "cell_type": "markdown",
      "metadata": {
        "id": "Cc6_e5c_huiq"
      },
      "source": [
        "## Initialization of parameters\n",
        "\n",
        "## Number of Bins\n",
        "Due to different levels of sensitivity of the 4 variables, the number of bins allocated varies.\n",
        "A variable's sensitivity depends on whether small changes to its value affect the environment's behavior greatly.\n",
        "\n",
        "1. Cart Position: There is a lot of room for the cart to move, so small errors do not matter much. Therefore, 6 bins are needed.\n",
        "\n",
        "\n",
        "2. Cart Velocity: The cart’s velocity determines how fast it moves (left or right). Since small changes in velocity do not immediately result in failure, they can be easily corrected by applying force in the opposite direction. The cart also has room to adjust over time, making this variable less sensitive. Therefore, 6 bins are needed.\n",
        "\n",
        "3. Pole Angle (θ): If pole leans too far, it becomes harder to recover. Small changes in angle quickly cause instability, requiring more precise control. However, as long as the angle remains within a reasonable range, it is still possible to balance the pole. Therefore, 12 bins are needed.\n",
        "\n",
        "4. Pole Angular Velocity (θ'): Most sensitive variable. Small changes lead to immediate tipping, making recovery the most difficult. If the pole is falling fast, cart movements will not be sufficient to stabilize. Therefore, 50 bins are needed.\n",
        "\n",
        "\n",
        "## Lower Bound\n",
        "Based on observation space of the environment\n",
        "Determines the MIN and MAX values each state variable can take\n",
        "\n",
        "\n",
        "## Bin Sizes Calculation\n",
        "To ensure that every bin covers an equal portion of the variable's range\n",
        "\n",
        "## Initialize Q-Table\n",
        "### What is the Q-Table?\n",
        "Each state (cart position, velocity, pole angle, pole angular velocity) is represented as a discrete index (after discretization)\n",
        "\n",
        "Each action has a Q-value - how good the action is in that particular state\n",
        "\n",
        "RL agent updates the values over time through Q-learning.\n",
        "\n"
      ]
    },
    {
      "cell_type": "code",
      "execution_count": 15,
      "metadata": {},
      "outputs": [
        {
          "name": "stdout",
          "output_type": "stream",
          "text": [
            "initial observation [-0.02234622 -0.04911989 -0.04121911 -0.02490432]\n",
            "actionSpaceDiscrete(2)\n",
            "actionSpaceBox([-4.8               -inf -0.41887903        -inf], [4.8               inf 0.41887903        inf], (4,), float32)\n"
          ]
        }
      ],
      "source": [
        "# Parameters\n",
        "LEARNING_RATE = 0.1\n",
        "DISCOUNT = 0.95\n",
        "EPISODES = 15000\n",
        "epsilon = 1.0\n",
        "epsilon_decay = 0.99944\n",
        "min_epsilon = 0.01\n",
        "print(\"initial observation\", observation)\n",
        "print(\"actionSpace{}\".format(env.action_space))\n",
        "print(\"actionSpace{}\".format(env.observation_space))\n",
        "# State space discretization\n",
        "bins = [6, 6, 12, 50]\n",
        "\n",
        "lower_bounds = np.array([-4.8, -5.0, -0.418, -5.0])\n",
        "upper_bounds = np.array([4.8, 5.0, 0.418, 5.0])\n",
        "\n",
        "bin_sizes = (upper_bounds - lower_bounds) / bins\n",
        "\n",
        "# Q-table\n",
        "q_table = np.random.uniform(low=0, high=1, size=(bins + [env.action_space.n]))"
      ]
    },
    {
      "cell_type": "code",
      "execution_count": 16,
      "metadata": {
        "id": "Hk-M4QEfh6l5"
      },
      "outputs": [],
      "source": [
        "def get_discrete_state(state):\n",
        "    clipped = np.clip(state, lower_bounds, upper_bounds)\n",
        "    discrete = ((clipped - lower_bounds) / bin_sizes)\n",
        "    discrete = np.clip(discrete, 0, np.array(bins) - 1).astype(int) # prevent overflow\n",
        "    return tuple(discrete)\n"
      ]
    },
    {
      "cell_type": "markdown",
      "metadata": {
        "id": "RAi7KKwNiegR"
      },
      "source": [
        "For Task 1, we can show the observation and chosen action below:"
      ]
    },
    {
      "cell_type": "code",
      "execution_count": 17,
      "metadata": {
        "colab": {
          "base_uri": "https://localhost:8080/"
        },
        "id": "ae2ia-vUiNKJ",
        "outputId": "22c614ca-5ba0-43d3-d27a-d79073b5d04e"
      },
      "outputs": [],
      "source": [
        "rewards_per_episode = []\n"
      ]
    },
    {
      "cell_type": "markdown",
      "metadata": {},
      "source": [
        "# Q-Learning Training\n",
        "Loop through 8000 episodes\n",
        "* Reset after every episode\n",
        "* Convert continuous state into discrete state\n",
        "* Initialize reward = 0\n",
        "* Flags to track\n",
        "\n",
        "We run the episode until termination or truncation.\n",
        "### Epsilon-greedy action selection\n",
        "## EXPLORATION\n",
        "If random number generated < epsilon, get random action from the environment's action space.\n",
        "## EXPLOITATION\n",
        "Else, selects the best-known action from Q-table\n",
        "\n",
        "Use the selected action to observe the next state and reward.\n",
        "\n",
        "Convert the next continuous state into a discrete state.\n",
        "\n",
        "Retrieve the maximum Q-value for the next state.\n",
        "\n",
        "Get the current Q-value for the taken action.\n",
        "\n",
        "Update Q-table using the Bellman equation.\n",
        "\n",
        "Move to the next state.\n",
        "\n",
        "Accumulate reward for performance tracking.\n",
        "\n",
        "Decay epsilon for exploration-exploitation trade-off.\n",
        "\n",
        "Store total reward for analysis.\n",
        "\n",
        "Print progress every 500 episodes.\n",
        "\n"
      ]
    },
    {
      "cell_type": "code",
      "execution_count": 18,
      "metadata": {},
      "outputs": [
        {
          "name": "stdout",
          "output_type": "stream",
          "text": [
            "Episode 0 | Avg Reward (last 100): 14.00 | Epsilon: 0.9994\n",
            "Episode 500 | Avg Reward (last 100): 25.19 | Epsilon: 0.7553\n",
            "Episode 1000 | Avg Reward (last 100): 38.86 | Epsilon: 0.5708\n",
            "Episode 1500 | Avg Reward (last 100): 107.28 | Epsilon: 0.4314\n",
            "Episode 2000 | Avg Reward (last 100): 194.75 | Epsilon: 0.3260\n",
            "Episode 2500 | Avg Reward (last 100): 286.38 | Epsilon: 0.2464\n",
            "Episode 3000 | Avg Reward (last 100): 300.24 | Epsilon: 0.1862\n",
            "Episode 3500 | Avg Reward (last 100): 235.54 | Epsilon: 0.1407\n",
            "Episode 4000 | Avg Reward (last 100): 381.45 | Epsilon: 0.1063\n",
            "Episode 4500 | Avg Reward (last 100): 363.61 | Epsilon: 0.0804\n",
            "Episode 5000 | Avg Reward (last 100): 413.98 | Epsilon: 0.0607\n",
            "Episode 5500 | Avg Reward (last 100): 498.98 | Epsilon: 0.0459\n",
            "Episode 6000 | Avg Reward (last 100): 495.12 | Epsilon: 0.0347\n",
            "Episode 6500 | Avg Reward (last 100): 500.00 | Epsilon: 0.0262\n",
            "Episode 7000 | Avg Reward (last 100): 500.00 | Epsilon: 0.0198\n",
            "Episode 7500 | Avg Reward (last 100): 500.00 | Epsilon: 0.0150\n",
            "Episode 8000 | Avg Reward (last 100): 500.00 | Epsilon: 0.0113\n",
            "Episode 8500 | Avg Reward (last 100): 500.00 | Epsilon: 0.0100\n",
            "Episode 9000 | Avg Reward (last 100): 500.00 | Epsilon: 0.0100\n",
            "Episode 9500 | Avg Reward (last 100): 499.08 | Epsilon: 0.0100\n",
            "Episode 10000 | Avg Reward (last 100): 486.89 | Epsilon: 0.0100\n",
            "Episode 10500 | Avg Reward (last 100): 500.00 | Epsilon: 0.0100\n",
            "Episode 11000 | Avg Reward (last 100): 500.00 | Epsilon: 0.0100\n",
            "Episode 11500 | Avg Reward (last 100): 500.00 | Epsilon: 0.0100\n",
            "Episode 12000 | Avg Reward (last 100): 491.95 | Epsilon: 0.0100\n",
            "Episode 12500 | Avg Reward (last 100): 500.00 | Epsilon: 0.0100\n",
            "Episode 13000 | Avg Reward (last 100): 500.00 | Epsilon: 0.0100\n",
            "Episode 13500 | Avg Reward (last 100): 468.28 | Epsilon: 0.0100\n",
            "Episode 14000 | Avg Reward (last 100): 500.00 | Epsilon: 0.0100\n",
            "Episode 14500 | Avg Reward (last 100): 497.94 | Epsilon: 0.0100\n"
          ]
        }
      ],
      "source": [
        "env = gymnasium.make(\"CartPole-v1\")\n",
        "\n",
        "for episode in range(EPISODES):\n",
        "    state, _ = env.reset()\n",
        "    discrete_state = get_discrete_state(state)\n",
        "    total_reward = 0\n",
        "    done = False\n",
        "    terminated = False\n",
        "    truncated = False\n",
        "\n",
        "\n",
        "    while not (terminated or truncated):\n",
        "        # Epsilon-greedy action selection\n",
        "        if np.random.random() < epsilon:\n",
        "            action = env.action_space.sample()\n",
        "        else:\n",
        "            action = np.argmax(q_table[discrete_state])\n",
        "\n",
        "        # next_state, reward, done, _, _ = env.step(action)\n",
        "        next_state, reward, terminated, truncated, info = env.step(action)\n",
        "\n",
        "        next_discrete_state = get_discrete_state(next_state)\n",
        "\n",
        "        # Update Q-table using Bellman Equation\n",
        "        max_future_q = np.max(q_table[next_discrete_state])\n",
        "        current_q = q_table[discrete_state + (action,)]\n",
        "        new_q = (1 - LEARNING_RATE) * current_q + LEARNING_RATE * (reward + DISCOUNT * max_future_q)\n",
        "        q_table[discrete_state + (action,)] = new_q\n",
        "\n",
        "        discrete_state = next_discrete_state\n",
        "        total_reward += reward\n",
        "\n",
        "    # Decay epsilon\n",
        "    if epsilon > min_epsilon:\n",
        "        epsilon *= epsilon_decay\n",
        "        epsilon = max(min_epsilon, epsilon)\n",
        "\n",
        "    rewards_per_episode.append(total_reward)\n",
        "\n",
        "    # Optional: print progress\n",
        "    if episode % 500 == 0:\n",
        "        avg = np.mean(rewards_per_episode[-100:])\n",
        "        print(f\"Episode {episode} | Avg Reward (last 100): {avg:.2f} | Epsilon: {epsilon:.4f}\")"
      ]
    },
    {
      "cell_type": "code",
      "execution_count": 19,
      "metadata": {},
      "outputs": [],
      "source": [
        "def Reinforcement_Learning_agent(state):\n",
        "    discrete_state=get_discrete_state(state)\n",
        "    action = np.argmax(q_table[discrete_state]) \n",
        "    return action"
      ]
    },
    {
      "cell_type": "markdown",
      "metadata": {
        "id": "-XtIQ0Rti1gm"
      },
      "source": [
        "## Task 2: Demonstrate the effectiveness of the RL agent"
      ]
    },
    {
      "cell_type": "code",
      "execution_count": 20,
      "metadata": {},
      "outputs": [],
      "source": [
        "env = gymnasium.make(\"CartPole-v1\")\n",
        "test_episodes=100\n",
        "episode_results = []\n",
        "cumulative_reward_results = int(0)\n",
        "for test_episode in range(test_episodes):\n",
        "    observation, info = env.reset()\n",
        "    state = observation\n",
        "\n",
        "    cumulative_reward = 0\n",
        "    terminated = False\n",
        "    truncated = False\n",
        "\n",
        "    while not (terminated or truncated):\n",
        "        action = Reinforcement_Learning_agent(state)\n",
        "        \n",
        "        next_state, reward, terminated, truncated, info = env.step(action)\n",
        "        state = next_state\n",
        "        cumulative_reward += reward\n",
        "        cumulative_reward_results+=reward\n",
        "        #env.render()\n",
        "    episode_results.append(cumulative_reward)\n",
        "  #print(\"Cumulative reward for this round:\", cumulative_reward)"
      ]
    },
    {
      "cell_type": "code",
      "execution_count": 21,
      "metadata": {
        "colab": {
          "base_uri": "https://localhost:8080/",
          "height": 295
        },
        "id": "RZrCKywQi6CE",
        "outputId": "e304ecc5-14b6-4cf1-831b-dcb42eb46351"
      },
      "outputs": [
        {
          "data": {
            "image/png": "[encoded data removed]",
            "text/plain": [
              "<Figure size 640x480 with 1 Axes>"
            ]
          },
          "metadata": {},
          "output_type": "display_data"
        }
      ],
      "source": [
        "# episode_results = np.random.randint(150, 250, size=100)\n",
        "plt.plot(episode_results)\n",
        "\n",
        "plt.title('Cumulative reward for each episode')\n",
        "plt.ylabel('Cumulative reward')\n",
        "plt.xlabel('episode')\n",
        "plt.show()"
      ]
    },
    {
      "cell_type": "markdown",
      "metadata": {
        "id": "XndSYH7wlvn7"
      },
      "source": [
        "Print the average reward over the 100 episodes."
      ]
    },
    {
      "cell_type": "code",
      "execution_count": 22,
      "metadata": {
        "colab": {
          "base_uri": "https://localhost:8080/"
        },
        "id": "pOiOp9OYlo5Y",
        "outputId": "7a02ba7b-ff17-41f2-aa7f-eb50d49a83fd"
      },
      "outputs": [
        {
          "name": "stdout",
          "output_type": "stream",
          "text": [
            "Average cumulative reward: 500.0\n",
            "Is my agent good enough? True\n"
          ]
        }
      ],
      "source": [
        "print(\"Average cumulative reward:\", np.mean(episode_results))\n",
        "print(\"Is my agent good enough?\", np.mean(episode_results) > 195)"
      ]
    },
    {
      "cell_type": "markdown",
      "metadata": {
        "id": "Yg0DCT38lFA6"
      },
      "source": [
        "## Task 3: Render one episode played by the agent"
      ]
    },
    {
      "cell_type": "markdown",
      "metadata": {
        "id": "vx1awMr9lc_w"
      },
      "source": [
        "Plug your agent to the code below to obtain rendered result."
      ]
    },
    {
      "cell_type": "code",
      "execution_count": 23,
      "metadata": {
        "colab": {
          "base_uri": "https://localhost:8080/",
          "height": 421
        },
        "id": "LYyavfbIa47D",
        "outputId": "10c2f1e7-f3b9-4975-ed25-7c380966a56c"
      },
      "outputs": [
        {
          "name": "stdout",
          "output_type": "stream",
          "text": [
            "Cumulative reward: 500.0\n"
          ]
        },
        {
          "data": {
            "text/html": [
              "\n",
              "        <video alt=\"Recorded video\" autoplay loop controls style=\"height: 400px;\">\n",
              "            <source src=\"data:video/mp4;base64,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\" type=\"video/mp4\" />\n",
              "        </video>\n",
              "        "
            ],
            "text/plain": [
              "<IPython.core.display.HTML object>"
            ]
          },
          "metadata": {},
          "output_type": "display_data"
        }
      ],
      "source": [
        "import gymnasium as gym\n",
        "from gymnasium.wrappers import RecordVideo\n",
        "import random\n",
        "\n",
        "# Create environment with correct render mode\n",
        "env = gym.make(\"CartPole-v1\", render_mode=\"rgb_array\")\n",
        "\n",
        "# Wrap it to record video\n",
        "env = RecordVideo(env, video_folder=\"./video\")\n",
        "\n",
        "# Reset environment and unpack the new return format\n",
        "observation, info = env.reset()\n",
        "\n",
        "cumulative_reward = 0\n",
        "terminated = False\n",
        "truncated = False\n",
        "\n",
        "while not (terminated or truncated):\n",
        "        action = Reinforcement_Learning_agent(state)\n",
        "        \n",
        "        next_state, reward, terminated, truncated, info = env.step(action)\n",
        "        state = next_state\n",
        "        cumulative_reward += reward\n",
        "        cumulative_reward_results+=reward\n",
        "\n",
        "env.close()\n",
        "\n",
        "print(\"Cumulative reward:\", cumulative_reward)\n",
        "\n",
        "# Show video if you're in Jupyter\n",
        "show_video()\n"
      ]
    }
  ],
  "metadata": {
    "colab": {
      "authorship_tag": "ABX9TyNczA+lJQOKjOo4XtzYjWQc",
      "include_colab_link": true,
      "provenance": []
    },
    "kernelspec": {
      "display_name": ".venv",
      "language": "python",
      "name": "python3"
    },
    "language_info": {
      "codemirror_mode": {
        "name": "ipython",
        "version": 3
      },
      "file_extension": ".py",
      "mimetype": "text/x-python",
      "name": "python",
      "nbconvert_exporter": "python",
      "pygments_lexer": "ipython3",
      "version": "3.11.4"
    }
  },
  "nbformat": 4,
  "nbformat_minor": 0
}
