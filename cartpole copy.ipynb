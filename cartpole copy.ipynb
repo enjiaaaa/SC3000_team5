{
  "cells": [
    {
      "cell_type": "markdown",
      "metadata": {
        "colab_type": "text",
        "id": "view-in-github"
      },
      "source": [
        "<a href=\"https://colab.research.google.com/github/yue-zhongqi/cartpole_colab/blob/main/cartpole.ipynb\" target=\"_parent\"><img src=\"https://colab.research.google.com/assets/colab-badge.svg\" alt=\"Open In Colab\"/></a>"
      ]
    },
    {
      "cell_type": "markdown",
      "metadata": {
        "id": "ZauhjPSfX7pI"
      },
      "source": [
        "# Tutorial and Sample Code for Balancing a Pole on a Cart"
      ]
    },
    {
      "cell_type": "markdown",
      "metadata": {
        "id": "UBiYOoesYMvr"
      },
      "source": [
        "## Installing dependencies:"
      ]
    },
    {
      "cell_type": "code",
      "execution_count": null,
      "metadata": {
        "colab": {
          "base_uri": "https://localhost:8080/"
        },
        "id": "PbgnVwZmX5uW",
        "outputId": "7dcfe5ac-b419-4d5d-8305-1ba3c1240df3"
      },
      "outputs": [],
      "source": []
    },
    {
      "cell_type": "markdown",
      "metadata": {
        "id": "RwKbYeTgbaTA"
      },
      "source": [
        "## Importing dependencies and define helper functions"
      ]
    },
    {
      "cell_type": "code",
      "execution_count": 40,
      "metadata": {
        "id": "j6KpgCLGYWmj"
      },
      "outputs": [],
      "source": [
        "import gymnasium\n",
        "from gymnasium.wrappers import RecordVideo\n",
        "from gymnasium import logger as gymlogger\n",
        "\n",
        "import tensorflow as tf\n",
        "import numpy as np\n",
        "import random\n",
        "import matplotlib.pyplot as plt\n",
        "%matplotlib inline \n",
        "\n",
        "import math\n",
        "import glob\n",
        "import io\n",
        "import base64\n",
        "from IPython.display import HTML\n",
        "from IPython import display as ipythondisplay\n",
        "\n",
        "# Set gym logger level to show only errors\n",
        "import logging\n",
        "# gymlogger.setLevel(logging.ERROR)\n",
        "\n",
        "# # Function to display a recorded video from the 'video/' directory\n",
        "# def show_video():\n",
        "#     mp4list = glob.glob('video/*.mp4')\n",
        "#     if len(mp4list) > 0:\n",
        "#         mp4 = mp4list[0]\n",
        "#         video = io.open(mp4, 'r+b').read()\n",
        "#         encoded = base64.b64encode(video).decode('ascii')\n",
        "#         display_html = f'''\n",
        "#         <video alt=\"Recorded video\" autoplay loop controls style=\"height: 400px;\">\n",
        "#             <source src=\"data:video/mp4;base64,{encoded}\" type=\"video/mp4\" />\n",
        "#         </video>\n",
        "#         '''\n",
        "#         ipythondisplay.display(HTML(display_html))\n",
        "#     else: \n",
        "#         print(\"⚠️ Could not find any video in the 'video/' folder.\")\n"
      ]
    },
    {
      "cell_type": "markdown",
      "metadata": {},
      "source": []
    },
    {
      "cell_type": "markdown",
      "metadata": {
        "id": "ehbqP9CXbmo7"
      },
      "source": [
        "## Tutorial: Loading CartPole environment"
      ]
    },
    {
      "cell_type": "code",
      "execution_count": 29,
      "metadata": {
        "id": "Go12dH4qbwBy"
      },
      "outputs": [
        {
          "name": "stdout",
          "output_type": "stream",
          "text": [
            "Discrete(2)\n",
            "Box([-4.8               -inf -0.41887903        -inf], [4.8               inf 0.41887903        inf], (4,), float32)\n"
          ]
        }
      ],
      "source": [
        "env = gymnasium.make(\"CartPole-v1\")\n",
        "print(env.action_space)\n",
        "print(env.observation_space)"
      ]
    },
    {
      "cell_type": "markdown",
      "metadata": {
        "id": "9XZ9g3xrcAXE"
      },
      "source": [
        "We can check the action and observation space of this environment. Discrete(2) means that there are two valid discrete actions: 0 & 1."
      ]
    },
    {
      "cell_type": "markdown",
      "metadata": {
        "id": "pVXGWi_Ncfg-"
      },
      "source": [
        "The observation space is given below. The first two arrays define the min and max values of the 4 observed values, corresponding to cart position, velocity and pole angle, angular velocity."
      ]
    },
    {
      "cell_type": "code",
      "execution_count": 30,
      "metadata": {
        "colab": {
          "base_uri": "https://localhost:8080/"
        },
        "id": "DyqHr9I5cdkX",
        "outputId": "369a0733-e7c0-4bca-b427-5e1c603ff074"
      },
      "outputs": [
        {
          "name": "stdout",
          "output_type": "stream",
          "text": [
            "initial observation (array([-0.04871361, -0.00962755,  0.00700758,  0.01347749], dtype=float32), {})\n",
            "actionSpaceDiscrete(2)\n",
            "actionSpaceBox([-4.8               -inf -0.41887903        -inf], [4.8               inf 0.41887903        inf], (4,), float32)\n"
          ]
        }
      ],
      "source": [
        "observation = env.reset()\n",
        "print(\"initial observation\", observation)\n",
        "print(\"actionSpace{}\".format(env.action_space))\n",
        "print(\"actionSpace{}\".format(env.observation_space))"
      ]
    },
    {
      "cell_type": "code",
      "execution_count": 31,
      "metadata": {
        "colab": {
          "base_uri": "https://localhost:8080/"
        },
        "id": "MmfMDvyYdWGk",
        "outputId": "fa12ffd8-6707-4cbc-fb86-aef8484d5d17"
      },
      "outputs": [
        {
          "name": "stdout",
          "output_type": "stream",
          "text": [
            "New observations after choosing action 0: [-0.04890616 -0.20484929  0.00727713  0.30836314]\n",
            "Reward for this step: 1.0\n",
            "Done? False\n"
          ]
        }
      ],
      "source": [
        "observation, reward, terminated, truncated, info = env.step(0)\n",
        "done = terminated or truncated\n",
        "\n",
        "print(\"New observations after choosing action 0:\", observation)\n",
        "print(\"Reward for this step:\", reward)\n",
        "print(\"Done?\", done)\n"
      ]
    },
    {
      "cell_type": "markdown",
      "metadata": {
        "id": "tj0zCh59fhBb"
      },
      "source": [
        "Now we can play a full round of the game using a naive strategy (always choosing action 0), and show the cumulative reward in the round. Note that reward returned by env.step(*) corresponds to the reward for current step. So we have to accumulate the reward for each step. Clearly, the naive strategy performs poorly by surviving only a dozen of steps."
      ]
    },
    {
      "cell_type": "code",
      "execution_count": 32,
      "metadata": {
        "colab": {
          "base_uri": "https://localhost:8080/"
        },
        "id": "AVucQVRwf6Jm",
        "outputId": "72f0b7d5-7cb5-4e37-da3d-997c1bfb4641"
      },
      "outputs": [
        {
          "name": "stdout",
          "output_type": "stream",
          "text": [
            "Cumulative reward for this round: 8.0\n"
          ]
        }
      ],
      "source": [
        "observation, info = env.reset()\n",
        "cumulative_reward = 0\n",
        "terminated = False\n",
        "truncated = False\n",
        "\n",
        "while not (terminated or truncated):\n",
        "    observation, reward, terminated, truncated, info = env.step(0)\n",
        "    cumulative_reward += reward\n",
        "\n",
        "print(\"Cumulative reward for this round:\", cumulative_reward)\n"
      ]
    },
    {
      "cell_type": "markdown",
      "metadata": {
        "id": "2oIzK9SzhlWN"
      },
      "source": [
        "## Task 1: Development of an RL agent"
      ]
    },
    {
      "cell_type": "markdown",
      "metadata": {
        "id": "Cc6_e5c_huiq"
      },
      "source": [
        "Initialize of parameters\n"
      ]
    },
    {
      "cell_type": "code",
      "execution_count": 45,
      "metadata": {},
      "outputs": [
        {
          "name": "stdout",
          "output_type": "stream",
          "text": [
            "initial observation [ 0.06709207 -0.1553005  -0.21051218 -0.2912455 ]\n",
            "actionSpaceDiscrete(2)\n",
            "actionSpaceBox([-4.8               -inf -0.41887903        -inf], [4.8               inf 0.41887903        inf], (4,), float32)\n"
          ]
        }
      ],
      "source": [
        "# Parameters\n",
        "LEARNING_RATE = 0.1\n",
        "DISCOUNT = 0.95\n",
        "EPISODES = 8000\n",
        "epsilon = 1.0\n",
        "epsilon_decay = 0.99944\n",
        "min_epsilon = 0.01\n",
        "print(\"initial observation\", observation)\n",
        "print(\"actionSpace{}\".format(env.action_space))\n",
        "print(\"actionSpace{}\".format(env.observation_space))\n",
        "# State space discretization\n",
        "bins = [6, 6, 12, 50]\n",
        "\n",
        "lower_bounds = np.array([-4.8, -5.0, -0.418, -5.0])\n",
        "upper_bounds = np.array([4.8, 5.0, 0.418, 5.0])\n",
        "\n",
        "bin_sizes = (upper_bounds - lower_bounds) / bins\n",
        "\n",
        "# Q-table\n",
        "q_table = np.random.uniform(low=0, high=1, size=(bins + [env.action_space.n]))"
      ]
    },
    {
      "cell_type": "code",
      "execution_count": 46,
      "metadata": {
        "id": "Hk-M4QEfh6l5"
      },
      "outputs": [],
      "source": [
        "def get_discrete_state(state):\n",
        "    clipped = np.clip(state, lower_bounds, upper_bounds)\n",
        "    discrete = ((clipped - lower_bounds) / bin_sizes).astype(int)\n",
        "    discrete = np.clip(discrete, 0, np.array(bins) - 1)  # prevent overflow\n",
        "    return tuple(discrete)\n"
      ]
    },
    {
      "cell_type": "markdown",
      "metadata": {
        "id": "RAi7KKwNiegR"
      },
      "source": [
        "For Task 1, we can show the observation and chosen action below:"
      ]
    },
    {
      "cell_type": "code",
      "execution_count": 47,
      "metadata": {
        "colab": {
          "base_uri": "https://localhost:8080/"
        },
        "id": "ae2ia-vUiNKJ",
        "outputId": "22c614ca-5ba0-43d3-d27a-d79073b5d04e"
      },
      "outputs": [],
      "source": [
        "rewards_per_episode = []\n"
      ]
    },
    {
      "cell_type": "code",
      "execution_count": 48,
      "metadata": {},
      "outputs": [
        {
          "name": "stdout",
          "output_type": "stream",
          "text": [
            "Episode 0 | Avg Reward (last 100): 16.00 | Epsilon: 0.9994\n",
            "Episode 500 | Avg Reward (last 100): 24.21 | Epsilon: 0.7553\n",
            "Episode 1000 | Avg Reward (last 100): 38.46 | Epsilon: 0.5708\n",
            "Episode 1500 | Avg Reward (last 100): 74.72 | Epsilon: 0.4314\n",
            "Episode 2000 | Avg Reward (last 100): 152.32 | Epsilon: 0.3260\n",
            "Episode 2500 | Avg Reward (last 100): 233.95 | Epsilon: 0.2464\n",
            "Episode 3000 | Avg Reward (last 100): 244.55 | Epsilon: 0.1862\n",
            "Episode 3500 | Avg Reward (last 100): 340.14 | Epsilon: 0.1407\n",
            "Episode 4000 | Avg Reward (last 100): 284.80 | Epsilon: 0.1063\n",
            "Episode 4500 | Avg Reward (last 100): 452.04 | Epsilon: 0.0804\n",
            "Episode 5000 | Avg Reward (last 100): 276.76 | Epsilon: 0.0607\n",
            "Episode 5500 | Avg Reward (last 100): 432.82 | Epsilon: 0.0459\n",
            "Episode 6000 | Avg Reward (last 100): 497.07 | Epsilon: 0.0347\n",
            "Episode 6500 | Avg Reward (last 100): 185.23 | Epsilon: 0.0262\n",
            "Episode 7000 | Avg Reward (last 100): 497.00 | Epsilon: 0.0198\n",
            "Episode 7500 | Avg Reward (last 100): 488.54 | Epsilon: 0.0150\n"
          ]
        }
      ],
      "source": [
        "# terminated = False\n",
        "# truncated = False\n",
        "\n",
        "# while not (terminated or truncated):\n",
        "#     observation, reward, terminated, truncated, info = env.step(0)\n",
        "#     cumulative_reward += reward\n",
        "\n",
        "for episode in range(EPISODES):\n",
        "    state, _ = env.reset()\n",
        "    discrete_state = get_discrete_state(state)\n",
        "    total_reward = 0\n",
        "    done = False\n",
        "    terminated = False\n",
        "    truncated = False\n",
        "\n",
        "\n",
        "    while not (terminated or truncated):\n",
        "        # Epsilon-greedy action selection\n",
        "        if np.random.random() < epsilon:\n",
        "            action = env.action_space.sample()\n",
        "        else:\n",
        "            action = np.argmax(q_table[discrete_state])\n",
        "\n",
        "        # next_state, reward, done, _, _ = env.step(action)\n",
        "        next_state, reward, terminated, truncated, info = env.step(action)\n",
        "\n",
        "        next_discrete_state = get_discrete_state(next_state)\n",
        "\n",
        "        # Update Q-table using Bellman Equation\n",
        "        max_future_q = np.max(q_table[next_discrete_state])\n",
        "        current_q = q_table[discrete_state + (action,)]\n",
        "        new_q = (1 - LEARNING_RATE) * current_q + LEARNING_RATE * (reward + DISCOUNT * max_future_q)\n",
        "        q_table[discrete_state + (action,)] = new_q\n",
        "\n",
        "        discrete_state = next_discrete_state\n",
        "        total_reward += reward\n",
        "\n",
        "    # Decay epsilon\n",
        "    if epsilon > min_epsilon:\n",
        "        epsilon *= epsilon_decay\n",
        "        epsilon = max(min_epsilon, epsilon)\n",
        "\n",
        "    rewards_per_episode.append(total_reward)\n",
        "\n",
        "    # Optional: print progress\n",
        "    if episode % 500 == 0:\n",
        "        avg = np.mean(rewards_per_episode[-100:])\n",
        "        print(f\"Episode {episode} | Avg Reward (last 100): {avg:.2f} | Epsilon: {epsilon:.4f}\")"
      ]
    },
    {
      "cell_type": "markdown",
      "metadata": {
        "id": "-XtIQ0Rti1gm"
      },
      "source": [
        "## Task 2: Demonstrate the effectiveness of the RL agent"
      ]
    },
    {
      "cell_type": "markdown",
      "metadata": {
        "id": "djBEShf0kGI4"
      },
      "source": [
        "For this task, use the agent developed in Task 1 to play the game for 100 episodes (refer to tutorial for how to play a round), record the cumulative reward for each round, and plot the reward for each round. A sample plotting code is given below. Note that you must include code to play for 100 episodes and use the code to obtain round_results for plotting. DO NOT record the round results in advance and paste the results to the notebook."
      ]
    },
    {
      "cell_type": "code",
      "execution_count": 49,
      "metadata": {
        "colab": {
          "base_uri": "https://localhost:8080/",
          "height": 295
        },
        "id": "RZrCKywQi6CE",
        "outputId": "e304ecc5-14b6-4cf1-831b-dcb42eb46351"
      },
      "outputs": [
        {
          "data": {
            "image/png": "[encoded data removed]",
            "text/plain": [
              "<Figure size 640x480 with 1 Axes>"
            ]
          },
          "metadata": {},
          "output_type": "display_data"
        }
      ],
      "source": [
        "episode_results = np.random.randint(150, 250, size=100)\n",
        "plt.plot(episode_results)\n",
        "\n",
        "plt.title('Cumulative reward for each episode')\n",
        "plt.ylabel('Cumulative reward')\n",
        "plt.xlabel('episode')\n",
        "plt.show()"
      ]
    },
    {
      "cell_type": "markdown",
      "metadata": {
        "id": "XndSYH7wlvn7"
      },
      "source": [
        "Print the average reward over the 100 episodes."
      ]
    },
    {
      "cell_type": "code",
      "execution_count": 38,
      "metadata": {
        "colab": {
          "base_uri": "https://localhost:8080/"
        },
        "id": "pOiOp9OYlo5Y",
        "outputId": "7a02ba7b-ff17-41f2-aa7f-eb50d49a83fd"
      },
      "outputs": [
        {
          "name": "stdout",
          "output_type": "stream",
          "text": [
            "Average cumulative reward: 199.86\n",
            "Is my agent good enough? True\n"
          ]
        }
      ],
      "source": [
        "print(\"Average cumulative reward:\", episode_results.mean())\n",
        "print(\"Is my agent good enough?\", episode_results.mean() > 195)"
      ]
    },
    {
      "cell_type": "markdown",
      "metadata": {
        "id": "Yg0DCT38lFA6"
      },
      "source": [
        "## Task 3: Render one episode played by the agent"
      ]
    },
    {
      "cell_type": "markdown",
      "metadata": {
        "id": "vx1awMr9lc_w"
      },
      "source": [
        "Plug your agent to the code below to obtain rendered result."
      ]
    },
    {
      "cell_type": "code",
      "execution_count": 39,
      "metadata": {
        "colab": {
          "base_uri": "https://localhost:8080/",
          "height": 421
        },
        "id": "LYyavfbIa47D",
        "outputId": "10c2f1e7-f3b9-4975-ed25-7c380966a56c"
      },
      "outputs": [
        {
          "name": "stderr",
          "output_type": "stream",
          "text": [
            "c:\\Users\\calvi\\source\\repos\\SC3000_team5\\.venv\\Lib\\site-packages\\gymnasium\\wrappers\\rendering.py:283: UserWarning: \u001b[33mWARN: Overwriting existing videos at c:\\Users\\calvi\\source\\repos\\SC3000_team5\\video folder (try specifying a different `video_folder` for the `RecordVideo` wrapper if this is not desired)\u001b[0m\n",
            "  logger.warn(\n"
          ]
        },
        {
          "name": "stdout",
          "output_type": "stream",
          "text": [
            "Cumulative reward: 23.0\n"
          ]
        },
        {
          "ename": "NameError",
          "evalue": "name 'show_video' is not defined",
          "output_type": "error",
          "traceback": [
            "\u001b[31m---------------------------------------------------------------------------\u001b[39m",
            "\u001b[31mNameError\u001b[39m                                 Traceback (most recent call last)",
            "\u001b[36mCell\u001b[39m\u001b[36m \u001b[39m\u001b[32mIn[39]\u001b[39m\u001b[32m, line 29\u001b[39m\n\u001b[32m     26\u001b[39m \u001b[38;5;28mprint\u001b[39m(\u001b[33m\"\u001b[39m\u001b[33mCumulative reward:\u001b[39m\u001b[33m\"\u001b[39m, cumulative_reward)\n\u001b[32m     28\u001b[39m \u001b[38;5;66;03m# Show video if you're in Jupyter\u001b[39;00m\n\u001b[32m---> \u001b[39m\u001b[32m29\u001b[39m \u001b[43mshow_video\u001b[49m()\n",
            "\u001b[31mNameError\u001b[39m: name 'show_video' is not defined"
          ]
        }
      ],
      "source": [
        "import gymnasium as gym\n",
        "from gymnasium.wrappers import RecordVideo\n",
        "import random\n",
        "\n",
        "# Create environment with correct render mode\n",
        "env = gym.make(\"CartPole-v1\", render_mode=\"rgb_array\")\n",
        "\n",
        "# Wrap it to record video\n",
        "env = RecordVideo(env, video_folder=\"./video\")\n",
        "\n",
        "# Reset environment and unpack the new return format\n",
        "observation, info = env.reset()\n",
        "\n",
        "cumulative_reward = 0\n",
        "terminated = False\n",
        "truncated = False\n",
        "\n",
        "while not (terminated or truncated):\n",
        "    env.render()  # Optional in render_mode=\"rgb_array\", mostly needed if you use human mode\n",
        "    action = env.action_space.sample()  # Replace with your policy if needed\n",
        "    observation, reward, terminated, truncated, info = env.step(action)\n",
        "    cumulative_reward += reward\n",
        "\n",
        "env.close()\n",
        "\n",
        "print(\"Cumulative reward:\", cumulative_reward)\n",
        "\n",
        "# Show video if you're in Jupyter\n",
        "show_video()\n"
      ]
    },
    {
      "cell_type": "code",
      "execution_count": null,
      "metadata": {},
      "outputs": [],
      "source": []
    }
  ],
  "metadata": {
    "colab": {
      "authorship_tag": "ABX9TyNczA+lJQOKjOo4XtzYjWQc",
      "include_colab_link": true,
      "provenance": []
    },
    "kernelspec": {
      "display_name": ".venv",
      "language": "python",
      "name": "python3"
    },
    "language_info": {
      "codemirror_mode": {
        "name": "ipython",
        "version": 3
      },
      "file_extension": ".py",
      "mimetype": "text/x-python",
      "name": "python",
      "nbconvert_exporter": "python",
      "pygments_lexer": "ipython3",
      "version": "3.12.6"
    }
  },
  "nbformat": 4,
  "nbformat_minor": 0
}
