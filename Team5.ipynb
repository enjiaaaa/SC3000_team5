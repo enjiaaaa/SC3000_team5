{
  "cells": [
    {
      "cell_type": "markdown",
      "metadata": {
        "colab_type": "text",
        "id": "view-in-github"
      },
      "source": [
        "<a href=\"https://colab.research.google.com/github/yue-zhongqi/cartpole_colab/blob/main/cartpole.ipynb\" target=\"_parent\"><img src=\"https://colab.research.google.com/assets/colab-badge.svg\" alt=\"Open In Colab\"/></a>"
      ]
    },
    {
      "cell_type": "markdown",
      "metadata": {},
      "source": [
        "# SC3000 Lab Group:SCSB , Group 5\n",
        "\n",
        "Lim En Jia (U2320279L)\n",
        "- Building RL agent (Q-Learnng)\n",
        "- Collects and observes data to formulate results\n",
        "- Documentations\n",
        "\n",
        "\n",
        "\n",
        "Lee Jia Rong (U2322725D)\n",
        "- Building RL agent (Q-Learnng)\n",
        "- Collects and observes data to formulate results\n",
        "- Documentations\n",
        "\n",
        "\n",
        "Ng Zi Yuan (U2321488D)\n",
        "- Building RL agent (Q-Learnng)\n",
        "- Collects and observes data to formulate results\n",
        "- Documentations\n"
      ]
    },
    {
      "cell_type": "markdown",
      "metadata": {
        "id": "ZauhjPSfX7pI"
      },
      "source": [
        "#### Tutorial and Sample Code for Balancing a Pole on a Cart"
      ]
    },
    {
      "cell_type": "markdown",
      "metadata": {
        "id": "RwKbYeTgbaTA"
      },
      "source": [
        "## Importing Dependencies and Define Helper Functions"
      ]
    },
    {
      "cell_type": "code",
      "execution_count": 25,
      "metadata": {
        "id": "j6KpgCLGYWmj"
      },
      "outputs": [],
      "source": [
        "import gymnasium\n",
        "from gymnasium.wrappers import RecordVideo\n",
        "from gymnasium import logger as gymlogger\n",
        "import tensorflow as tf\n",
        "import numpy as np\n",
        "import random\n",
        "import matplotlib.pyplot as plt\n",
        "import math\n",
        "import glob\n",
        "import io\n",
        "import base64\n",
        "from IPython.display import HTML\n",
        "from IPython import display as ipythondisplay\n",
        "import logging\n",
        "\n",
        "#Function to display a recorded video from the 'video/' directory\n",
        "def show_video():\n",
        "    mp4list = glob.glob('video/*.mp4')\n",
        "    if len(mp4list) > 0:\n",
        "        mp4 = mp4list[0]\n",
        "        video = io.open(mp4, 'r+b').read()\n",
        "        encoded = base64.b64encode(video).decode('ascii')\n",
        "        display_html = f'''\n",
        "        <video alt=\"Recorded video\" autoplay loop controls style=\"height: 400px;\">\n",
        "            <source src=\"data:video/mp4;base64,{encoded}\" type=\"video/mp4\" />\n",
        "        </video>\n",
        "        '''\n",
        "        ipythondisplay.display(HTML(display_html))\n",
        "    else: \n",
        "        print(\"⚠️ Could not find any video in the 'video/' folder.\")\n"
      ]
    },
    {
      "cell_type": "markdown",
      "metadata": {
        "id": "ehbqP9CXbmo7"
      },
      "source": [
        "## Tutorial: Loading CartPole environment"
      ]
    },
    {
      "cell_type": "code",
      "execution_count": 26,
      "metadata": {
        "id": "Go12dH4qbwBy"
      },
      "outputs": [
        {
          "name": "stdout",
          "output_type": "stream",
          "text": [
            "Discrete(2)\n",
            "Box([-4.8               -inf -0.41887903        -inf], [4.8               inf 0.41887903        inf], (4,), float32)\n"
          ]
        }
      ],
      "source": [
        "env = gymnasium.make(\"CartPole-v1\")\n",
        "print(env.action_space)\n",
        "print(env.observation_space)"
      ]
    },
    {
      "cell_type": "markdown",
      "metadata": {
        "id": "9XZ9g3xrcAXE"
      },
      "source": [
        "We can check the action and observation space of this environment. Discrete(2) means that there are two valid discrete actions: 0 & 1."
      ]
    },
    {
      "cell_type": "markdown",
      "metadata": {
        "id": "pVXGWi_Ncfg-"
      },
      "source": [
        "The observation space is given below. The first two arrays define the min and max values of the 4 observed values, corresponding to cart position, velocity and pole angle, angular velocity."
      ]
    },
    {
      "cell_type": "code",
      "execution_count": 27,
      "metadata": {
        "colab": {
          "base_uri": "https://localhost:8080/"
        },
        "id": "DyqHr9I5cdkX",
        "outputId": "369a0733-e7c0-4bca-b427-5e1c603ff074"
      },
      "outputs": [
        {
          "name": "stdout",
          "output_type": "stream",
          "text": [
            "initial observation (array([ 0.00760215,  0.03722743,  0.04327421, -0.00629904], dtype=float32), {})\n",
            "actionSpaceDiscrete(2)\n",
            "actionSpaceBox([-4.8               -inf -0.41887903        -inf], [4.8               inf 0.41887903        inf], (4,), float32)\n"
          ]
        }
      ],
      "source": [
        "observation = env.reset()\n",
        "print(\"initial observation\", observation)\n",
        "print(\"actionSpace{}\".format(env.action_space))\n",
        "print(\"actionSpace{}\".format(env.observation_space))"
      ]
    },
    {
      "cell_type": "code",
      "execution_count": 28,
      "metadata": {
        "colab": {
          "base_uri": "https://localhost:8080/"
        },
        "id": "MmfMDvyYdWGk",
        "outputId": "fa12ffd8-6707-4cbc-fb86-aef8484d5d17"
      },
      "outputs": [
        {
          "name": "stdout",
          "output_type": "stream",
          "text": [
            "New observations after choosing action 0: [ 0.0083467  -0.15848756  0.04314823  0.29971725]\n",
            "Reward for this step: 1.0\n",
            "Done? False\n"
          ]
        }
      ],
      "source": [
        "observation, reward, terminated, truncated, info = env.step(0)\n",
        "done = terminated or truncated\n",
        "\n",
        "print(\"New observations after choosing action 0:\", observation)\n",
        "print(\"Reward for this step:\", reward)\n",
        "print(\"Done?\", done)\n"
      ]
    },
    {
      "cell_type": "markdown",
      "metadata": {
        "id": "tj0zCh59fhBb"
      },
      "source": [
        "Now we can play a full round of the game using a naive strategy (always choosing action 0), and show the cumulative reward in the round. Note that reward returned by env.step(*) corresponds to the reward for current step. So we have to accumulate the reward for each step. Clearly, the naive strategy performs poorly by surviving only a dozen of steps."
      ]
    },
    {
      "cell_type": "code",
      "execution_count": 29,
      "metadata": {
        "colab": {
          "base_uri": "https://localhost:8080/"
        },
        "id": "AVucQVRwf6Jm",
        "outputId": "72f0b7d5-7cb5-4e37-da3d-997c1bfb4641"
      },
      "outputs": [
        {
          "name": "stdout",
          "output_type": "stream",
          "text": [
            "Cumulative reward for this round: 9.0\n"
          ]
        }
      ],
      "source": [
        "observation, info = env.reset()\n",
        "cumulative_reward = 0\n",
        "terminated = False\n",
        "truncated = False\n",
        "\n",
        "while not (terminated or truncated):\n",
        "    observation, reward, terminated, truncated, info = env.step(0)\n",
        "    cumulative_reward += reward\n",
        "\n",
        "print(\"Cumulative reward for this round:\", cumulative_reward)\n"
      ]
    },
    {
      "cell_type": "markdown",
      "metadata": {},
      "source": [
        "# Task 1: Development of an RL agent - Q Learning Algorithm\n"
      ]
    },
    {
      "cell_type": "markdown",
      "metadata": {
        "id": "Cc6_e5c_huiq"
      },
      "source": [
        "## Initialization of parameters\n",
        "\n",
        "### Number of Bins\n",
        "Due to different levels of sensitivity of the 4 variables, the number of bins allocated varies.\n",
        "A variable's sensitivity depends on whether small changes to its value affect the environment's behavior greatly.\n",
        "\n",
        "1. Cart Position: There is a lot of room for the cart to move so small errors do not matter much. Therefore, 6 bins are needed.\n",
        "\n",
        "\n",
        "2. Cart Velocity: The cart’s velocity determines how fast it moves (left or right). Since small changes in velocity do not immediately result in failure, they can be easily corrected by applying force in the opposite direction. The cart also has room to adjust over time, making this variable less sensitive. Therefore, 6 bins are needed.\n",
        "\n",
        "3. Pole Angle (θ): If pole leans too far, it becomes harder to recover. Small changes in angle quickly cause instability, requiring more precise control. However, if the angle remains within a decent range, it is still possible to balance the pole. Therefore, 12 bins are needed.\n",
        "\n",
        "4. Pole Angular Velocity (θ'): Most sensitive. Small changes lead to immediate tipping, making balancing the most difficult. If the pole is falling fast, cart movements will not be sufficient to stabilize in time. Therefore, 50 bins are needed.\n",
        "\n",
        "\n",
        "### Lower Bound\n",
        "Based on observation space of the environment\n",
        "Determines the MIN and MAX values each state variable can take\n",
        "\n",
        "\n",
        "### Bin Sizes Calculation\n",
        "To ensure that every bin covers an equal portion of the variable's range\n",
        "\n",
        "### Initialize Q-Table\n",
        "#### What is the Q-Table?\n",
        "Each state (cart position, velocity, pole angle, pole angular velocity) is represented as a discrete index (after discretization)\n",
        "\n",
        "Each action has a Q-value -> to show how good the action is in that particular state\n",
        "\n",
        "RL agent updates the values over time through Q-learning.\n",
        "\n"
      ]
    },
    {
      "cell_type": "code",
      "execution_count": 30,
      "metadata": {},
      "outputs": [
        {
          "name": "stdout",
          "output_type": "stream",
          "text": [
            "initial observation [-0.14113916 -1.7901409   0.21359998  2.76552   ]\n",
            "actionSpaceDiscrete(2)\n",
            "actionSpaceBox([-4.8               -inf -0.41887903        -inf], [4.8               inf 0.41887903        inf], (4,), float32)\n"
          ]
        }
      ],
      "source": [
        "# Parameters\n",
        "LEARNING_RATE = 0.1\n",
        "DISCOUNT = 0.95\n",
        "EPISODES = 15000\n",
        "epsilon = 1.0\n",
        "epsilon_decay = 0.99944\n",
        "min_epsilon = 0.01\n",
        "print(\"initial observation\", observation)\n",
        "print(\"actionSpace{}\".format(env.action_space))\n",
        "print(\"actionSpace{}\".format(env.observation_space))\n",
        "# State space discretization\n",
        "bins = [6, 6, 12, 50]\n",
        "\n",
        "lower_bounds = np.array([-4.8, -5.0, -0.418, -5.0])\n",
        "upper_bounds = np.array([4.8, 5.0, 0.418, 5.0])\n",
        "\n",
        "bin_sizes = (upper_bounds - lower_bounds) / bins\n",
        "\n",
        "# Q-table\n",
        "q_table = np.random.uniform(low=0, high=1, size=(bins + [env.action_space.n]))"
      ]
    },
    {
      "cell_type": "markdown",
      "metadata": {},
      "source": [
        "### Convert the next continuous state into a discrete state.\n"
      ]
    },
    {
      "cell_type": "code",
      "execution_count": 31,
      "metadata": {
        "id": "Hk-M4QEfh6l5"
      },
      "outputs": [],
      "source": [
        "def get_discrete_state(state):\n",
        "    clipped = np.clip(state, lower_bounds, upper_bounds)\n",
        "    discrete = ((clipped - lower_bounds) / bin_sizes)\n",
        "    discrete = np.clip(discrete, 0, np.array(bins) - 1).astype(int) \n",
        "    return tuple(discrete)\n"
      ]
    },
    {
      "cell_type": "markdown",
      "metadata": {
        "id": "RAi7KKwNiegR"
      },
      "source": [
        "For Task 1, we can show the observation and chosen action below:"
      ]
    },
    {
      "cell_type": "code",
      "execution_count": 32,
      "metadata": {
        "colab": {
          "base_uri": "https://localhost:8080/"
        },
        "id": "ae2ia-vUiNKJ",
        "outputId": "22c614ca-5ba0-43d3-d27a-d79073b5d04e"
      },
      "outputs": [],
      "source": [
        "rewards_per_episode = []\n"
      ]
    },
    {
      "cell_type": "markdown",
      "metadata": {},
      "source": [
        "# Q-Learning Training\n",
        "* Loop through every episodes\n",
        "* Reset after every episode\n",
        "* Convert continuous state into discrete state\n",
        "* Initialize reward = 0\n",
        "* Flags to track\n",
        "\n",
        "We run the episode until termination or truncation.\n",
        "### Epsilon-greedy action selection\n",
        "## EXPLORATION\n",
        "If random number generated < epsilon, get random action from the environment's action space.\n",
        "## EXPLOITATION\n",
        "Else, selects the best-known action from Q-table\n",
        "\n",
        "Use the selected action to observe the next state and reward.\n",
        "\n",
        "\n",
        "\n",
        "\n",
        "\n",
        "\n",
        "\n",
        "\n",
        "\n",
        "\n",
        "\n"
      ]
    },
    {
      "cell_type": "markdown",
      "metadata": {},
      "source": [
        "#### Set initial environment for cartpole"
      ]
    },
    {
      "cell_type": "code",
      "execution_count": 33,
      "metadata": {},
      "outputs": [],
      "source": [
        "env = gymnasium.make(\"CartPole-v1\")\n"
      ]
    },
    {
      "cell_type": "code",
      "execution_count": 34,
      "metadata": {},
      "outputs": [
        {
          "name": "stdout",
          "output_type": "stream",
          "text": [
            "Episode 0 | Avg Reward (last 100): 14.00 | Epsilon: 0.9994\n",
            "Episode 500 | Avg Reward (last 100): 26.93 | Epsilon: 0.7553\n",
            "Episode 1000 | Avg Reward (last 100): 43.17 | Epsilon: 0.5708\n",
            "Episode 1500 | Avg Reward (last 100): 87.07 | Epsilon: 0.4314\n",
            "Episode 2000 | Avg Reward (last 100): 156.95 | Epsilon: 0.3260\n",
            "Episode 2500 | Avg Reward (last 100): 268.61 | Epsilon: 0.2464\n",
            "Episode 3000 | Avg Reward (last 100): 310.30 | Epsilon: 0.1862\n",
            "Episode 3500 | Avg Reward (last 100): 272.01 | Epsilon: 0.1407\n",
            "Episode 4000 | Avg Reward (last 100): 443.55 | Epsilon: 0.1063\n",
            "Episode 4500 | Avg Reward (last 100): 491.20 | Epsilon: 0.0804\n",
            "Episode 5000 | Avg Reward (last 100): 338.37 | Epsilon: 0.0607\n",
            "Episode 5500 | Avg Reward (last 100): 331.99 | Epsilon: 0.0459\n",
            "Episode 6000 | Avg Reward (last 100): 303.22 | Epsilon: 0.0347\n",
            "Episode 6500 | Avg Reward (last 100): 432.05 | Epsilon: 0.0262\n",
            "Episode 7000 | Avg Reward (last 100): 197.22 | Epsilon: 0.0198\n",
            "Episode 7500 | Avg Reward (last 100): 238.92 | Epsilon: 0.0150\n",
            "Episode 8000 | Avg Reward (last 100): 252.05 | Epsilon: 0.0113\n",
            "Episode 8500 | Avg Reward (last 100): 216.33 | Epsilon: 0.0100\n",
            "Episode 9000 | Avg Reward (last 100): 166.67 | Epsilon: 0.0100\n",
            "Episode 9500 | Avg Reward (last 100): 174.94 | Epsilon: 0.0100\n",
            "Episode 10000 | Avg Reward (last 100): 207.71 | Epsilon: 0.0100\n",
            "Episode 10500 | Avg Reward (last 100): 168.81 | Epsilon: 0.0100\n",
            "Episode 11000 | Avg Reward (last 100): 344.31 | Epsilon: 0.0100\n",
            "Episode 11500 | Avg Reward (last 100): 218.51 | Epsilon: 0.0100\n",
            "Episode 12000 | Avg Reward (last 100): 169.21 | Epsilon: 0.0100\n",
            "Episode 12500 | Avg Reward (last 100): 200.77 | Epsilon: 0.0100\n",
            "Episode 13000 | Avg Reward (last 100): 171.38 | Epsilon: 0.0100\n",
            "Episode 13500 | Avg Reward (last 100): 303.18 | Epsilon: 0.0100\n",
            "Episode 14000 | Avg Reward (last 100): 500.00 | Epsilon: 0.0100\n",
            "Episode 14500 | Avg Reward (last 100): 236.86 | Epsilon: 0.0100\n"
          ]
        }
      ],
      "source": [
        "for episode in range(EPISODES):\n",
        "    state, _ = env.reset()\n",
        "\n",
        "    discrete_state = get_discrete_state(state)\n",
        "    total_reward = 0\n",
        "    done = False\n",
        "    terminated = False\n",
        "    truncated = False\n",
        "\n",
        "\n",
        "    while not (terminated or truncated):\n",
        "        # Epsilon-greedy action selection\n",
        "        if np.random.random() < epsilon:\n",
        "            action = env.action_space.sample()\n",
        "        else:\n",
        "            action = np.argmax(q_table[discrete_state])\n",
        "\n",
        "        # next_state, reward, done, _, _ = env.step(action)\n",
        "        next_state, reward, terminated, truncated, info = env.step(action)\n",
        "        \n",
        "        # move to the next state\n",
        "        next_discrete_state = get_discrete_state(next_state)\n",
        "\n",
        "        # retrieve the maximum Q-value for the next state\n",
        "        # get the current Q-value for the taken action\n",
        "\n",
        "        max_future_q = np.max(q_table[next_discrete_state])\n",
        "        current_q = q_table[discrete_state + (action,)]\n",
        "        \n",
        "        # update Q-table using Bellman Equation\n",
        "        new_q = (1 - LEARNING_RATE) * current_q + LEARNING_RATE * (reward + DISCOUNT * max_future_q)\n",
        "        q_table[discrete_state + (action,)] = new_q\n",
        "\n",
        "        discrete_state = next_discrete_state\n",
        "        total_reward += reward\n",
        "\n",
        "    # decay epsilon for exploration-exploitation trade-off\n",
        "    if epsilon > min_epsilon:\n",
        "        epsilon *= epsilon_decay\n",
        "        epsilon = max(min_epsilon, epsilon)\n",
        "\n",
        "    # accumulate reward for performance tracking\n",
        "    # store total reward for analysis\n",
        "    rewards_per_episode.append(total_reward)\n",
        "\n",
        "    # print progress every 500 episodes\n",
        "    if episode % 500 == 0:\n",
        "        avg = np.mean(rewards_per_episode[-100:])\n",
        "        print(f\"Episode {episode} | Avg Reward (last 100): {avg:.2f} | Epsilon: {epsilon:.4f}\")"
      ]
    },
    {
      "cell_type": "code",
      "execution_count": 35,
      "metadata": {},
      "outputs": [],
      "source": [
        "def Reinforcement_Learning_agent(state):\n",
        "    discrete_state=get_discrete_state(state)\n",
        "    action = np.argmax(q_table[discrete_state]) \n",
        "    return action"
      ]
    },
    {
      "cell_type": "markdown",
      "metadata": {
        "id": "-XtIQ0Rti1gm"
      },
      "source": [
        "## Task 2: Demonstrate the effectiveness of the RL agent"
      ]
    },
    {
      "cell_type": "markdown",
      "metadata": {},
      "source": [
        "Print the cumulative reward "
      ]
    },
    {
      "cell_type": "code",
      "execution_count": 36,
      "metadata": {},
      "outputs": [
        {
          "name": "stdout",
          "output_type": "stream",
          "text": [
            "Cumulative reward for round 1: 500.0\n",
            "Cumulative reward for round 2: 500.0\n",
            "Cumulative reward for round 3: 500.0\n",
            "Cumulative reward for round 4: 500.0\n",
            "Cumulative reward for round 5: 500.0\n",
            "Cumulative reward for round 6: 500.0\n",
            "Cumulative reward for round 7: 500.0\n",
            "Cumulative reward for round 8: 500.0\n",
            "Cumulative reward for round 9: 500.0\n",
            "Cumulative reward for round 10: 500.0\n",
            "Cumulative reward for round 11: 500.0\n",
            "Cumulative reward for round 12: 500.0\n",
            "Cumulative reward for round 13: 500.0\n",
            "Cumulative reward for round 14: 500.0\n",
            "Cumulative reward for round 15: 500.0\n",
            "Cumulative reward for round 16: 500.0\n",
            "Cumulative reward for round 17: 500.0\n",
            "Cumulative reward for round 18: 500.0\n",
            "Cumulative reward for round 19: 500.0\n",
            "Cumulative reward for round 20: 500.0\n",
            "Cumulative reward for round 21: 500.0\n",
            "Cumulative reward for round 22: 500.0\n",
            "Cumulative reward for round 23: 500.0\n",
            "Cumulative reward for round 24: 500.0\n",
            "Cumulative reward for round 25: 500.0\n",
            "Cumulative reward for round 26: 500.0\n",
            "Cumulative reward for round 27: 500.0\n",
            "Cumulative reward for round 28: 500.0\n",
            "Cumulative reward for round 29: 500.0\n",
            "Cumulative reward for round 30: 500.0\n",
            "Cumulative reward for round 31: 500.0\n",
            "Cumulative reward for round 32: 500.0\n",
            "Cumulative reward for round 33: 500.0\n",
            "Cumulative reward for round 34: 500.0\n",
            "Cumulative reward for round 35: 500.0\n",
            "Cumulative reward for round 36: 500.0\n",
            "Cumulative reward for round 37: 500.0\n",
            "Cumulative reward for round 38: 500.0\n",
            "Cumulative reward for round 39: 500.0\n",
            "Cumulative reward for round 40: 500.0\n",
            "Cumulative reward for round 41: 500.0\n",
            "Cumulative reward for round 42: 500.0\n",
            "Cumulative reward for round 43: 500.0\n",
            "Cumulative reward for round 44: 500.0\n",
            "Cumulative reward for round 45: 500.0\n",
            "Cumulative reward for round 46: 500.0\n",
            "Cumulative reward for round 47: 500.0\n",
            "Cumulative reward for round 48: 500.0\n",
            "Cumulative reward for round 49: 500.0\n",
            "Cumulative reward for round 50: 500.0\n",
            "Cumulative reward for round 51: 500.0\n",
            "Cumulative reward for round 52: 500.0\n",
            "Cumulative reward for round 53: 500.0\n",
            "Cumulative reward for round 54: 500.0\n",
            "Cumulative reward for round 55: 500.0\n",
            "Cumulative reward for round 56: 500.0\n",
            "Cumulative reward for round 57: 500.0\n",
            "Cumulative reward for round 58: 500.0\n",
            "Cumulative reward for round 59: 500.0\n",
            "Cumulative reward for round 60: 500.0\n",
            "Cumulative reward for round 61: 500.0\n",
            "Cumulative reward for round 62: 500.0\n",
            "Cumulative reward for round 63: 500.0\n",
            "Cumulative reward for round 64: 500.0\n",
            "Cumulative reward for round 65: 500.0\n",
            "Cumulative reward for round 66: 500.0\n",
            "Cumulative reward for round 67: 500.0\n",
            "Cumulative reward for round 68: 500.0\n",
            "Cumulative reward for round 69: 500.0\n",
            "Cumulative reward for round 70: 500.0\n",
            "Cumulative reward for round 71: 500.0\n",
            "Cumulative reward for round 72: 500.0\n",
            "Cumulative reward for round 73: 500.0\n",
            "Cumulative reward for round 74: 500.0\n",
            "Cumulative reward for round 75: 500.0\n",
            "Cumulative reward for round 76: 500.0\n",
            "Cumulative reward for round 77: 500.0\n",
            "Cumulative reward for round 78: 500.0\n",
            "Cumulative reward for round 79: 500.0\n",
            "Cumulative reward for round 80: 500.0\n",
            "Cumulative reward for round 81: 500.0\n",
            "Cumulative reward for round 82: 500.0\n",
            "Cumulative reward for round 83: 500.0\n",
            "Cumulative reward for round 84: 500.0\n",
            "Cumulative reward for round 85: 500.0\n",
            "Cumulative reward for round 86: 500.0\n",
            "Cumulative reward for round 87: 500.0\n",
            "Cumulative reward for round 88: 500.0\n",
            "Cumulative reward for round 89: 500.0\n",
            "Cumulative reward for round 90: 500.0\n",
            "Cumulative reward for round 91: 500.0\n",
            "Cumulative reward for round 92: 500.0\n",
            "Cumulative reward for round 93: 500.0\n",
            "Cumulative reward for round 94: 500.0\n",
            "Cumulative reward for round 95: 500.0\n",
            "Cumulative reward for round 96: 500.0\n",
            "Cumulative reward for round 97: 500.0\n",
            "Cumulative reward for round 98: 500.0\n",
            "Cumulative reward for round 99: 500.0\n",
            "Cumulative reward for round 100: 500.0\n"
          ]
        }
      ],
      "source": [
        "env = gymnasium.make(\"CartPole-v1\")\n",
        "test_episodes=100\n",
        "episode_results = []\n",
        "cumulative_reward_results = int(0)\n",
        "for test_episode in range(test_episodes):\n",
        "    observation, info = env.reset()\n",
        "    state = observation\n",
        "\n",
        "    cumulative_reward = 0\n",
        "    terminated = False\n",
        "    truncated = False\n",
        "\n",
        "    while not (terminated or truncated):\n",
        "        action = Reinforcement_Learning_agent(state)\n",
        "        \n",
        "        next_state, reward, terminated, truncated, info = env.step(action)\n",
        "        state = next_state\n",
        "        cumulative_reward += reward\n",
        "        cumulative_reward_results+=reward\n",
        "        \n",
        "    episode_results.append(cumulative_reward)\n",
        "    print(f\"Cumulative reward for round {test_episode + 1}: {cumulative_reward}\")\n"
      ]
    },
    {
      "cell_type": "markdown",
      "metadata": {},
      "source": [
        "Plot the cumulative reward against all episodes "
      ]
    },
    {
      "cell_type": "code",
      "execution_count": 37,
      "metadata": {
        "colab": {
          "base_uri": "https://localhost:8080/",
          "height": 295
        },
        "id": "RZrCKywQi6CE",
        "outputId": "e304ecc5-14b6-4cf1-831b-dcb42eb46351"
      },
      "outputs": [
        {
          "data": {
            "image/png": "[encoded data removed]",
            "text/plain": [
              "<Figure size 640x480 with 1 Axes>"
            ]
          },
          "metadata": {},
          "output_type": "display_data"
        }
      ],
      "source": [
        "plt.plot(episode_results)\n",
        "\n",
        "plt.title('Cumulative reward for each episode')\n",
        "plt.ylabel('Cumulative reward')\n",
        "plt.xlabel('episode')\n",
        "plt.show()"
      ]
    },
    {
      "cell_type": "markdown",
      "metadata": {
        "id": "XndSYH7wlvn7"
      },
      "source": [
        "Print the average reward over the 100 episodes."
      ]
    },
    {
      "cell_type": "code",
      "execution_count": 38,
      "metadata": {
        "colab": {
          "base_uri": "https://localhost:8080/"
        },
        "id": "pOiOp9OYlo5Y",
        "outputId": "7a02ba7b-ff17-41f2-aa7f-eb50d49a83fd"
      },
      "outputs": [
        {
          "name": "stdout",
          "output_type": "stream",
          "text": [
            "Average cumulative reward: 500.0\n",
            "Is my agent good enough? True\n"
          ]
        }
      ],
      "source": [
        "print(\"Average cumulative reward:\", np.mean(episode_results))\n",
        "print(\"Is my agent good enough?\", np.mean(episode_results) > 195)"
      ]
    },
    {
      "cell_type": "markdown",
      "metadata": {
        "id": "Yg0DCT38lFA6"
      },
      "source": [
        "## Task 3: Render one episode played by the agent"
      ]
    },
    {
      "cell_type": "markdown",
      "metadata": {
        "id": "vx1awMr9lc_w"
      },
      "source": [
        "Plug your agent to the code below to obtain rendered result."
      ]
    },
    {
      "cell_type": "code",
      "execution_count": 40,
      "metadata": {
        "colab": {
          "base_uri": "https://localhost:8080/",
          "height": 421
        },
        "id": "LYyavfbIa47D",
        "outputId": "10c2f1e7-f3b9-4975-ed25-7c380966a56c"
      },
      "outputs": [
        {
          "name": "stderr",
          "output_type": "stream",
          "text": [
            "/Users/limenjia/Documents/NTU/SC3000/lab/SC3000_team5/.venv/lib/python3.11/site-packages/gymnasium/wrappers/rendering.py:283: UserWarning: \u001b[33mWARN: Overwriting existing videos at /Users/limenjia/Documents/NTU/SC3000/lab/SC3000_team5/video folder (try specifying a different `video_folder` for the `RecordVideo` wrapper if this is not desired)\u001b[0m\n",
            "  logger.warn(\n"
          ]
        },
        {
          "name": "stdout",
          "output_type": "stream",
          "text": [
            "Cumulative reward: 500.0\n"
          ]
        },
        {
          "data": {
            "text/html": [
              "\n",
              "        <video alt=\"Recorded video\" autoplay loop controls style=\"height: 400px;\">\n",
              "            <source src=\"data:video/mp4;base64,AAAAIGZ0eXBpc29tAAACAGlzb21pc28yYXZjMW1wNDEAAAAIZnJlZQAAYbxtZGF0AAACrwYF//+r3EXpvebZSLeWLNgg2SPu73gyNjQgLSBjb3JlIDE2NCByMzE5MCA3ZWQ3NTNiIC0gSC4yNjQvTVBFRy00IEFWQyBjb2RlYyAtIENvcHlsZWZ0IDIwMDMtMjAyNCAtIGh0dHA6Ly93d3cudmlkZW9sYW4ub3JnL3gyNjQuaHRtbCAtIG9wdGlvbnM6IGNhYmFjPTEgcmVmPTMgZGVibG9jaz0xOjA6MCBhbmFseXNlPTB4MzoweDExMyBtZT1oZXggc3VibWU9NyBwc3k9MSBwc3lfcmQ9MS4wMDowLjAwIG1peGVkX3JlZj0xIG1lX3JhbmdlPTE2IGNocm9tYV9tZT0xIHRyZWxsaXM9MSA4eDhkY3Q9MSBjcW09MCBkZWFkem9uZT0yMSwxMSBmYXN0X3Bza2lwPTEgY2hyb21hX3FwX29mZnNldD0tMiB0aHJlYWRzPTEyIGxvb2thaGVhZF90aHJlYWRzPTIgc2xpY2VkX3RocmVhZHM9MCBucj0wIGRlY2ltYXRlPTEgaW50ZXJsYWNlZD0wIGJsdXJheV9jb21wYXQ9MCBjb25zdHJhaW5lZF9pbnRyYT0wIGJmcmFtZXM9MyBiX3B5cmFtaWQ9MiBiX2FkYXB0PTEgYl9iaWFzPTAgZGlyZWN0PTEgd2VpZ2h0Yj0xIG9wZW5fZ29wPTAgd2VpZ2h0cD0yIGtleWludD0yNTAga2V5aW50X21pbj0yNSBzY2VuZWN1dD00MCBpbnRyYV9yZWZyZXNoPTAgcmNfbG9va2FoZWFkPTQwIHJjPWNyZiBtYnRyZWU9MSBjcmY9MjMuMCBxY29tcD0wLjYwIHFwbWluPTAgcXBtYXg9NjkgcXBzdGVwPTQgaXBfcmF0aW89MS40MCBhcT0xOjEuMDAAgAAAAX9liIQAK//+9nN8CmtHM5UuBXb3ZqPl0JLl+xBg+tAH+AAAAwAAAwAcNMOnUTITHOUAAAMAFxAEeCwCPCVC2EhH2OkMnFu5jwAXJ7ha2IEoLwpPrmsBU+RNGOc+s/wj6ao0Fjwcfk9UZCFt+g5J9pBtuWEVxANKDgtU/+sWwP9Xm30esyJATxAlCoGEkHvmVv7p5wk2F1GHGBd2fneM9H0WjrR7vuITRZcjDEhTeXL1aQu/UcyVuMZoYAHbC1wOLvC005hWWOMeKlzHQlSq8OVFJo9uJHy//M7brUN/Q4v5+Xhjdhw9V552kDTN7rrMCFVKT4QlVA5BfAK1FoIKEsOYi+X0zxSApKEf0zNbPAn3OCXnpkyPaJi3GHu9+YHwv1L3/cyCUJStfIChV53hRCiALinjwdBZUY7m2u8bupG5AgV8Z2MoydCDoFnwGcamtX3e0XjBAlfZ3pXvP/dlboNUlxXFKWGhQWOAGQSOGtg9Z1SZFsAmxMAAAAMAAAMD4wAAADNBmiRsQn/98QAAAwKf1rwH+KYaHDXXc/SICX+vyQa/vU/qWUHeVJ5Hn6XK6RmcPduRhJAAAAATQZ5CeIR/AAADAAZIp0tBAUYKCQAAABIBnmF0R/8AAAMACfC49VtLG9AAAAAQAZ5jakf/AAADAAI8Cse9uQAAAINBmmhJqEFomUwIT//98QAAAwD5YingMR+YBjyPm/JWDYeYJg/+p/6k3IOqlQgHQi08SBakM4rrnFy8RBMlFOFP4fh2TSCokFBAHVgTiQS6nHuYK0fMJEaq0TAt4ep+KW6ihCm/YRvL9+exm99vH6jxWcbSc7heqUHoJncjEIPER3AcPwAAAElBnoZFESwj/wAACG2BQuQBEsobVGgsDg2SY7hThtxanY7CEjWpoTuRnNG4CO9GOFZamvtMzlhLHl/BMzoHA+bFNyhXmIchEopVAAAAIQGepXRH/wAADTXvKbJdhFiZZusg49/abpdk2FgmEOR8kQAAAB8BnqdqR/8AAA0v24zyh+cyjsVRDMtIYMOLRy7EY8twAAAAdUGarEmoQWyZTAhP//3xAAADAPgGCpnAFT65Vx1tjIvtJ2iAQM3aZU7LCgoDzX+qwpfqZe5Bum3qYmWjHUd1KMklpSzvXOIGKXOtoWfx87ExDecXD66OCC/8RTwKTQTH/vZbbojhGYkX8ia09jHt1Lc+n8wySQAAACJBnspFFSwj/wAACGfy1myk68IkPbJHxBUQcZV06N5Khm1JAAAAEgGe6XRH/wAABR0PwFk2a/KFlAAAACwBnutqR/8AAA1/wYlHtFpRlbs2rsHov9mKoAShypCvdyvk24mjJybByKM2pAAAADdBmvBJqEFsmUwIT//98QAAAwD4FnpAG/Wcr7/kz3V/FNCCx8tZnbAKBQEzowDBYQUcXdeeaZVhAAAAIkGfDkUVLCP/AAAIbx9ZzDnb5GTzyuLsU/0zULBg0d/e4BEAAAARAZ8tdEf/AAANLhQEve64Bx0AAAAdAZ8vakf/AAANhJ2rY2rSLB+ayLpU2oor7t6GQtgAAABZQZs0SahBbJlMCE///fEAAAMCnwLEmGVfnbAEM3aEAFpOtGsfqyomXg6SoN3H5atSigzKu24C9WsCjvaM1JneRO6HQPU6WpICHNEKRjjoBWmP4172L1/ZMBgAAAAcQZ9SRRUsI/8AABa1WFWp1KjPvAjkhBcyZ55ZIQAAABkBn3F0R/8AACPDPg542QCF8OnUnR4cZgRgAAAADgGfc2pH/wAAAwAAAwGpAAAAX0GbeEmoQWyZTAhP//3xAAADAPf1ytADRek0Sl5+1IKm6RmrG4cnCmPkbgS/GTx0zmUNzw1c8jm20hExtMufst8f8shRGn+KCGAdiB1x6nUJyJpN1IMYl6gZpKRPFWO5AAAAIEGflkUVLCP/AAADAzhTCrEXKAEbfz0YEiCuPsbpSjK4AAAAGwGftXRH/wAAAwHm6l0a3ULFzGTPuijzwWwe4QAAABMBn7dqR/8AAAMAteaat/hTcmLBAAAAU0GbvEmoQWyZTAhP//3xAAADACOw/h/Bc6YOg2m3tEAH5WpAbsT7oHIIif9C8x0JoZHp9ee04+IRTpTXuI37lilitEvXWj/Ae+nVcB+SnB4ZdM3AAAAAHkGf2kUVLCP/AAADATXk5rYQUuU/c36EED2HjX4O4QAAABIBn/l0R/8AAAMAtYuAVZz81YAAAAAqAZ/7akf/AAAjrl/7N+fIphUALbq5/DHGo+G+2nAKglmRY9xtqJDo6GpBAAAAQUGb4EmoQWyZTAhP//3xAAADAp8FNJjnPUZQCckTTmB9WjETOFEK05wPs/dqdh7CyftXXNdeiDT3MNiSLEEeEnwfAAAASEGeHkUVLCP/AAAWvEvtfCAHGfTJrWIX6XsmBlF2RfTFCwZF9ZyPhXNuDgGecf2m84LE9MDY4UjVgE/di5IY2/oRtdJ7UHSQmAAAAB8Bnj10R/8AAA1+EvHrRkrFjSeRj+S/KG2HlYqxtfswAAAAIAGeP2pH/wAAI78aznrT0Zx3Niqi7AZ6Cc/CV9X9xI4FAAAAXUGaJEmoQWyZTAhP//3xAAADAp+6uaQYMczKdcYid9ObvurTpI9nfU9Rh5GuHUKPIQBmyk5CXdR6wtkU5KUrxc3ep+7JJTaOBr9wcoASbxC1kta089eHJ58kjWxnJgAAACJBnkJFFSwj/wAAFrVYVUAkcXmkMYZI7CxYcUuQu5cG+UvBAAAANwGeYXRH/wAAI8M7Y0R/oRABLFPP4Y402fs2ZtLKKnL24wsjR80dw8oNWP+ExIHTBJbaogx+j3AAAAARAZ5jakf/AAAFHzVLvDWAkYEAAABTQZpoSahBbJlMCE///fEAAAMCn/OCUvaIAWv3EQ+bN/PW/ACF91TaqSf1zVnMuA9PCzz9qGAVirIj401Kt7I6fEC38hMMsbz23pajwVj0vKpR0IEAAABCQZ6GRRUsI/8AABa8TmvC5rtM+yAG5aNIXOKr+7uTdsEyhpMeDFA+RMvq0FasdbnLi94W07Or4qjZxiE9zUD3YGzBAAAAHgGepXRH/wAABUPHCYyDeIN1d/hok2CHNgCsOtoU2QAAAC4BnqdqR/8AACOyGpzas1v3sg+FLWGyZhPWGeX+dOFmXhxX00EHqpyPtUPnhsWAAAAAOkGarEmoQWyZTAhP//3xAAADAp/KVqEni13PAdbdFQ75RJVuVc6gN2AG3ALfOUXnrDDdIo+RoXiK31IAAAA8QZ7KRRUsI/8AABa8TmtgC7jSpmwAQ0DU5A8VQamkcSVNU8SXg5ej9I3vTS9Mk8usRcNOShpMugbpRv2xAAAAHgGe6XRH/wAADS4VwoDAnbZH4DvwgoFhm8FJEBeBswAAAB8BnutqR/8AACO/Gs5609IfvpTDAolZRKKOC6h+2x0HAAAALkGa8EmoQWyZTAhP//3xAAADAp8FNJjnYDCvHRagCYKdF/3MD0LN+0yYt3jJycEAAAAbQZ8ORRUsI/8AABa1WFWKzjNp8BLwijaHocnBAAAAFwGfLXRH/wAAI8M+DnjYTjRLUDjwI6cnAAAAEQGfL2pH/wAAAwC6ZhLqoDjgAAAAOkGbNEmoQWyZTAhX//44QAAABYgFctxVYsr7dE4Hb6QDB1fr5rSvwmGsO7ujqygz7E6geHkFI7WNYDAAAAAgQZ9SRRUsI/8AAAMDOXcEjTAaBp9B0e+BuLXQ2qLV9sEAAAAlAZ9xdEf/AAAjwJqhniP7V1X5/+DyUFD2a4vVgXoLSPp76TkLFQAAABMBn3NqR/8AAAUfNNXcWnWlmZlBAAAAGkGbdkmoQWyZTBRMJ//98QAAAwAAQ019xjxhAAAAKwGflWpH/wAAAwC31h65ksnA4qlvYtOQvRDntcIjwAg4ZP7W8bYeNaTdfUgAAABGQZuaSeEKUmUwIV/+OEAAAQz6+GQE1/TJPV7ZQrkR/BGKL34sYI3ovZLjuJEnazVvjP5fWV1faU1Sw2K+Q8WuDV/4FWEkQQAAAC9Bn7hFNEwj/wAAFrxObKjKf1qmHomgTYARTdyO+TWERgoaEtrw5BnHrpQdVitkwQAAABsBn9d0R/8AAAUcW3mST3h/yZNRIenW+DQHbMAAAAAXAZ/Zakf/AAAjvxrOe94JkekM5V+rzBkAAABRQZveSahBaJlMCE///fEAAAMCkcvGAMdAJvYlXqZB18WQDzHr/tO47UQNCFGPX5zOQR72o8qVuERxbJonfGxu4Ca1GwwpEIr7c9ZtpNzrV/yQAAAAH0Gf/EURLCP/AAAILyc2YXTn6uXwSSrJHQw2Ph2ogIEAAAAnAZ4bdEf/AAAiw0CwvZ102yP7ItYeKw3E2eAzyrDFkj2ZXTngbGzBAAAAGwGeHWpH/wAADS/WsuEovqpIXR5B+GAWYpBbMAAAAG9BmgJJqEFsmUwIT//98QAAAwKfBWDgNO+y9/fGHFwjzm5W7D72T7MMWlhi+84aWHNsVtP8dsSpm4179GivBbG0K+UMpWMoX521ZEhj9WT/3dchOqPyNG6rB1GmlfG0lkPckXkkYrrprQULsJwx24AAAAAgQZ4gRRUsI/8AABa8Q823FcysmUYPJwJj6WzJyVOuFs0AAAAOAZ5fdEf/AAADAAADAakAAAAcAZ5Bakf/AAAjscwJb6lvshnelLwSs58K5RpyQQAAADxBmkZJqEFsmUwIT//98QAAAwAjpgTUUvaIBBl1xOKYB4qfzJ43l9SvkryvIQvd0G3tMjM8/O79qkuGWYAAAAAfQZ5kRRUsI/8AAAMBNJ+7eB9afQy55t2yhPtznd/wYQAAABABnoN0R/8AAAMAtaFDnAdVAAAAGgGehWpH/wAAAwHlzUXVTcFWsLK12xug9tuBAAAAPEGaikmoQWyZTAhP//3xAAADAp8FHT9gNpyk6QgZz0PQUeWH462Y0UQl/AOlJai9wWnxeVt/t2mOMfm0EQAAABpBnqhFFSwj/wAAFrUrN2taXriilj1a7d8LgAAAABkBnsd0R/8AACPDF2ipnfHJuOsyDaMo38MaAAAADgGeyWpH/wAAAwAAAwGpAAAAXEGazkmoQWyZTAhX//44QAAAJt7iZqfdcy3WgA597hB9OjAaS53zzw8oM0qaHPUXl5nBRQINyem+XHDeTz0rwOOn3IzEXX9i82odwpr9JgpnN862z78LMjM46mLAAAAAM0Ge7EUVLCP/AAADAzhPMXSyLPBWhJlRosM1ABBf89Es5C8ydV5WXY7ZCk+V/YodTqN2YAAAABsBnwt0R/8AAAUcW3mST3cpJIfH3vXsGbT4oGEAAAAcAZ8Nakf/AAAE+zTV3tuJKZDcD4FMUUIsSFVswQAAABtBmxJJqEFsmUwIT//98QAAAwAFR9iLWcyzA2cAAAATQZ8wRRUsI/8AAAMALWqwrBhbQAAAABEBn090R/8AAAMAR1hyDJhbQAAAAA4Bn1FqR/8AAAMAAAMBqQAAAFRBm1ZJqEFsmUwIX//+jLAAAEYl7lAID+mmXJxDVUUsGI4QLsx95DQkJu+tNIl2ahg803gPIAZRXPbTr3WW8XNIEku2k7ahCPKR8CaoRnj8uhbC76wAAAAhQZ90RRUsI/8AABa1KzeHqGZ6EjlgbtyCMsd9AfuOqtmAAAAAJAGfk3RH/wAAI6v4W3gSZzQDU42Ip3CKxz479y1q1vZfIxRyQQAAAA4Bn5VqR/8AAAMAAAMBqQAAAG1Bm5pJqEFsmUwIV//+OEAAAGTXwDLuuBgC+4sY8dlBjntlEgPS1Y1QMVx0pQ3y0giER59Y5FYjWdGSEgEJpuLDKLHEK9aEUsbkGT17IhF/u/EwLBkTAKBtRfnMpykICLqSTp+bOG6ewE2Lyw7BAAAAIUGfuEUVLCP/AAAIKXeLbiexEWQdCF2b2VPaHMHeHlzvgwAAAA4Bn9d0R/8AAAMAAAMBqQAAABsBn9lqR/8AAAUfMJZ7iS0zVwrPehofAIKVMk0AAAAXQZveSahBbJlMCEf//eEAAAMAAAMAMWAAAAAQQZ/8RRUsI/8AAAMAAAMBBwAAAA4Bnht0R/8AAAMAAAMBqQAAAA4Bnh1qR/8AAAMAAAMBqQAAAIBBmgJJqEFsmUwIT//98QAAAwD38lgCjXI7bJx+pUKfa1rWXL84lh7rSuvqSPGEvoEulr+IUFRQSNOwsLC+hGMYaeVpi72Fq0+yiFDtnKxAZIQhcX2EN1DJHyXV4N3MRFWZq5nA2j75+Z+pDFD7m6+0XRawe+jIJNma4myaJzyw/gAAAB1BniBFFSwj/wAACCwMtMoXUHflBTPYrhDFTUhICQAAABsBnl90R/8AAAUfy+0VOAPxvIOmjYDfDHMUICAAAAAOAZ5Bakf/AAADAAADAakAAAByQZpGSahBbJlMCE///fEAAAMA+AYlrq9ULJ3Y9Pmu1OCpOUAIvxvcNFRV/+9tnidGG+ZA4xz6p5so9RNaDgfKGULbjhQVkPF3ULkcXKPyx1Bs1F5tmwFgq5U09bCO2qjj0iLGvDS9BcMLaiTmNLQNq3fwAAAAIEGeZEUVLCP/AAAIbyHnr+yvjJ099oEOqC6AoO558jkhAAAADgGeg3RH/wAAAwAAAwGpAAAAHQGehWpH/wAADYSVLT4KB0nurYKwrqtI0SDNISAhAAAAfEGaikmoQWyZTAhP//3xAAADAPgFunly/MB7ctgzELr6g9qqSitjwz947LdO+Er7REATtjT/BMtA9SCPfk2cePMUbxgcwrOsFS7VNdT8Xm1Cnlm4rPRx84fHGvyRW+GQAxNL0uA26F4pbsLDSyNzIoIhBivHZaLWoc+qwuEAAAAgQZ6oRRUsI/8AAAhvIeffNPM1yrSU8afeU47W3jhr1QQAAAASAZ7HdEf/AAADAdqKU1C8aBxwAAAAGwGeyWpH/wAADYSfeSqbqZ7TwYqRKLeC7LeKCQAAAEdBms5JqEFsmUwIT//98QAAAwKfAq0/YBGW/JeeAdsEpYjUNQKEFSuGsjvHafzf7iawkMjn3d8TLscSmveRI0gBPwZHhJ5dVAAAACZBnuxFFSwj/wAAFrxDzf22FYRNT9ovSUyjbmFJYgAAlpAeoGEdtwAAACUBnwt0R/8AACO4r90IVIxotQrhEBeHMtkpSu6NVtDNdwN5RrFBAAAAKAGfDWpH/wAAI7HMDTZ6c9z1GBUo8T63P1yAYnBCUOPAABA3OX4wbbMAAABaQZsSSahBbJlMCE///fEAAAMA+PoB4qWqASZ5gVTM994/h+wxj4r2prRq0J5Z1gAO6wSQCzIK4HZVB2nBZIcL3VqmaTt40q2K+RBrnE+W+4PuPwIbRl9oractAAAAIUGfMEUVLCP/AAAIbyHm24rmVkyknwRsSE1bzXKVh7v7bgAAABYBn090R/8AAAMACj+0PYM7B68p9nqgAAAAGQGfUWpH/wAADYSVLPcSWmauFZTHyg9z8HEAAABNQZtWSahBbJlMCE///fEAAAMCoLOKwAV2PYc84bVqqMjOrVR9v1LnGQxpJpb39+DeEwWxFVATO6KveXHyDblCZEYRFSmX3OYIGDWyfnwAAAAvQZ90RRUsI/8AABa8Q823FZeiLleGngUxjzRQJOrap2zAIBNARAKL3wlxxejDW2YAAAAaAZ+TdEf/AAAFH8vtF+j24f9yej4r9ViiPBkAAAAZAZ+Vakf/AAAjscwJb6lvshVI/m2dkRRIwAAAAFxBm5pJqEFsmUwIT//98QAAAwKhlucx0VljXycNC8TQGFhB1Nhcuwnzu8L3XKkvtZ2iRaJiZb/potAAp/YphrSs/i3kOgyfUaUhop0cYycceQmuNTIIAw+0L00eQQAAACRBn7hFFSwj/wAAFrxDzbbceh5SX3uhV/T3oKgA1BW9OLrHbMEAAAAcAZ/XdEf/AAAE+9FNe+Ri5D8H/wkoPsgvpHK4sAAAAB0Bn9lqR/8AACOxzAlvqW+yFUj7/DsW9CmzLvc23QAAAFtBm95JqEFsmUwIR//94QAABBS5fXgRHddv/mUL4wCNb6S6rr57bjb222Qz4crTOgvhe/lNOFJYZdEPgjEFWZ9G3YK4nb8N6E0F3riRSwL+5ziFpe/zqw9CBbBAAAAAK0Gf/EUVLCP/AAAWvEPNuFTzjilJx3lFIyewA03qpNrXs00yt0XjLcFjbZkAAAAZAZ4bdEf/AAAFHFJqCwHCq/YBCmy1hQkr4QAAACcBnh1qR/8AACOxzAlv9UUHgq7/hAJpmY5A2bFMhoX/AA4gCxjD9swAAABRQZoBSahBbJlMCE///fEAAAMCn7p5pdDF6ul9DhbOJwC3k63dhOcXrcQAsgehgsL1CXFvnsU3SaawxKU8glsaNI5J0hX7hU8YPoUFYL+7LPIYAAAAK0GeP0UVLCP/AAAWtVd+pnSEdcTdMYABxlCLaOiRCAOZQajRoVFN5MeRHbkAAAAaAZ5Aakf/AAAFHzTVsaywIhVWFTPFqSXHR24AAACGQZpFSahBbJlMCE///fEAAAMCn+3fCijxgAcXLWgnAdsxIYKEY3THyLgOPvC5wqHTwZKZN8/49+FQgHPM6J0lCe38OxJVaisQX5jn4KHqeZ059+7yQjdsidFPntJzZgJ7YV5MyHMHw6SM1Pbv8OzcuLYaPdFnOQUJtftrmwbnJtG6y4RnmIEAAAAwQZ5jRRUsI/8AABa8S+inwAtfkAFZB/8XM/OaI2lxpCTQwU6e1zKBG9IEFjEkmLYqAAAAKgGegnRH/wAABUPCsh3MZIIt4FLOoaXQuuppPSF9P4qkzo5KCVRKMQ9QmQAAAB0BnoRqR/8AACO/Fwe/5a5kakBq7uzSQhLAbDwKPwAAAERBmolJqEFsmUwIT//98QAAAwKfunmkF0mpPJZouFDkIdXlsSkPgdsIBgJnVHrg8L48LgWhkLa5PAVedVk4rStWWk1a+QAAAChBnqdFFSwj/wAAFrVSjCFTLYMo5ji3UnBSXHk1+feynErFnGts00qBAAAAHwGexnRH/wAAI8M7ZhPE9K+AUvE0gvhj+7xkpUCgdMAAAAAaAZ7Iakf/AAADAeXNRpiR8amfcc7OJUKSD3AAAABFQZrNSahBbJlMCE///fEAAAMCsPbYZ4sPHb0zLxRp0ANyL0+xAHUACPfyW9XmETFriAJVoEsjM3jpi0hXYcNMYsXMQAI7AAAAMEGe60UVLCP/AAAXTD0uY1I8SgBq0YTeMT5xggtBrpcUaA4pyBmt/EEyIKqquP5wQAAAABQBnwp0R/8AACOsOQWuTx8/FX+GDAAAACUBnwxqR/8AACTGbFLTrIAtUgjNwooGxEnHhAIyDe/sc4FSKteBAAAAVUGbEUmoQWyZTAhP//3xAAADArG6ddsNOYAAcllbhwn2iz1RHWZnTnodcF+JEMKqMKICMkAAqqEN/zSyooepFkhbwv/s1cR9AX3Rl8cAIe8J4OUr/o0AAAAwQZ8vRRUsI/8AABdMQ823Fea+fbODtzGKY4s3Wyk4ANM/hMOdNix7gIIPW/4bch7hAAAAGgGfTnRH/wAABUPQwc62jcNX2BFaCJxmV2pAAAAAJQGfUGpH/wAAJL8EJo0DBjZ5WbpLr5Uo5POe8uacjGOMHJoQrUgAAABCQZtVSahBbJlMCE///fEAAAMCsbp12w0ucQRaRFlGE/u2V1rgrUBRGsBGdHk1fgn4GQglKOhxQCsFgotNj0+IieTBAAAAHUGfc0UVLCP/AAAXRSs3a1peuKKDwjCwOdzHmocEAAAANwGfknRH/wAAJMMXZlxpQTgAN1pfDt+75U56mp4CPQPHWBCVD/Wosz357qjwegUxVXX5HR3nakAAAAAOAZ+Uakf/AAADAAADAakAAAA9QZuZSahBbJlMCE///fEAAAMCsPbYZ4rfmOLb7RrBHDMAwz73+rdUN78yC+9NgSRM7smADycixx/MXOt0yAAAACNBn7dFFSwj/wAAF0NHSC15p1DC7P3vvcVDLiOLS9XoSKXS8QAAAB4Bn9Z0R/8AACSr+Ft4Ep1oI4gRoXcr/Oj5C2mGIsEAAAAYAZ/Yakf/AAAkvwQnEslpmrhWazGIUKCAAAAAUkGb3UmoQWyZTAhP//3xAAADArEC8OBSkv9ARNjSYew219Ms1bIXFUfPpUTtlc/JWgpvhH6hOXpQa6eJBdGpdf0EJK9IcUAMB/kWnw1bL8ZpKPEAAAAkQZ/7RRUsI/8AABdMQ823FoNjppAIVmzzAhAUCPNBSiFVHAe4AAAAGgGeGnRH/wAABUBbeZJPdykkh8fe9esYGdqRAAAANgGeHGpH/wAAJL8EJo0DB/rAAW8AgJ4eVjKZZOyKouM5zIUG3lakoDwospiYQWHP13OjXBlQ9wAAAElBmgFJqEFsmUwIT//98QAAAwKxunXbDK53mP0AoXYNVCjEIJTMLu9SD0ED1SYd3VmFO0WyKoth1B1Oy8o7U/aqco8ykxbB7QWAAAAAI0GeP0UVLCP/AAAXTEPNHjISAqHPpNgLUfwJPrTm+agGIBFgAAAADgGeXnRH/wAAAwAAAwGpAAAAGwGeQGpH/wAAJLHMCW+pb7IVSPv8BijIPnecEAAAADVBmkVJqEFsmUwIT//98QAAAwKzGF601FBsqLWacbQuNcSV6V2NJ4Mi+NdxxiXNYR7/f0ckVwAAAB9BnmNFFSwj/wAAF0xDzbcVzKyZST4HQorLh57/1HIsAAAADgGegnRH/wAAAwAAAwGpAAAAGwGehGpH/wAAJLHMCW+pb7IVSPv8BijIPnecEQAAAD1BmolJqEFsmUwIT//98QAAAwKxAqPA75dZ9zLb6bWDdInYWOtMAMoSMtA+rXrDZ2nKRmssAC4ZyowQTuffAAAANkGep0UVLCP/AAAXTEPMx/R3xA/AAcbWKhNlIpYgadBwK6ZLMKDfcQ18nl+9c1RL2VCNhQaRYQAAADABnsZ0R/8AAA3OEvDNQ8Vayy39fwQrT5uUAAS2XJm70R0nDojNZ3v3VjCr0QN+o4IAAAAWAZ7Iakf/AAAkscwJb6lvshVI+/OBZQAAAEpBms1JqEFsmUwIT//98QAAAwKxunXbDXgnlwe+1EvYzNuliASi3Rdlx/+p//ILy4CpjoWIJznzO94eLlySsSYLJ+eD8jY0Tk21gQAAADtBnutFFSwj/wAAF0xDzbcWI/8E/u9DiYceDCy2hc2fP+mEAiCBcl0RQRizAoeVSBBK6pK4u/q7GqlqQAAAABsBnwp0R/8AAAVAUmmwhTmGz5+BZAQb93CiBFgAAAAZAZ8Makf/AAAkvwQnEslpmrhWUx8pe30V5QAAAIxBmxFJqEFsmUwIT//98QAAAwD9zBTbwCe5+eXZowG0M2SQw7sOV5iKX8Tdsu1Q+6Q1v8/ziCh8t5Zpx54linlOBZkXfiWVkFnFuwjOSnttgC/xa7unvG1X1FWlmgWIfpbZ34oAMp5DR+C6l4zxOeQ/kYh3rq/PBlgn9aMpD/8xfHp+2+Tf0TWNkLAigQAAADBBny9FFSwj/wAAAwNNstBBGWfy2gFLFSOhuCB0OXoM1wP0qvprXZYzrNQRc5/O+akAAAAdAZ9OdEf/AAANzhLwzUPFWsst/X7bwLGIO8sgRYAAAAAbAZ9Qakf/AAAFQTATGcF4qHBKeWqEtIleKONgAAAAVkGbVUmoQWyZTAhP//3xAAADArKzhcjDvhgCzpmpWyH0QGKOWGNTPtjO+HP+JyBVmQcfhYVW482bRI9Vv9pROJooaOIJLJeABOknGRX+oh5MQWdfZzAZAAAAJEGfc0UVLCP/AAAXRSs3a3GKetvQcTjQ4rF7jf7tqFol6QYRYAAAABkBn5J0R/8AACTDF2idBeirrwlK4bcXbUnAAAAAGgGflGpH/wAABUE+YOJnHIY6jp2dYXW8AEWBAAAAZUGbmUmoQWyZTAhf//6MsAAAGyk2BFOUKQt+qdlcfPcc0a4qHoAaxbR7Ssl7TFpj7csYvgiPzhxg9U1J1ijQTjgDzwGlLH3dtjNNPiWmnrJ5qOpF1CAwKB4zTRpdsfkXttQS5NEeAAAAMUGft0UVLCP/AAAIrAofGOWj/yyCfJP1uQV8/0/fPkN6GKrwjAAu+zUXJnwAKXOJ7UkAAAAWAZ/WdEf/AAAN1euHjGwnoVXmndVNwQAAABsBn9hqR/8AAAMASX41o6anD7aZLzLFouFdbAgAAAAgQZvdSahBbJlMCFf//jhAAAAPP6kXiqEb74aHU7IIO6EAAAA/QZ/7RRUsI/8AAAite6uXT5E10WPNsyoZF8elF9uw4rqtAC1XhsCqC+602syn+PNc5Pxtw5dCvvuIH6ZhKBkGAAAAGwGeGnRH/wAADc4S8yWPtEJNGpwp/r9r5xCz4QAAABoBnhxqR/8AAA3P1jTEzunAPxR1ezfapF8UCQAAABdBmgFJqEFsmUwIT//98QAAAwAAAwAekAAAABJBnj9FFSwj/wAAAwAuoT8gFbAAAAAQAZ5edEf/AAADAElYeKCtgQAAAB8BnkBqR/8AACSuMu7lVZBbH4XUgq8qAKesJvhasINmAAAAWkGaRUmoQWyZTAhH//3hAAADAZ0fSNxaDIi5RIjKfSaNEmjd0ryEKmQSG4oTa7KjBBrxF6QzU0dStrANygsgQgWQjjxFB2ZV31YQC6kTKt9QbW8tC+lTMozcSQAAAB5BnmNFFSwj/wAACKwKHkVneRGVJq5/NwezF8UEn+AAAAAsAZ6CdEf/AAAkwJqVq5wiDqgAWrB3nh3Qgen8b3ja8A8zCffTrqTSS/vA6oEAAAApAZ6Eakf/AAAkrjL6/OUjHqgAWrB3niV8B9g0TTwb9MV2ve8k4s2UR8EAAABWQZqISahBbJlMCE///fEAAAMCsQLFFEiQAIfy3rdQUyIiry5bbf+/Pyqb+Fhlrf9IV49iwR/suPTlXNWRPxTBxH9E1R9R0opG3Va/V25dBCVeXJ3q+hEAAAAgQZ6mRRUsI/8AABdMTmzC4UX5eZZYJxgn4n8i3uVgoIEAAAAkAZ7Hakf/AAAksisFsRY7FgZQQ6DKbEI9zkbbp1xhsWxet/dAAAAALkGazEmoQWyZTAhH//3hAAAENNk5xMDnuZNAC2t2qbHnlSU9pDTuYJb8khQl2qgAAAA7QZ7qRRUsI/8AABdMTnAUAEHOUifpwVPhFTbJNVhxdtiYY0pXIg0zYFkuhcYfhHgg4vIX+r76t98SD3EAAAAiAZ8JdEf/AAAFQFt5lulX6PsbFXUA88qITeCKDO9eaDlqQAAAACMBnwtqR/8AACS/Gs573gqay2VqlBKnVvPKcd18jtFGz3q2LAAAAE5Bmw5JqEFsmUwUTCv//jhAAAApHtZFKQMNB2eZDW7SXrGAKrpd+q9NRrLKsS27Lmr/5bdrgfkO0PLGDIWZ5ugTDi5IvbUgk3O0t2wMMq0AAAAdAZ8takf/AAADAfF/1Xeqo8MVWDU5RJw8F57rkWEAAAAWQZsySeEKUmUwIT/98QAAAwAAAwAekQAAADBBn1BFNEwj/wAACHBDkiBP4Aw3NkfJRWEPwhF1yrXtJpMjJQnWwGwrLEPiEbTa14AAAAAbAZ9vdEf/AAANfhLzJY+0Qk0anCn+v2vnELUgAAAAHAGfcWpH/wAADYSdq2NZZ1hfTvNiOUwn6kyK1IEAAABEQZt2SahBaJlMCE///fEAAAMCsQVg4DTvsmt9JdrOJCIY9FW1vyDjXNTMJLzf7fPUE8jYNtRl3jK1wT6VJnG8/FXyzcAAAAAiQZ+URREsI/8AABdFKzdrWl64fr8wuhIAcL3Ss7UbV8zGgAAAABkBn7N0R/8AACTDF2ippVPU+8aJa9MGbDVVAAAAEAGftWpH/wAAAwC6ZqFAh4AAAABMQZu6SahBbJlMCFf//jhAAAAn/9LCAHGHzDi72LOnqdhOgwbkhTLHVbOTJjoHMf1PFtsH60sAbwsO1n/PY8B9s6FV94f36HjnsnMzuQAAAB1Bn9hFFSwj/wAAAwE+54JB52FIEGTTuvQCtz+97wAAABoBn/d0R/8AAAVCNWBvT53m20J4qds3Uu5e9wAAABABn/lqR/8AAAVBPq9ugIOBAAAAPkGb/kmoQWyZTAhP//3xAAADAF9EmRrp1VaF0VgAFekousKjKHD3BFouDIJUHrLzB6ChQQabu+9ZyvHsY71IAAAAL0GeHEUVLCP/AAAXQ0e3DcOKAElyv9c5GOWn5g18tSEGhtrjz9cKtP/a3A3T63vdAAAANAGeO3RH/wAAJKv4WTRw1GYOABxSoC3e6AVkmpt4PnJNa9DDuZ/NxhYrYU+nR8Fb/bqsEvMAAAAcAZ49akf/AAAkscwJb6lrm0eyvl6dAFCveG/BwQAAADZBmiJJqEFsmUwIV//+OEAAARU+uC2B3/OmMsQcpe4gQ3lZ5F8jdhCS1nk1XEoMTMflY9GsfMAAAAAbQZ5ARRUsI/8AABdFKzdrWl64ooznUS4QDDFhAAAAGAGef3RH/wAAJMMXaKmlVDT6puKPonh4QAAAACMBnmFqR/8AAAU/YczfsZKzcnHcUP0TZIBtmsZQZeUepPh97wAAAE1BmmZJqEFsmUwIT//98QAAAwAjmbNCVwdbSwYFft9CKmBquu+/7tsmUUW2xIDsrFUrJzAEubaV2nzcyDEB6Ap/YQ5bc6WCU/RXIiV4oAAAAB1BnoRFFSwj/wAAAwM3roQvXglSZB0MWQT++hdh7wAAABsBnqN0R/8AAAMB5Yp4ToCRiShzRXl6uoLmw90AAAAOAZ6lakf/AAADAAADAakAAABZQZqqSahBbJlMCE///fEAAAMCsrUCU98SMAAONCOXf868rJ+rn/ZrnpuOwlf9IIesdGu/dfhPhDjSvpxDxlazmzdHHaPSmq75b583Td4VTx/hWFLWIfihoMEAAAAgQZ7IRRUsI/8AABdFKzdrWl2SAsgXnjcVYmXkYrZaA9wAAAAdAZ7ndEf/AAAkq/hbeBKdaCOU1ojT3/cPcowRnBAAAAARAZ7pakf/AAADAeZ/2ClYAkcAAABJQZruSahBbJlMCE///fEAAAMCse33/ish3A2CjSd2t/MDvCibAnFeyAFu2RzsrhSnVpKaV93U8s1uKUZC92CAkEEDGVh4zWAdoQAAADlBnwxFFSwj/wAAF0xDzbcWDHloABOy8w24kAY1+e0NLZKVKOQMHfZNaUohlgrHsk5T6PDxazvq7UgAAAAjAZ8rdEf/AAAFQFcdqRlPHysU+jzmmJutcQgbJOrTElPD2pEAAAAiAZ8takf/AAAkvwQn7onLA8Mkh7vLpkUR5GwxygZHxSt+9QAAAD9BmzJJqEFsmUwIV//+OEAAACf+sK7bpKb0r6gt0AQFIG6YJm4+Bw7ETae+ggBqmo8OGawmptTO/HqG3jYJgSEAAAAfQZ9QRRUsI/8AAAMDTTHNjI27Ycut5RY7xU5pL31DrwAAAA4Bn290R/8AAAMAAAMBqQAAABkBn3FqR/8AAAVBPmDgbdvxPxEZ+Si0cx15AAAAF0GbdkmoQWyZTAhP//3xAAADAAADAB6QAAAAGkGflEUVLCP/AAADATJoz6AG3tX7oFHFUAr4AAAAEAGfs3RH/wAAAwHlij2AfkEAAAAQAZ+1akf/AAADAeZ/4oBnwAAAACdBm7lJqEFsmUwI//yEAAADAFaI5/p47WJB0fSdMaCJTMsZGkF6tZUAAAAfQZ/XRRUsfwAABRvdVj7wLsy1b1UA1kmJqT/SPZXqQQAAABUBn/hqR/8AAAMB5n/zbww+KLcdM+AAAAGtZYiCAAz//vbsvgU1/Z/QlxEsxdpKcD4qpICAdzTAACm/YAAAAwACT5KuuBI1usgAAAMAAcYAUELAI8JULYSEfY6rEVb/BONGGZpdKazRcb0RSxO+VyhEVw2TIsoYHQYIWuS1bEogyTia1Sl+Ahq0wu1NIY4XS5FLGwCWAH1xrofGRL7n+9cmRzkAfQg/pN12bFLaUiTqEwB0W1wCPQRipWDQF8JnS4cRjRSpk2c8Vyf4EB9OzaKE942BuIft/WUQLp24PyQE1m67upQNSQUczMmkdV0G9R3tfW62ADUlnnKAqdeFFJ5mj07v6e7RG6tOpiKu0FNdSwxn1fNFDmfCKns2lkcMRGoi8tbTJViyfWZovZuY/urNy8ItuNe/DwKzqr/2aeu/8qzCVDj6YEUhH6lRgUijIS3i58R5A3M1Ex5qRHVurTCyjWKR6QvvJccxXmrEO1tsEjhAMrLlBBEKbt/XLiuWX62swklQ6DfgBDKZO9jAuHOlCYM8j6vnWjcPf9d+7OkMFuYin+Lo7rFy4vpJkvpMF8iCaerqsuZuk844uYLbAAADAAADACThAAAANUGaJGxCP/3hAAAENBVmDQCHoDsw7OuCbka9uhFZ8xQrPAwP8REE4wixk7Q27QG2tDxsRhXQAAAAIkGeQniEfwAAF05LsEJ02ioXJbK3C30Rkh1rsf+0OyTHa8EAAAAZAZ5hdEf/AAAFQ9DBzxq47mziEiU+LHd97wAAABsBnmNqR/8AACSxzAjOPMviNBabP25rClYUSBgAAABCQZpoSahBaJlMCE///fEAAAMA+XmfiFyvBmm1iUjw8WpQAbULCYRXxifX7lpWghuvyxvoH4E0DeD83OWKPEAxeNAwAAAAK0GehkURLCP/AAAXUJs/Yf2J5Vpmj9bv3Ochi0fijdKgVWXdLReClunAuBEAAAAiAZ6ldEf/AAAkq/hbg1ti+qGHzoDRlqKTSMFcP2aAOWyyLAAAAB8BnqdqR/8AACS/BCcSyWmalvB3QKQxSqdApK2FenBBAAAANEGarEmoQWyZTAhP//3xAAADACOZs0E6ylAuclN8WTJy0cj2MWcJ9+aF0xF/08bEJUanxSAAAAAgQZ7KRRUsI/8AAAiScJMNqLOdw5QVlZZLbFKtErsvOCEAAAAOAZ7pdEf/AAADAAADAakAAAAmAZ7rakf/AAAN1Jtx8+bSrjHAi5h/IFPgWJ+5MFrd2JJjTbHjtqUAAABAQZrwSahBbJlMCE///fEAAAMCsQVg4FMMa4+4YAaziQd7fkraIIsVPep5BQbXTWzaS8ybHyOtEAdju3VYOlU7DwAAAB1Bnw5FFSwj/wAAF0UrN2taXriig8IwsDncx5qHBAAAACEBny10R/8AACTDF1KEUEiHu856PmMyJJ02S4inOfv0OCAAAAAOAZ8vakf/AAADAAADAakAAAA9QZs0SahBbJlMCFf//jhAAAAn/9LCAEqU/dOxlW6vXRps67Idueo1QGq+0IUaIAsGYqxJuSsmCJEU3+h6QAAAAC5Bn1JFFSwj/wAAAwNMSmWNfjMuX5nb8AAcdU+5/fk0dug6wZhPuewnYds9oE68AAAAHAGfcXRH/wAABUBXHbFoiTLXuZal56gxA95ogcEAAAAbAZ9zakf/AAAFHzTVsbVpFg+vPDWGgMrKOpFhAAAAS0GbeEmoQWyZTAhH//3hAAADAJp+14ATVrEXjHISo9/8vk9reFL2xSkzCvQMkkqdldPp4hWwXfQdNDs4c1ZcQZELhnia+6IaguMpQQAAAB9Bn5ZFFSwj/wAAAwNNMHm24rmVkykovF+EMSTaCsbMAAAADgGftXRH/wAAAwAAAwGpAAAAKQGft2pH/wAABUM01X8yqr4tblACWUgUa2200mf1H08bLZ9PdLWriGEZAAAAS0GbvEmoQWyZTAhX//44QAABFPrgoDaCMWxr/wdqVZ5D2HBxwtP8I61xyy8QirJ33awTNLqkVj+nPd8oSVYsBP49nhnDZhcLQ1vN0QAAACVBn9pFFSwj/wAAF0UrKeJGEZeWy1I2cGgS37LK/RC5vlNE6qVAAAAANQGf+XRH/wAAJKv4W3gSrJ+HIgSHLBm31SUxVgnDsjDCKESrGvQAkz92EWdD6mMFcgt+xBJhAAAAFQGf+2pH/wAADdSdq2NiRkurENFkgAAAADRBm+BJqEFsmUwIT//98QAAAwD9lvbu90KC6wxHQR67oQs012GEd2mdvkNqdnmg6A4v6pUjAAAAKkGeHkUVLCP/AAAIq/JpDLda4q8+NGTGESRQLuOkqL5kCqjLOVC9BOnswQAAACEBnj10R/8AAA3OEOeRXm+cbQPH70bHk1hZVHmNbBaHAIAAAAAtAZ4/akf/AAAFQzCWe4ktM2T/SKTxoYlaazqAGxmMF8TeNc8wG/y14mFwi+pBAAAAkUGaJEmoQWyZTAhP//3xAAADArD32G5L2lStQBDtPYA4C6ORFhS3duaDQ0lGv6Zm6rQU+IXJ6Y3l1LwtKfBLJMEaYrIYKC+m3qFSSygNLesM0IOUWdbSktc7vCZD4R/7obEwvF/WxWl81cEefHMZ+WbJteOda0KBBbb5OIjiZHNZUOWSGWBaQgBmbpUSqH0l+M8AAAA0QZ5CRRUsI/8AABdDK7UGANZFSKM2nkiAzuaLQKfyUwA3McjpiUthEjAkOMKNc1RRvFW9rwAAACQBnmF0R/8AACSr+Ft4FqMfmdKy8tuaBJ4fVXdwhAuchJgBUqEAAAArAZ5jakf/AAAkscwNQ9H0LtJ9s0/WSOxb5qvTbsLVMC/IgL56wR2/40sIwAAAAFVBmmhJqEFsmUwIT//98QAAAwD9hg/iz8Ek7yIAXTQLzDobV3EIU+emOEOU0yfh6o9eilgd8Ot00J1L9XK8PZDuJBTLVDWs0VPyeR2OUPmlmZaznSq7AAAAMEGehkUVLCP/AAAIq/rlrz2VjrRwEEwjAvoMBUu5PcBRG5+2PhvhVyZ7+c3V2A9nXwAAAB0BnqV0R/8AAA3V3S9ljY3wqAOPge4GC2/aDR9LyAAAABsBnqdqR/8AAAVBMBMZwXi5VW266N4PFLcr5wUAAABuQZqsSahBbJlMCE///fEAAAMA/vmfg/cXPDCBQyrVZSuAIyFMDHkLCLbbTnWLvjqqDzVw8NPvumJjQm//PXb4vz62dbVI/HnoAfcf1zXTH4UpzFsCZPRu7DI6jbtl9JMzmup/peL50oM/vnGZVFUAAAA3QZ7KRRUsI/8AAAMDS1ndhDdKrUOUIw5DVIQB4RSwkTCZJXhqmqXfdoHfwABN7gVqfqCsZkHGzQAAAB8Bnul0R/8AAA3OEvDNQ8VarqWGMRgzIb6O0odUvKkXAAAAJQGe62pH/wAADc/WMJPN0kTTFEUZdvIYdxVxkM5+mCkFCNqG2vEAAABLQZrwSahBbJlMCE///fEAAAMCsbUMXJCZRnLUBBLTWHd3pebfg8K+uO5TSZ1SHEr6E4EO41TD/dL9H7Jw4rKQgpWN3kxxMqNWZLA3AAAAJEGfDkUVLCP/AAAXRSs1J3gqoRQAS2WUT7KN7sjkHPPEKgdjggAAAB0Bny10R/8AACTDF2ippQ5nNqeUldjU/uR5Jqbj3AAAAA4Bny9qR/8AAAMAAAMBqQAAAExBmzRJqEFsmUwIR//94QAABBN4yMCMC8p7IdE1urigqvvyCMpf5aw7sBNvGZhQAxM7mVpqHtsBIE8NaRIV94UM7p5r8Hez6TQoRauwAAAAPUGfUkUVLCP/AAAWvFC0whPHOVt0wAJFKwel9ufv87ADaPkGITaX9SyE2DypJOljgzs9Xw071xCulVMuWpAAAAAnAZ9xdEf/AAANzhLx60TpK8KhH2OU1cRWpGy3AAJpn9dNAio8aLUhAAAAHAGfc2pH/wAAI78aznveCpm0N0ZP+WBaNGyIh7kAAABAQZt3SahBbJlMCE///fEAAAMAI90yYAE7+TXwcpBX/rEcHeWfs13hYnG9heplzKYEFswBOZBsmxEqmlBxLdCrsQAAAB1Bn5VFFSwj/wAAAwE15Oa2EFLlP3N+hEWevswcEAAAABoBn7ZqR/8AAAMB5n/VbGss9Jf69+34V9KRYAAAAC1Bm7tJqEFsmUwIR//94QAABBN4cvDP/alpQJEsn07rqQDnXaoDtrYx8J107QUAAAApQZ/ZRRUsI/8AABa8Tmy+mvQI+CbVCrvHFBEiD1Jv/N9htXupdf65FyMAAAAbAZ/4dEf/AAADAeUXrQOlLf1TZANj2xGRWoMVAAAAHAGf+mpH/wAAI7IrBxM44agnIa+gbCYPONZ7yMEAAAA8QZv9SahBbJlMFEwn//3xAAADAA19PMe8iLpcXLagHjKIBjKucwPq0is3dHxHSARgkM8qXsNNSbiH6HqgAAAAHAGeHGpH/wAAAwC6Zpq2Nr0rBer1r92k8aJKI2cAAAAnQZoBSeEKUmUwIR/94QAABBUViCmPJQKqsbBk2dS49XuePjk/AnW3AAAAFkGeP0U0TCP/AAAWtVhVis4/2KBfHHAAAAApAZ5edEf/AAAjwzL8ghFhYA8OkUkT2f0LrAZQRgtmuFaM/CpCDpR6xYEAAAAOAZ5Aakf/AAADAAADAakAAABDQZpDSahBaJlMFPCf/fEAAAMAI97WHWTb1Wxm5K4qWinG2AYia0YEAMGFMMGbaBshPFzs45HeK6RAlPZAarA0tw29cQAAABsBnmJqR/8AAAMAumaatja9KwXq4sWovyuQSoEAAABBQZpnSeEKUmUwIT/98QAAAwKfBTSY51+65nRQy5sh3J+cuIQc3hNkFoV6tAJ1mQ2qB3Ls4YX0EezkaYTH7aHfH6AAAAAvQZ6FRTRMI/8AABa8TmyqLkiwF0v7rIAOKf2w8oGfiJTM3ks50CmO4yGEA//hsqMAAAAbAZ6kdEf/AAAFHFt5h3rUsaZ6rmRJn4tK0CxVAAAAHAGepmpH/wAAI7IrBxM5nCQ3lQ2//FeJf6zeSYAAAABCQZqrSahBaJlMCE///fEAAAMCn7q5pdDF6VaPrLytwBMAYZB8jrD5eW1f9VYQ3PPemk/NQy9O9xFOHFM/XertVl6nAAAAPUGeyUURLCP/AAAWtVhUQQV/lImTMm9MIAOB08iZVHTHFg7uP19DkEM4xI7tMatN7Ws4enAlg4dsiY6CSYAAAAAhAZ7odEf/AAAjwz4N2qayQH1hiwmr3BxYtfb5cA2J3S2ZAAAAHAGe6mpH/wAAAwHmf9VsayzrCD1GTSgh8GPhsmEAAAA4QZrvSahBbJlMCE///fEAAAMCnwUdNktCon6deA36iCvRSb4Az8LYM58Xg3jSWQ9yReSRiu7qy8EAAAA1QZ8NRRUsI/8AABa8Q823uQy0AiNlrJfdeJ0yNdK6gXM3hxZarTW+heU0wPgzdAyfpsHxJMEAAAAdAZ8sdEf/AAANLhLzFgdXTFkUB4NQU3ZUFdm4gIAAAAAdAZ8uakf/AAAjscwJb6lvshVJFotNQ8CSe84q2YAAAAAxQZszSahBbJlMCE///fEAAAMAXPfBpHeMi0V+y1CS2fJrAdIV75mczfZsQnIXCRgYNwAAACdBn1FFFSwj/wAAAwMlMhS16gbfnLyh5fe09gCAeaxBZMIU+lOKvBgAAAAbAZ9wdEf/AAADALp5faKmd8cpfs39Y+iI2624AAAAGgGfcmpH/wAABPlAl+6EVRYrHsu6jziEG8clAAAAN0Gbd0moQWyZTAhP//3xAAADAp8FHT9gNhsqvpDR3LtZxIWdEdAlHYAZoCQdWGZc7Z3/isRNmPEAAAAYQZ+VRRUsI/8AABa1KzdrWl64ooXw4GZBAAAAGgGftHRH/wAAI8MXUoRQSIehjA5gQzEKIFlAAAAADgGftmpH/wAAAwAAAwGpAAAAREGbu0moQWyZTAhX//44QAABDZVsXeAhmugARkfdwEhIik8mFPbgnPRlrtt7bF4FXIqw/EpQP3Vn7LFg35L64HAnJv7BAAAATkGf2UUVLCP/AAAWvEPNt2urXY2ABbNYvbRQWYCHIyCx419EOOzQLsborN3qLch7lgqRJQhgwqOnXteTN80kZ6OvYI0/TmulKHxT19dNswAAAB4Bn/h0R/8AAAUf0MHE4ldbj9RKYV5QS0QCLdOAW3AAAAAeAZ/6akf/AAAjvwQnEslpmrhWUx8qPyujJMSxGOyZAAAAHkGb/0moQWyZTAhP//3xAAADAPKhaaYoV/u+RIATsAAAABBBnh1FFSwj/wAAAwAAAwEHAAAAEAGePHRH/wAADTIbQO1AGpEAAABAAZ4+akf/AAANM0gynTABLFPKeHT32H5y3BUpNASgNfOytVEEgDfRK7bf/r3kzzGnPpZyI7+HFs+xsVKw3NEwYAAAAD5BmiNJqEFsmUwIV//+OEAAAQz64J+vAiPM0RljJ72JBRLx2P/oWjS00XCxpua1ryo9Ti1lPf62T41wKFQrgQAAAB1BnkFFFSwj/wAAFrUrN2taXriig8IwsDncx5qHJAAAADMBnmB0R/8AACPDF2iyOpxgALbq5TgGSCyhuMKCr1Oz6nwf0B3/cV1f1WPDSjDwkR7aXbMAAAAOAZ5iakf/AAADAAADAakAAABfQZpnSahBbJlMCE///fEAAAMA8kzSCDl4AiPG9j0u2lWEfYw+i27a/HWQWYhR2/9gRNlni14IS2pu9ex7QJJJ585oOuqk1fLMysBcEU3IA6B9UnSIWH48d+T+NcDPnYAAAAAfQZ6FRRUsI/8AAAMDOTB5tuK5lZMpKLxfhDEk3ePBgAAAAA4BnqR0R/8AAAMAAAMBqQAAABoBnqZqR/8AAAUdMA36EKv+Pqbg+2q2IPOduAAAAEZBmqtJqEFsmUwIV//+OEAAAQz68oANVMPivPvAvDXPYF15dQhUHChEpCMu2sBwSk+m5JiFbIHlyyZGDWbusVBiNkoffNBBAAAAHkGeyUUVLCP/AAAWvEPNtWoUq3c3Ks0x0O6MYT7pTQAAAA4Bnuh0R/8AAAMAAAMBqQAAABgBnupqR/8AACO/BCcSyWmauFZTHynXj/EAAABlQZrvSahBbJlMCE///fEAAAMA84eEbV4hytsswANgC1obnMSATMSoV9FH3mUwtv4KOqbfuJ7q5g27ECNUlXunaDPHaC8myrKXF21efa5mfaOFrkzK5UmRQgethZECVw2nEs6ITIEAAAAdQZ8NRRUsI/8AAAMDOE1m7WtL1xRT7hg/ecQPO3EAAAAnAZ8sdEf/AAAjwJnd6VnxjzDNZ8hHKfNAhsTcxPEZqwDzirySg3smAAAADgGfLmpH/wAAAwAAAwGpAAAAlkGbM0moQWyZTAhf//6MsAAARimTzojQByeb58VD9b9gH4ovqrtXWIKXUU3Kbv811/DuEuBHk+IcYT1gXsri9m8v99qi2r2dWw7bLVx9qX16WRE5UQ8XqNFyVPFmjhohbxWxVd/gd+uotLnHwPbGHAYvVk6pKH6/nBqFQoN6ZcjwB+sN9ugWbs1aPsXmpWHeiuN0XXmwbQAAACBBn1FFFSwj/wAAFrxDzbcVzKyZhiCtKXQkojaAOYiAgAAAAA4Bn3B0R/8AAAMAAAMBqQAAABwBn3JqR/8AACOxzAlvqW+zcPyyTt7Ue6YNdilRAAAAFkGbd0moQWyZTAhX//44QAAAAwAADKkAAAAQQZ+VRRUsI/8AAAMAAAMBBwAAAA4Bn7R0R/8AAAMAAAMBqQAAADUBn7ZqR/8AAA2CMRWVoAyJjEhkcUy3Kf1PPNCcBieYoFjmHsH2XSMgAuJB2lVPcY5aAo4oIAAAABdBm7tJqEFsmUwIT//98QAAAwAAAwAekQAAADlBn9lFFSwj/wAACG17n+nCPiIDYl6VPX7UANy0Z37kN5VhYqxfc46zDVbkfeF7z4wpWElmOnjje24AAAAcAZ/4dEf/AAANLhSadVgJ5uWXfYdWFopeJPh8kwAAABsBn/pqR/8AAA1/tpi5UlsqtBt8wrRO3L//JMEAAABGQZv/SahBbJlMCE///fEAAAMCoNXivbInLQAsZhNjmbOZC2bAXL9OS4HrZsMyrXlqZfmewiSl3gmNFYmOEeZ1Wc4Q1NfXJgAAADVBnh1FFSwj/wAAFrxDzbcVzKyZST4HQotqsLJUMOXrgBaHDtgQ6qj6nDrjLqn7o+a3RedeDQAAABYBnjx0R/8AAAMACjjKBp8lRInRJqxRAAAAJgGePmpH/wAAI78EH/4n8bc+msXyKUkQAn/JNVPGSEsYkkdc+yYMAAAAX0GaI0moQWyZTAhP//3xAAADAPl+FwACdpC24mKHEZ/Ui4VuHuZcpaUPAdncxye7T+H5qoUkTcS2of/2bKwhfZhuk18WypMTVXz7en0rnS8AfUTz5mOr8azwR1gFbEcxAAAAJEGeQUUVLCP/AAAIbE4AAWpI3hQNMEMRboRnLdN0ZmYTw4Y7cAAAAB0BnmB0R/8AAA1+ANNiCuvfIcw/zTHs4H+wZSk5IQAAAA8BnmJqR/8AAA00nhQAd0EAAAB6QZpnSahBbJlMCE///fEAAAMCnwKtP2AG7UAuy6Lq4ion4aX7J3Pa+8pNuPrURZmx9/Wx/9rdQbZvczH/W0lXLlrP4HnhmgrBpCXVH9r2Xguz1oJ+gErTZX8jDX0bjX/VTC6lizAvzBMDSd/bfUtdexo8jRQg7kh/t9gAAAAwQZ6FRRUsI/8AABa1KzdjcnLiz1/ojkAAEZbjGqJFNWa0/p7G2n1f5abiw+1tiduAAAAAHAGepHRH/wAAI6v4W3gSnWgjiBGeuRoD3QvzK2cAAAAqAZ6makf/AAAFHzCWfDoj+9oOA0Khw47EGdQAloRaDVvPDLQ4+BsCr2W3AAAAYEGaq0moQWyZTAhP//3xAAADAqCsIv0BhubTnzkAm9iVnG9WmsCy4YHfwL8vJtV3hnoEs9Bk2Y2OjDOq3DUN/4z1xSn64QHSRyVsheuPkCGtk9blzcW2gJFZW0lU7MDj4QAAACZBnslFFSwj/wAAFrNHtw25HC/l0Nh+6zaAAXVs3MBs5dOXSgS0kwAAABwBnuh0R/8AACOr+Ft4Ep1oI4j5dlwEZqozuKbhAAAAJQGe6mpH/wAAI78EJxZYrWeHbUnVJN7ZbUh9QlXvxzay2ejHbMEAAABQQZrvSahBbJlMCE///fEAAAMCnwLw4CLAWV+d+QIwuN8H82rULj5qItaFe2rPtag13Qaa/S8NnSwj6/ZRFtjMw6E1OTmzj2+Keq65DYOYaXcAAAAiQZ8NRRUsI/8AABa8Q8223HiJiTOHq5yhrjLEuEHAi/jJMQAAAA4Bnyx0R/8AAAMAAAMBqQAAABsBny5qR/8AACOxzAlvqW+yFUj7/AYoyD53nJAAAABRQZszSahBbJlMCEf//eEAAAQTW9G2nU3pmbvoVS048HvrefntZ/fc1unoKxgKA4f+9EqEHat/MNvUWx0ZWVnSmwa2lYbBqb6Wz8KlWwB21M6BAAAAZUGfUUUVLCP/AAAWs0iDNsCIAIdeQ78HiPiykNqed+dw5TRA8lYRigs4pJfnuFKwmpZoAuhgNDJmeMpEsowRD6T7GvTi1NEzQF7q/BZ52zMq8i0RsmuOYrHiuq9S4hXyDJqgWhtmAAAAHAGfcHRH/wAAI6w5Ba5N2Kb7+ZnzTN8JjM3k5IAAAAAjAZ9yakf/AAAjvxnf4CSE69Z5WXVwiWb0yD24UcoaOApf2zEAAABaQZt1SahBbJlMFEwn//3xAAADAPl/JUgBaLiZ6ECyOmyF1i51Kr5VUf0nh8//v1khmClHTQ0OF0+Ds21ZMOQ2LXR8f5glDVRqZutX3u+hYqHH5c5HnTqdQOnxAAAAIQGflGpH/wAABR0+YP15uSz8lnIXZO19lcORd3JWwWgbMQAAAF5Bm5ZJ4QpSZTAhH/3hAAADAZP7bCAI796ExysiQK+uBw1AAaGnRODxvSlX+TtNVDFfddg50afBxnxtFGWRnku71zhzq2wGCTodSeWb1Vt028dp17smOZVpcFXeKEhoAAAAeEGbuUnhDomUwIT//fEAAAMCtcn1m2wqMko0AJYQZmbsiMApGrN1wjda1Y/Z+MpUuHsRV71zak5sx88m+ET3Wg0bKFq3hi41bAf/b8ytxIj00TivbwyQ3BomCv70mOO9OdSHdQq+uqjoM0mMDT3Gen1xhhVKtwB+QAAAACZBn9dFETwj/wAAFrxOAuSiz4ew4L0L+rO2+nnfaIEa94bcvyXe4QAAACgBn/hqR/8AACO/GswgQlwUk8K61RbjttIE+vjvqJu/5D/5x8TwxHe4AAAAV0Gb/UmoQWiZTAhP//3xAAADArD22GeMXZwy8ZupzUAe8AKqnGXOHBcagpRg5ZtasUJs6xD9TlhTRXnyJk04+v1CXorWBkBoBGlJ5+qe85D2h5577nQTUAAAAC1BnhtFESwj/wAAF0pnBZi3RKTwTi8W3jdsp1ZzDM4/oVzdHMeCPjr+DTwadeEAAAAaAZ46dEf/AAAjw0ccAVW5z+2ta80sRWcqqaAAAAAjAZ48akf/AAAkvwQkQSpXBU9htnNYJePHsoPcygnlPhLjkWEAAABCQZohSahBbJlMCE///fEAAAMCsPbVnRf2ZpUUnQba8KZ5vzj6GUlZb0fKvjAHHMbjpafdjGj3iyoC3+j4y0VDbEkxAAAAO0GeX0UVLCP/AAAXQ0e3DkZuHWng+BFAdM/M1NRKAADj4Z46yxaTWVqhdi3qfFxLQdvQxGJpB1/nNideAAAAIgGefnRH/wAAJMMXYrMdR/NMLWZd5BG3N6xbKxctMAysTcEAAAAeAZ5gakf/AAAkvwQnEslpmrhWaymMahQdKXx3EG9AAAAAPUGaZUmoQWyZTAhP//3xAAADArEC8OCKAoZlvxng0VNfRlaqaKpMkkIFYyTm3UEgspfNJzIg5ix6GfleM/kAAAAmQZ6DRRUsI/8AABdMQ834lvpMfowwyWHu1c031DfroYE7hhQEIRcAAAAaAZ6idEf/AAAFQobvErwUHcSrb/LGaM1Sc68AAAAWAZ6kakf/AAAkscwJb6lvshWW2bHx9wAAADRBmqlJqEFsmUwIT//98QAAAwKxunXbDS5xBFpEWUg1YAWBRhloeDwrMJ8vSCMLtaTPkqJxAAAAIUGex0UVLCP/AAAXRSs3az45zahPKElB7lxBt0AX2NUe4AAAACoBnuZ0R/8AACSr+FGXPaG7WKwcV6R+F53dUB6kWCW1AemDsyMCWy0PXe8AAAAQAZ7oakf/AAADAL9ZwMoEHAAAAEZBmu1JqEFsmUwIT//98QAAAwKw9t5NqBe6QA47MqMsx1V1UyFs/7OqnTOSPop29Z4dE+0OZ0vrgg78UFDsKhlnBqD3O/OBAAAAI0GfC0UVLCP/AAAXQ0e3DRYm7XTik+gYGj653AY1C7M5yzghAAAAHAGfKnRH/wAAJKv4W3gSnWgjiBGeuRoD3QvzK1MAAAAkAZ8sakf/AAAkvviZkSPc8WsHdz6OjDJJtKlUO/nzQdZJUeODAAAAK0GbMUmoQWyZTAhP//3xAAADArLV4PClp6QNoH+psGbhT0b93pt2+URlhOYAAAAmQZ9PRRUsI/8AABdFKzdrU65QIbmw1GRtrF8r858AmyyZZZvo1IsAAAAWAZ9udEf/AAAkwxdoqaVT1PvGhfVhgwAAABkBn3BqR/8AAAVBPmDgbdvxPxEZ+Si0cx14AAAAOUGbdUmoQWyZTAhP//3xAAADArD23k2hIwAAsmOkeybTLqiyxpwDcEZ8V1f5YWV5N4AJIjJLW4O+bAAAADRBn5NFFSwj/wAAF0NHtw25OEACC/56Jqvbq/hJ1UBIFzfxn+ISwot3h+EF6jRKF3OihKLBAAAAFwGfsnRH/wAAJKv4W3gSnWgjiQnG6bH3AAAAIQGftGpH/wAAJL8EJxLKx28wZqtChqY3A3KfKOVk2byiLQAAAHpBm7lJqEFsmUwIT//98QAAAwKys4XIw74JP+9M1K3TTmV8N5SfYCQsUSWkza1aoQ3rXVxJ4IN5uHjij+/Rmt6XP8s8xpXR3ajyF22XuJpwYtdnjWWPrFT5vntLgHzzZ6PPPlR+gBx6OJMHcJpv+kO48AVCx77E+n94oAAAADRBn9dFFSwj/wAAF0UrN2s/MnwAtfalEaM1Reh8HtxRLAt58NjrMs/vfUWXpr1G3bnJJ4PcAAAAHAGf9nRH/wAAJMMXaKmlU9T7wgmOsBgt1uuwPcEAAAAaAZ/4akf/AAAFQzTVsaywKoCYnEC3gzHKB7gAAABEQZv9SahBbJlMCE///fEAAAMCse3fBQ1308Ny2gBBzlhg28VGPvyGuk+tzV0sDkUne+zAUF/acpKBEcCGT9PPevNgwhAAAAAzQZ4bRRUsI/8AABdMTaYyOh/3YALZrGi0NlUiMrnVRXufQELx8+9GpeorTVu85QvQqpT/AAAAGgGeOnRH/wAABUBbeZLHx//GLqIhDdI2B2pAAAAAFgGePGpH/wAAJLIrBxM7pwD8NB0+SJkAAAA3QZohSahBbJlMCE///fEAAAMCsbp5plOVhRHoNIhhtbmKnAu4fmk+Ho0mWyjjNTllWwxI9m9mswAAAB5Bnl9FFSwj/wAAF0VYVYrO8iMqSrhaAyv4yo3oEnAAAAAsAZ5+dEf/AAAkwzpKu9pGqAFt1dT5jlgqr5vUhywgd6oihlifpphkZ5VmCpkAAAAQAZ5gakf/AAADAMRJ4UB/gAAAAG9BmmVJqEFsmUwIT//98QAAAwKx7d8EGupUw/PIXUwAmlRg+Hs7ajN/v6RwAWD68Sx54GFR/1NOWdvZ4dhj9qsS7o1kd5CXMpV86+VK5XpB3mgcCuqCBYZKOhQ0/CrThO51bH61K+8A1LASDa6fbt0AAAAtQZ6DRRUsI/8AABdFWFXBuha3KfJecU98C94si/a/WOzohVr35yhtWdEtH0NhAAAAIAGeonRH/wAAJMM6Sr3jtqN0eBZsTH0F5hV04cVXJpOAAAAAJAGepGpH/wAABUE09eQq3jGS15AoO1+6ROlW+ROd3/Hi3k0JBgAAAEpBmqlJqEFsmUwIT//98QAAAwKx7d8IFGVurgXCypD+JrKVOtFpjp7dvysFg6TxYYY1KE/88PQAAbGCXuWQvx1V34z33GLi8D7gwQAAADlBnsdFFSwj/wAAF0VYVeWCGQA2HftTkQNfw0kBIkir7//jaiF+5w9dCdl4TJRLZUp30qmrtPDDDbgAAAAcAZ7mdEf/AAAkrDkFq/H834Lj4wk442oEQFvCbwAAABoBnuhqR/8AAAVBPmG3ZGdtFwnJvv7btWpBgAAAAENBmu1JqEFsmUwIR//94QAABFMD0gcFYnsEGMeBgj5awjTPPr8aw1WrACjlTZLt9gR/xOa3EIrh8c/3/q9OlSb+sJQbAAAAMEGfC0UVLCP/AAAX4ms3a1peuEWFaBZROYm3v1wACb2u8g08mTeI7hB1wv6arK3dYQAAABoBnyp0R/8AACXDF2idBewx+xviRjsB3AyXEQAAABYBnyxqR/8AAAMACsqb6Y/T4isltpBhAAAAP0GbMUmoQWyZTAhH//3hAAAEU3NSTdX3eBpvROSRe3QJVuhZbYCpMtJ8NdzQoWs5Np1oX08537GSfkmq5lxZgAAAAEJBn09FFSwj/wAAF+mDzcw9iTBFhom5DeDtJiws+v30AAOVKgFIWO99hPpcaFoP1m+9I270uvnTdcqhCdZyKpGts+AAAAAdAZ9udEf/AAAOJFDwzljohXT4Mi7nLkNQSoJiQYEAAAAaAZ9wakf/AAAlvwQnEslpmrhXsairM1jQccAAAAB6QZt1SahBbJlMCE///fEAAAMBBnR/I0sy1ybYAOqZt6bNuLG/K4VzLrUzF1NKfGRL09E11Ktr9UMBYeHhuYb76RNfsHdVDP2zyJ3g0trN8DJcIEIE9fFussnpoIE2+fhU/JRRn/atFBAw6EE9e72v/FqVxCFmpfY080AAAAArQZ+TRRUsI/8AAAivKFwc7AM9u9mN0Frcly88cMxAALrw5Cu7s5DUtbFkGQAAABsBn7J0R/8AAAVkUmubcFhzhikb1Kg9tYdBZBkAAAArAZ+0akf/AAAOJkqMNyg1xcembymFhK+QgBMUcUtYZQpnYWEjZGXWfzvdYQAAAFVBm7lJqEFsmUwIT//98QAAAwEFHG8WAI0SDdGSOY0V3J08yyoxxgf3GqjSm/a5uy/bVWMkNP1D9ArloU9dzlPGkJn23zCnKQ8IfP7OAfy/T9xbSUFKAAAAIUGf10UVLCP/AAAI7yHn3zUZyGoFQS4ClfsKSO8ru3Qo7QAAAA4Bn/Z0R/8AAAMAAAMBqQAAABsBn/hqR/8AAA4mSpi5UlsqtBt8wrRO3L//IMAAAAAsQZv9SahBbJlMCFf//jhAAABr52ziPDpQyjgxzK6AJmbPQDUhp8BoiOv+xLMAAAAxQZ4bRRUsI/8AAAjvIebbHmSXL9EGczoyACMndvwAlFq5PRToXQQQe9V0LuCiQ8c2fQAAABYBnjp0R/8AAAMACsjKBp8kz2RO0PWHAAAAGAGePGpH/wAADiZKmLlSWyq0G3gXx4xLwQAAAERBmiFJqEFsmUwIR//94QAAAwABPW4foSjkcy+C8IQBaLktzO3PXeysFGhAYg+qJdMBgUqc1it8UnqZX9MTCzFrifBrXwAAABlBnl9FFSwj/wAAAwAGwmgfffDw6SzNoad+AAAADgGefnRH/wAAAwAAAwGpAAAALwGeYGpH/wAAJa4xL9H4JVaTi4kZT5L+O9ojxgiuRa8Xn0iWSgh44p9bNSpj1O6wAAAAV0GaZUmoQWyZTAhP//3xAAADAsMC8OA0ZgmRBIyRGcI4Fpk4aBnJGFXKMwukzojIL4ehMSOj5IHmb0FBrKwwdIkNeycY0UMyZY2e08RD8O0hOtgy31GFOQAAADhBnoNFFSwj/wAAF+JrN2thLiAA8tv3/dKvW5axph+jklUD2XqkOkMWhg3rK2A5C+50gkE82bs24QAAADIBnqJ0R/8AACXDF2GollxRLFt61UCvVQHmA+l1bAClW+oASzjFJwjaZfdRoF6FwR6z4AAAAB4BnqRqR/8AAAMB+y4399J1jlBOHNCtPjaaNpJpacAAAAAsQZqpSahBbJlMCEf//eEAAARVHZ+QPLA4qD3KhDMnOkDLoxs86sgGrU3SE+cAAABAQZ7HRRUsI/8AABfpg823JoAAbqQeXG9HOi53bxqD6fxp39K9hLwo5T+XZfOYwqUGdCgwEIG0/BHkO0iLEegoeAAAACABnuZ0R/8AAAMAw+AtfN0JGs4kZccAin8+jvlzLf0z4QAAABsBnuhqR/8AACWxzAlvqW9GinX68txFK5jb9mAAAABAQZrrSahBbJlMFEwn//3xAAADAsPIaQA5VbWRcvNnJ3Oz+UABVU4y42P9VOEb9YalC+SQE/CoBdPbhhU2HZmp6QAAAB4BnwpqR/8AACW/BCcSyWmauGvtwHeoLcifm9FuQYEAAAAtQZsPSeEKUmUwIV/+OEAAAR0+t4fuRrUAJL3KvTF+hIbpE2jgCTSwMV/8wmKnAAAAHkGfLUU0TCP/AAAX4ms3a1p09AFxEvfepfZC2itFTQAAADwBn0x0R/8AACXDF2iNH2c/AAbrS60YRfShauGzNJ0LcGDIbi2Xwpde8uZC/6yKHpej9HoCOlzwxNTJWz4AAAAOAZ9Oakf/AAADAAADAakAAABXQZtTSahBaJlMCE///fEAAAMAYiVk2lkPDa5ZbcRHH9+mNAAKRA0bO73kL6QaOrSl/IkCn7FfjZjzeDpIkRYDnaDd/vI904lA0DRH1Si4Dl/LXmLE68AxAAAAJEGfcUURLCP/AAADAT7nh5kAJeltOB+p5u2+o+g66Nr8q4fJBgAAABoBn5B0R/8AAAVD0MIYbXEem569eS0eZpYR2gAAAE8Bn5JqR/8AAAVqY4AHHjaMhS+Lt2obeQdKtdpTSsLvCnb3TQ8Y+C54EMldTF+UQTMglR3NX6z4mezjzeuDTPYZrwijiFlrnx6aFmWp5qzBAAAAYEGbl0moQWyZTAhH//3hAAAEW904tnyIJqfGAABrZVK0i75oA8H4KiD34T5vdmf2ofqkr4G8p5wr+cRJyU1r1C8nR2oI+brQAvmozeOSQD86NTtvFCxnwSnvErAeBfe64wAAAC9Bn7VFFSwj/wAAF91getesmT29QA2i4JgAomIHtECuLaXtI81gCzlqFa/gf9q2fQAAAC4Bn9R0R/8AACW4s1SKMo5APVFFjLPuSHVJ6HbjXupfgfK9cahWT5yG+f55krrAAAAAMwGf1mpH/wAAJL8ffFQmTZRtwArel2eq4NelZZ1dhWqKpK0zvSjdyeHmojJop2YWEv1SYAAAACtBm9lJqEFsmUwUTH/8hAAAEF9LOfQKreyPMAO1czh8r4k6Z+j4AJkhGHu5AAAAMAGf+GpH/wAAJL8fjDe6uKHqiixln4L5BgrXi18Y1oASWCRm4UscGroDDHGlsmje6wAAGnZtb292AAAAbG12aGQAAAAAAAAAAAAAAAAAAAPoAAAnEAABAAABAAAAAAAAAAAAAAAAAQAAAAAAAAAAAAAAAAAAAAEAAAAAAAAAAAAAAAAAAEAAAAAAAAAAAAAAAAAAAAAAAAAAAAAAAAAAAAAAAAACAAAZoXRyYWsAAABcdGtoZAAAAAMAAAAAAAAAAAAAAAEAAAAAAAAnEAAAAAAAAAAAAAAAAAAAAAAAAQAAAAAAAAAAAAAAAAAAAAEAAAAAAAAAAAAAAAAAAEAAAAACWAAAAZAAAAAAACRlZHRzAAAAHGVsc3QAAAAAAAAAAQAAJxAAAAIAAAEAAAAAGRltZGlhAAAAIG1kaGQAAAAAAAAAAAAAAAAAADIAAAH0AFXEAAAAAAAtaGRscgAAAAAAAAAAdmlkZQAAAAAAAAAAAAAAAFZpZGVvSGFuZGxlcgAAABjEbWluZgAAABR2bWhkAAAAAQAAAAAAAAAAAAAAJGRpbmYAAAAcZHJlZgAAAAAAAAABAAAADHVybCAAAAABAAAYhHN0YmwAAACwc3RzZAAAAAAAAAABAAAAoGF2YzEAAAAAAAAAAQAAAAAAAAAAAAAAAAAAAAACWAGQAEgAAABIAAAAAAAAAAEVTGF2YzYxLjE5LjEwMCBsaWJ4MjY0AAAAAAAAAAAAAAAY//8AAAA2YXZjQwFkAB//4QAZZ2QAH6zZQJgz5eEAAAMAAQAAAwBkDxgxlgEABmjr48siwP34+AAAAAAUYnRydAAAAAAAAE4pAABOKQAAABhzdHRzAAAAAAAAAAEAAAH0AAABAAAAABhzdHNzAAAAAAAAAAIAAAABAAAA+wAAD4hjdHRzAAAAAAAAAe8AAAABAAACAAAAAAEAAAUAAAAAAQAAAgAAAAABAAAAAAAAAAEAAAEAAAAAAQAABQAAAAABAAACAAAAAAEAAAAAAAAAAQAAAQAAAAABAAAFAAAAAAEAAAIAAAAAAQAAAAAAAAABAAABAAAAAAEAAAUAAAAAAQAAAgAAAAABAAAAAAAAAAEAAAEAAAAAAQAABQAAAAABAAACAAAAAAEAAAAAAAAAAQAAAQAAAAABAAAFAAAAAAEAAAIAAAAAAQAAAAAAAAABAAABAAAAAAEAAAUAAAAAAQAAAgAAAAABAAAAAAAAAAEAAAEAAAAAAQAABQAAAAABAAACAAAAAAEAAAAAAAAAAQAAAQAAAAABAAAFAAAAAAEAAAIAAAAAAQAAAAAAAAABAAABAAAAAAEAAAUAAAAAAQAAAgAAAAABAAAAAAAAAAEAAAEAAAAAAQAABQAAAAABAAACAAAAAAEAAAAAAAAAAQAAAQAAAAABAAAFAAAAAAEAAAIAAAAAAQAAAAAAAAABAAABAAAAAAEAAAUAAAAAAQAAAgAAAAABAAAAAAAAAAEAAAEAAAAAAQAAAwAAAAABAAABAAAAAAEAAAUAAAAAAQAAAgAAAAABAAAAAAAAAAEAAAEAAAAAAQAABQAAAAABAAACAAAAAAEAAAAAAAAAAQAAAQAAAAABAAAFAAAAAAEAAAIAAAAAAQAAAAAAAAABAAABAAAAAAEAAAUAAAAAAQAAAgAAAAABAAAAAAAAAAEAAAEAAAAAAQAABQAAAAABAAACAAAAAAEAAAAAAAAAAQAAAQAAAAABAAAFAAAAAAEAAAIAAAAAAQAAAAAAAAABAAABAAAAAAEAAAUAAAAAAQAAAgAAAAABAAAAAAAAAAEAAAEAAAAAAQAABQAAAAABAAACAAAAAAEAAAAAAAAAAQAAAQAAAAABAAAFAAAAAAEAAAIAAAAAAQAAAAAAAAABAAABAAAAAAEAAAUAAAAAAQAAAgAAAAABAAAAAAAAAAEAAAEAAAAAAQAABQAAAAABAAACAAAAAAEAAAAAAAAAAQAAAQAAAAABAAAFAAAAAAEAAAIAAAAAAQAAAAAAAAABAAABAAAAAAEAAAUAAAAAAQAAAgAAAAABAAAAAAAAAAEAAAEAAAAAAQAABQAAAAABAAACAAAAAAEAAAAAAAAAAQAAAQAAAAABAAAFAAAAAAEAAAIAAAAAAQAAAAAAAAABAAABAAAAAAEAAAUAAAAAAQAAAgAAAAABAAAAAAAAAAEAAAEAAAAAAQAABQAAAAABAAACAAAAAAEAAAAAAAAAAQAAAQAAAAABAAAFAAAAAAEAAAIAAAAAAQAAAAAAAAABAAABAAAAAAEAAAQAAAAAAgAAAQAAAAABAAAFAAAAAAEAAAIAAAAAAQAAAAAAAAABAAABAAAAAAEAAAUAAAAAAQAAAgAAAAABAAAAAAAAAAEAAAEAAAAAAQAABQAAAAABAAACAAAAAAEAAAAAAAAAAQAAAQAAAAABAAAFAAAAAAEAAAIAAAAAAQAAAAAAAAABAAABAAAAAAEAAAUAAAAAAQAAAgAAAAABAAAAAAAAAAEAAAEAAAAAAQAABQAAAAABAAACAAAAAAEAAAAAAAAAAQAAAQAAAAABAAAFAAAAAAEAAAIAAAAAAQAAAAAAAAABAAABAAAAAAEAAAUAAAAAAQAAAgAAAAABAAAAAAAAAAEAAAEAAAAAAQAABQAAAAABAAACAAAAAAEAAAAAAAAAAQAAAQAAAAABAAAFAAAAAAEAAAIAAAAAAQAAAAAAAAABAAABAAAAAAEAAAUAAAAAAQAAAgAAAAABAAAAAAAAAAEAAAEAAAAAAQAABQAAAAABAAACAAAAAAEAAAAAAAAAAQAAAQAAAAABAAAFAAAAAAEAAAIAAAAAAQAAAAAAAAABAAABAAAAAAEAAAUAAAAAAQAAAgAAAAABAAAAAAAAAAEAAAEAAAAAAQAABQAAAAABAAACAAAAAAEAAAAAAAAAAQAAAQAAAAABAAAFAAAAAAEAAAIAAAAAAQAAAAAAAAABAAABAAAAAAEAAAUAAAAAAQAAAgAAAAABAAAAAAAAAAEAAAEAAAAAAQAABAAAAAACAAABAAAAAAEAAAUAAAAAAQAAAgAAAAABAAAAAAAAAAEAAAEAAAAAAQAAAwAAAAABAAABAAAAAAEAAAUAAAAAAQAAAgAAAAABAAAAAAAAAAEAAAEAAAAAAQAABQAAAAABAAACAAAAAAEAAAAAAAAAAQAAAQAAAAABAAAFAAAAAAEAAAIAAAAAAQAAAAAAAAABAAABAAAAAAEAAAUAAAAAAQAAAgAAAAABAAAAAAAAAAEAAAEAAAAAAQAABQAAAAABAAACAAAAAAEAAAAAAAAAAQAAAQAAAAABAAAFAAAAAAEAAAIAAAAAAQAAAAAAAAABAAABAAAAAAEAAAUAAAAAAQAAAgAAAAABAAAAAAAAAAEAAAEAAAAAAQAABQAAAAABAAACAAAAAAEAAAAAAAAAAQAAAQAAAAABAAAFAAAAAAEAAAIAAAAAAQAAAAAAAAABAAABAAAAAAEAAAUAAAAAAQAAAgAAAAABAAAAAAAAAAEAAAEAAAAAAQAABAAAAAACAAABAAAAAAEAAAIAAAAAAQAABQAAAAABAAACAAAAAAEAAAAAAAAAAQAAAQAAAAABAAAFAAAAAAEAAAIAAAAAAQAAAAAAAAABAAABAAAAAAEAAAUAAAAAAQAAAgAAAAABAAAAAAAAAAEAAAEAAAAAAQAABQAAAAABAAACAAAAAAEAAAAAAAAAAQAAAQAAAAABAAAFAAAAAAEAAAIAAAAAAQAAAAAAAAABAAABAAAAAAEAAAUAAAAAAQAAAgAAAAABAAAAAAAAAAEAAAEAAAAAAQAABQAAAAABAAACAAAAAAEAAAAAAAAAAQAAAQAAAAABAAAFAAAAAAEAAAIAAAAAAQAAAAAAAAABAAABAAAAAAEAAAUAAAAAAQAAAgAAAAABAAAAAAAAAAEAAAEAAAAAAQAABQAAAAABAAACAAAAAAEAAAAAAAAAAQAAAQAAAAABAAAFAAAAAAEAAAIAAAAAAQAAAAAAAAABAAABAAAAAAEAAAUAAAAAAQAAAgAAAAABAAAAAAAAAAEAAAEAAAAAAQAABQAAAAABAAACAAAAAAEAAAAAAAAAAQAAAQAAAAABAAAEAAAAAAIAAAEAAAAAAQAABQAAAAABAAACAAAAAAEAAAAAAAAAAQAAAQAAAAABAAADAAAAAAEAAAEAAAAAAQAABQAAAAABAAACAAAAAAEAAAAAAAAAAQAAAQAAAAABAAADAAAAAAEAAAEAAAAAAQAABQAAAAABAAACAAAAAAEAAAAAAAAAAQAAAQAAAAABAAAFAAAAAAEAAAIAAAAAAQAAAAAAAAABAAABAAAAAAEAAAUAAAAAAQAAAgAAAAABAAAAAAAAAAEAAAEAAAAAAQAABQAAAAABAAACAAAAAAEAAAAAAAAAAQAAAQAAAAABAAAFAAAAAAEAAAIAAAAAAQAAAAAAAAABAAABAAAAAAEAAAUAAAAAAQAAAgAAAAABAAAAAAAAAAEAAAEAAAAAAQAABQAAAAABAAACAAAAAAEAAAAAAAAAAQAAAQAAAAABAAAFAAAAAAEAAAIAAAAAAQAAAAAAAAABAAABAAAAAAEAAAUAAAAAAQAAAgAAAAABAAAAAAAAAAEAAAEAAAAAAQAABQAAAAABAAACAAAAAAEAAAAAAAAAAQAAAQAAAAABAAAFAAAAAAEAAAIAAAAAAQAAAAAAAAABAAABAAAAAAEAAAUAAAAAAQAAAgAAAAABAAAAAAAAAAEAAAEAAAAAAQAABQAAAAABAAACAAAAAAEAAAAAAAAAAQAAAQAAAAABAAAFAAAAAAEAAAIAAAAAAQAAAAAAAAABAAABAAAAAAEAAAUAAAAAAQAAAgAAAAABAAAAAAAAAAEAAAEAAAAAAQAABQAAAAABAAACAAAAAAEAAAAAAAAAAQAAAQAAAAABAAAFAAAAAAEAAAIAAAAAAQAAAAAAAAABAAABAAAAAAEAAAUAAAAAAQAAAgAAAAABAAAAAAAAAAEAAAEAAAAAAQAABQAAAAABAAACAAAAAAEAAAAAAAAAAQAAAQAAAAABAAAFAAAAAAEAAAIAAAAAAQAAAAAAAAABAAABAAAAAAEAAAMAAAAAAQAAAQAAAAABAAACAAAAAAEAAAQAAAAAAgAAAQAAAAABAAAFAAAAAAEAAAIAAAAAAQAAAAAAAAABAAABAAAAAAEAAAUAAAAAAQAAAgAAAAABAAAAAAAAAAEAAAEAAAAAAQAABQAAAAABAAACAAAAAAEAAAAAAAAAAQAAAQAAAAABAAAFAAAAAAEAAAIAAAAAAQAAAAAAAAABAAABAAAAAAEAAAUAAAAAAQAAAgAAAAABAAAAAAAAAAEAAAEAAAAAAQAABQAAAAABAAACAAAAAAEAAAAAAAAAAQAAAQAAAAABAAAFAAAAAAEAAAIAAAAAAQAAAAAAAAABAAABAAAAAAEAAAUAAAAAAQAAAgAAAAABAAAAAAAAAAEAAAEAAAAAAQAABQAAAAABAAACAAAAAAEAAAAAAAAAAQAAAQAAAAABAAAFAAAAAAEAAAIAAAAAAQAAAAAAAAABAAABAAAAAAEAAAUAAAAAAQAAAgAAAAABAAAAAAAAAAEAAAEAAAAAAQAABQAAAAABAAACAAAAAAEAAAAAAAAAAQAAAQAAAAABAAAFAAAAAAEAAAIAAAAAAQAAAAAAAAABAAABAAAAAAEAAAUAAAAAAQAAAgAAAAABAAAAAAAAAAEAAAEAAAAAAQAABQAAAAABAAACAAAAAAEAAAAAAAAAAQAAAQAAAAABAAAFAAAAAAEAAAIAAAAAAQAAAAAAAAABAAABAAAAAAEAAAUAAAAAAQAAAgAAAAABAAAAAAAAAAEAAAEAAAAAAQAABQAAAAABAAACAAAAAAEAAAAAAAAAAQAAAQAAAAABAAAFAAAAAAEAAAIAAAAAAQAAAAAAAAABAAABAAAAAAEAAAUAAAAAAQAAAgAAAAABAAAAAAAAAAEAAAEAAAAAAQAAAwAAAAABAAABAAAAAAEAAAUAAAAAAQAAAgAAAAABAAAAAAAAAAEAAAEAAAAAAQAABQAAAAABAAACAAAAAAEAAAAAAAAAAQAAAQAAAAABAAAFAAAAAAEAAAIAAAAAAQAAAAAAAAABAAABAAAAAAEAAAMAAAAAAQAAAQAAAAAcc3RzYwAAAAAAAAABAAAAAQAAAfQAAAABAAAH5HN0c3oAAAAAAAAAAAAAAfQAAAQ2AAAANwAAABcAAAAWAAAAFAAAAIcAAABNAAAAJQAAACMAAAB5AAAAJgAAABYAAAAwAAAAOwAAACYAAAAVAAAAIQAAAF0AAAAgAAAAHQAAABIAAABjAAAAJAAAAB8AAAAXAAAAVwAAACIAAAAWAAAALgAAAEUAAABMAAAAIwAAACQAAABhAAAAJgAAADsAAAAVAAAAVwAAAEYAAAAiAAAAMgAAAD4AAABAAAAAIgAAACMAAAAyAAAAHwAAABsAAAAVAAAAPgAAACQAAAApAAAAFwAAAB4AAAAvAAAASgAAADMAAAAfAAAAGwAAAFUAAAAjAAAAKwAAAB8AAABzAAAAJAAAABIAAAAgAAAAQAAAACMAAAAUAAAAHgAAAEAAAAAeAAAAHQAAABIAAABgAAAANwAAAB8AAAAgAAAAHwAAABcAAAAVAAAAEgAAAFgAAAAlAAAAKAAAABIAAABxAAAAJQAAABIAAAAfAAAAGwAAABQAAAASAAAAEgAAAIQAAAAhAAAAHwAAABIAAAB2AAAAJAAAABIAAAAhAAAAgAAAACQAAAAWAAAAHwAAAEsAAAAqAAAAKQAAACwAAABeAAAAJQAAABoAAAAdAAAAUQAAADMAAAAeAAAAHQAAAGAAAAAoAAAAIAAAACEAAABfAAAALwAAAB0AAAArAAAAVQAAAC8AAAAeAAAAigAAADQAAAAuAAAAIQAAAEgAAAAsAAAAIwAAAB4AAABJAAAANAAAABgAAAApAAAAWQAAADQAAAAeAAAAKQAAAEYAAAAhAAAAOwAAABIAAABBAAAAJwAAACIAAAAcAAAAVgAAACgAAAAeAAAAOgAAAE0AAAAnAAAAEgAAAB8AAAA5AAAAIwAAABIAAAAfAAAAQQAAADoAAAA0AAAAGgAAAE4AAAA/AAAAHwAAAB0AAACQAAAANAAAACEAAAAfAAAAWgAAACgAAAAdAAAAHgAAAGkAAAA1AAAAGgAAAB8AAAAkAAAAQwAAAB8AAAAeAAAAGwAAABYAAAAUAAAAIwAAAF4AAAAiAAAAMAAAAC0AAABaAAAAJAAAACgAAAAyAAAAPwAAACYAAAAnAAAAUgAAACEAAAAaAAAANAAAAB8AAAAgAAAASAAAACYAAAAdAAAAFAAAAFAAAAAhAAAAHgAAABQAAABCAAAAMwAAADgAAAAgAAAAOgAAAB8AAAAcAAAAJwAAAFEAAAAhAAAAHwAAABIAAABdAAAAJAAAACEAAAAVAAAATQAAAD0AAAAnAAAAJgAAAEMAAAAjAAAAEgAAAB0AAAAbAAAAHgAAABQAAAAUAAAAKwAAACMAAAAZAAABsQAAADkAAAAmAAAAHQAAAB8AAABGAAAALwAAACYAAAAjAAAAOAAAACQAAAASAAAAKgAAAEQAAAAhAAAAJQAAABIAAABBAAAAMgAAACAAAAAfAAAATwAAACMAAAASAAAALQAAAE8AAAApAAAAOQAAABkAAAA4AAAALgAAACUAAAAxAAAAlQAAADgAAAAoAAAALwAAAFkAAAA0AAAAIQAAAB8AAAByAAAAOwAAACMAAAApAAAATwAAACgAAAAhAAAAEgAAAFAAAABBAAAAKwAAACAAAABEAAAAIQAAAB4AAAAxAAAALQAAAB8AAAAgAAAAQAAAACAAAAArAAAAGgAAAC0AAAASAAAARwAAAB8AAABFAAAAMwAAAB8AAAAgAAAARgAAAEEAAAAlAAAAIAAAADwAAAA5AAAAIQAAACEAAAA1AAAAKwAAAB8AAAAeAAAAOwAAABwAAAAeAAAAEgAAAEgAAABSAAAAIgAAACIAAAAiAAAAFAAAABQAAABEAAAAQgAAACEAAAA3AAAAEgAAAGMAAAAjAAAAEgAAAB4AAABKAAAAIgAAABIAAAAcAAAAaQAAACEAAAArAAAAEgAAAJoAAAAkAAAAEgAAACAAAAAaAAAAFAAAABIAAAA5AAAAGwAAAD0AAAAgAAAAHwAAAEoAAAA5AAAAGgAAACoAAABjAAAAKAAAACEAAAATAAAAfgAAADQAAAAgAAAALgAAAGQAAAAqAAAAIAAAACkAAABUAAAAJgAAABIAAAAfAAAAVQAAAGkAAAAgAAAAJwAAAF4AAAAlAAAAYgAAAHwAAAAqAAAALAAAAFsAAAAxAAAAHgAAACcAAABGAAAAPwAAACYAAAAiAAAAQQAAACoAAAAeAAAAGgAAADgAAAAlAAAALgAAABQAAABKAAAAJwAAACAAAAAoAAAALwAAACoAAAAaAAAAHQAAAD0AAAA4AAAAGwAAACUAAAB+AAAAOAAAACAAAAAeAAAASAAAADcAAAAeAAAAGgAAADsAAAAiAAAAMAAAABQAAABzAAAAMQAAACQAAAAoAAAATgAAAD0AAAAgAAAAHgAAAEcAAAA0AAAAHgAAABoAAABDAAAARgAAACEAAAAeAAAAfgAAAC8AAAAfAAAALwAAAFkAAAAlAAAAEgAAAB8AAAAwAAAANQAAABoAAAAcAAAASAAAAB0AAAASAAAAMwAAAFsAAAA8AAAANgAAACIAAAAwAAAARAAAACQAAAAfAAAARAAAACIAAAAxAAAAIgAAAEAAAAASAAAAWwAAACgAAAAeAAAAUwAAAGQAAAAzAAAAMgAAADcAAAAvAAAANAAAABRzdGNvAAAAAAAAAAEAAAAwAAAAYXVkdGEAAABZbWV0YQAAAAAAAAAhaGRscgAAAAAAAAAAbWRpcmFwcGwAAAAAAAAAAAAAAAAsaWxzdAAAACSpdG9vAAAAHGRhdGEAAAABAAAAAExhdmY2MS43LjEwMA==\" type=\"video/mp4\" />\n",
              "        </video>\n",
              "        "
            ],
            "text/plain": [
              "<IPython.core.display.HTML object>"
            ]
          },
          "metadata": {},
          "output_type": "display_data"
        }
      ],
      "source": [
        "import gymnasium as gym\n",
        "from gymnasium.wrappers import RecordVideo\n",
        "import random\n",
        "\n",
        "# Create environment with correct render mode\n",
        "env = gym.make(\"CartPole-v1\", render_mode=\"rgb_array\")\n",
        "\n",
        "# Wrap it to record video\n",
        "env = RecordVideo(env, video_folder=\"./video\")\n",
        "\n",
        "# Reset environment and unpack the new return format\n",
        "observation, info = env.reset()\n",
        "\n",
        "cumulative_reward = 0\n",
        "terminated = False\n",
        "truncated = False\n",
        "\n",
        "while not (terminated or truncated):\n",
        "        action = Reinforcement_Learning_agent(state)\n",
        "        \n",
        "        next_state, reward, terminated, truncated, info = env.step(action)\n",
        "        state = next_state\n",
        "        cumulative_reward += reward\n",
        "        cumulative_reward_results+=reward\n",
        "\n",
        "env.close()\n",
        "\n",
        "print(\"Cumulative reward:\", cumulative_reward)\n",
        "\n",
        "# Show video if you're in Jupyter\n",
        "show_video()\n"
      ]
    },
    {
      "cell_type": "code",
      "execution_count": null,
      "metadata": {},
      "outputs": [],
      "source": []
    }
  ],
  "metadata": {
    "colab": {
      "authorship_tag": "ABX9TyNczA+lJQOKjOo4XtzYjWQc",
      "include_colab_link": true,
      "provenance": []
    },
    "kernelspec": {
      "display_name": ".venv",
      "language": "python",
      "name": "python3"
    },
    "language_info": {
      "codemirror_mode": {
        "name": "ipython",
        "version": 3
      },
      "file_extension": ".py",
      "mimetype": "text/x-python",
      "name": "python",
      "nbconvert_exporter": "python",
      "pygments_lexer": "ipython3",
      "version": "3.11.4"
    }
  },
  "nbformat": 4,
  "nbformat_minor": 0
}
