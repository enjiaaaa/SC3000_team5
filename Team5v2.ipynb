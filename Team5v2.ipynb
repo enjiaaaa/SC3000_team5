{
  "cells": [
    {
      "cell_type": "markdown",
      "metadata": {
        "colab_type": "text",
        "id": "view-in-github"
      },
      "source": [
        "<a href=\"https://colab.research.google.com/github/yue-zhongqi/cartpole_colab/blob/main/cartpole.ipynb\" target=\"_parent\"><img src=\"https://colab.research.google.com/assets/colab-badge.svg\" alt=\"Open In Colab\"/></a>"
      ]
    },
    {
      "cell_type": "markdown",
      "metadata": {},
      "source": [
        "# SC3000 Lab Group:SCSB , Group 5\n",
        "\n",
        "Lim En Jia (U2320279L)\n",
        "- Building RL agent (Q-Learnng)\n",
        "- Collects and observes data to formulate results\n",
        "- Documentations\n",
        "\n",
        "\n",
        "Lee Jia Rong (U2322725D)\n",
        "- Building RL agent (Q-Learnng)\n",
        "- Collects and observes data to formulate results\n",
        "- Documentations\n",
        "\n",
        "\n",
        "Ng Zi Yuan (U2321488D)\n",
        "- Building RL agent (Q-Learnng)\n",
        "- Collects and observes data to formulate results\n",
        "- Documentations\n"
      ]
    },
    {
      "cell_type": "markdown",
      "metadata": {
        "id": "RwKbYeTgbaTA"
      },
      "source": [
        "## Importing Dependencies and Define Helper Functions"
      ]
    },
    {
      "cell_type": "code",
      "execution_count": 32,
      "metadata": {
        "id": "j6KpgCLGYWmj"
      },
      "outputs": [],
      "source": [
        "import gymnasium\n",
        "from gymnasium.wrappers import RecordVideo\n",
        "from gymnasium import logger as gymlogger\n",
        "import tensorflow as tf\n",
        "import numpy as np\n",
        "import random\n",
        "import matplotlib.pyplot as plt\n",
        "import math\n",
        "import glob\n",
        "import io\n",
        "import base64\n",
        "from IPython.display import HTML\n",
        "from IPython import display as ipythondisplay\n",
        "import logging\n",
        "\n",
        "#Function to display a recorded video from the 'video/' directory\n",
        "def show_video():\n",
        "    mp4list = glob.glob('video/*.mp4')\n",
        "    if len(mp4list) > 0:\n",
        "        mp4 = mp4list[0]\n",
        "        video = io.open(mp4, 'r+b').read()\n",
        "        encoded = base64.b64encode(video).decode('ascii')\n",
        "        display_html = f'''\n",
        "        <video alt=\"Recorded video\" autoplay loop controls style=\"height: 400px;\">\n",
        "            <source src=\"data:video/mp4;base64,{encoded}\" type=\"video/mp4\" />\n",
        "        </video>\n",
        "        '''\n",
        "        ipythondisplay.display(HTML(display_html))\n",
        "    else: \n",
        "        print(\"⚠️ Could not find any video in the 'video/' folder.\")\n"
      ]
    },
    {
      "cell_type": "markdown",
      "metadata": {
        "id": "ehbqP9CXbmo7"
      },
      "source": [
        "## Tutorial: Loading CartPole environment"
      ]
    },
    {
      "cell_type": "code",
      "execution_count": 33,
      "metadata": {
        "id": "Go12dH4qbwBy"
      },
      "outputs": [
        {
          "name": "stdout",
          "output_type": "stream",
          "text": [
            "Discrete(2)\n",
            "Box([-4.8               -inf -0.41887903        -inf], [4.8               inf 0.41887903        inf], (4,), float32)\n"
          ]
        }
      ],
      "source": [
        "env = gymnasium.make(\"CartPole-v1\")\n",
        "print(env.action_space)\n",
        "print(env.observation_space)"
      ]
    },
    {
      "cell_type": "markdown",
      "metadata": {
        "id": "9XZ9g3xrcAXE"
      },
      "source": [
        "### Action Space:\n",
        "We can check the action and observation space of this environment. Discrete(2) means that there are two valid discrete actions: 0 & 1."
      ]
    },
    {
      "cell_type": "markdown",
      "metadata": {
        "id": "pVXGWi_Ncfg-"
      },
      "source": [
        "The observation space is given below. The first two arrays define the minimum and maximum values of the 4 observed values, corresponding to cart position, velocity and pole angle, angular velocity."
      ]
    },
    {
      "cell_type": "code",
      "execution_count": 34,
      "metadata": {
        "colab": {
          "base_uri": "https://localhost:8080/"
        },
        "id": "DyqHr9I5cdkX",
        "outputId": "369a0733-e7c0-4bca-b427-5e1c603ff074"
      },
      "outputs": [
        {
          "name": "stdout",
          "output_type": "stream",
          "text": [
            "initial observation (array([-0.02329303, -0.00066377,  0.03462474, -0.0295532 ], dtype=float32), {})\n",
            "actionSpaceDiscrete(2)\n",
            "actionSpaceBox([-4.8               -inf -0.41887903        -inf], [4.8               inf 0.41887903        inf], (4,), float32)\n"
          ]
        }
      ],
      "source": [
        "observation = env.reset()\n",
        "print(\"initial observation\", observation)\n",
        "print(\"actionSpace{}\".format(env.action_space))\n",
        "print(\"actionSpace{}\".format(env.observation_space))"
      ]
    },
    {
      "cell_type": "code",
      "execution_count": 35,
      "metadata": {
        "colab": {
          "base_uri": "https://localhost:8080/"
        },
        "id": "MmfMDvyYdWGk",
        "outputId": "fa12ffd8-6707-4cbc-fb86-aef8484d5d17"
      },
      "outputs": [
        {
          "name": "stdout",
          "output_type": "stream",
          "text": [
            "New observations after choosing action 0: [-0.02330631 -0.19626471  0.03403367  0.27385   ]\n",
            "Reward for this step: 1.0\n",
            "Done? False\n"
          ]
        }
      ],
      "source": [
        "observation, reward, terminated, truncated, info = env.step(0)\n",
        "done = terminated or truncated\n",
        "\n",
        "print(\"New observations after choosing action 0:\", observation)\n",
        "print(\"Reward for this step:\", reward)\n",
        "print(\"Done?\", done)\n"
      ]
    },
    {
      "cell_type": "markdown",
      "metadata": {},
      "source": [
        "from this we can see that the agent has successfully balanced the pole for this time step and has been awarded a reward of 1, while the episiode is still running (not failed / achieved goal)"
      ]
    },
    {
      "cell_type": "markdown",
      "metadata": {
        "id": "tj0zCh59fhBb"
      },
      "source": [
        "## Using Naive Strategy\n",
        "\n",
        "Now we can play a full round of the game using a naive strategy (always choosing action 0), and show the cumulative reward in the round. Note that reward returned by env.step(*) corresponds to the reward for current step. So we have to accumulate the reward for each step. Clearly, the naive strategy performs poorly by surviving only a dozen of steps."
      ]
    },
    {
      "cell_type": "code",
      "execution_count": 36,
      "metadata": {
        "colab": {
          "base_uri": "https://localhost:8080/"
        },
        "id": "AVucQVRwf6Jm",
        "outputId": "72f0b7d5-7cb5-4e37-da3d-997c1bfb4641"
      },
      "outputs": [
        {
          "name": "stdout",
          "output_type": "stream",
          "text": [
            "Cumulative reward for this round: 9.0\n"
          ]
        }
      ],
      "source": [
        "observation, info = env.reset()\n",
        "cumulative_reward = 0\n",
        "terminated = False\n",
        "truncated = False\n",
        "\n",
        "while not (terminated or truncated):\n",
        "    observation, reward, terminated, truncated, info = env.step(0)\n",
        "    cumulative_reward += reward\n",
        "\n",
        "print(\"Cumulative reward for this round:\", cumulative_reward)\n"
      ]
    },
    {
      "cell_type": "markdown",
      "metadata": {},
      "source": [
        "# Task 1: Development of an RL agent - Q Learning Algorithm\n"
      ]
    },
    {
      "cell_type": "markdown",
      "metadata": {
        "id": "Cc6_e5c_huiq"
      },
      "source": [
        "# Initialization of parameters\n",
        "\n",
        "## Number of Bins\n",
        "Due to different levels of sensitivity of the 4 variables, the number of bins allocated varies.\n",
        "A variable's sensitivity depends on whether small changes to its value affect the environment's behavior greatly.\n",
        "The more sensitive the variable, the higher the number of bins\n",
        "\n",
        "### 1. Cart Position\n",
        "- Sensitivity: Low  \n",
        "- There is a lot of room for the cart to move, so small errors don’t matter much.  \n",
        "- 6 bins are sufficient.\n",
        "\n",
        "### 2. Cart Velocity\n",
        "- Sensitivity: Low  \n",
        "- Velocity changes are easy to correct and do not cause immediate failure.  \n",
        "- 6 bins are sufficient.\n",
        "\n",
        "### 3. Pole Angle (θ)\n",
        "- Sensitivity: Medium to High  \n",
        "- Small angle changes quickly cause instability, requiring precise control.  \n",
        "- 12 bins are used for finer resolution.\n",
        "\n",
        "### 4. Pole Angular Velocity (θ′)\n",
        "- Sensitivity: Very High  \n",
        "- Small changes lead to immediate tipping, making it the most critical variable.  \n",
        "- 50 bins are required for high precision.\n",
        "\n",
        "\n",
        "\n",
        "## Lower and Upper Bounds\n",
        "Based on observation space of the environment\n",
        "These define the minimum and maximum values each state variable can take.  \n",
        "Used to calculate bin sizes and map continuous states to discrete bins.\n",
        "\n",
        "## Bin Sizes Calculation\n",
        "To ensure that every bin covers an equal portion of the variable's range\n",
        "\n",
        "## Initializing of Q-Table\n",
        "### What is the Q-Table?\n",
        "Each state (cart position, velocity, pole angle, pole angular velocity) is represented as a discrete index (after discretization)\n",
        "\n",
        "Each action has a Q-value -> to show how good the action is in that particular state\n",
        "- The Q-table stores estimated Q-values for each discrete state-action pair.\n",
        "- Each state is represented by a tuple of discrete indices from binning the 4 state variables.\n",
        "- Each state has an associated list of Q-values for the possible actions.\n",
        "\n",
        "\n",
        "Q-values are updated over time through Q-learning.\n",
        "\n",
        "## Constant Variables\n",
        "\n",
        "These hyperparameters define the learning behavior and exploration strategy of the Q-learning agent.\n",
        "\n",
        "### LEARNING_RATE\n",
        "- Value: `0.1`\n",
        "- Description: The learning rate (α).  \n",
        "  Determines how much new Q-value estimates affect existing ones.  \n",
        "  A lower value results in slower, more stable learning, while a higher value can speed up learning but risks instability.\n",
        "\n",
        "### DISCOUNT\n",
        "- Value: `0.95`\n",
        "- Description: The discount factor (γ).  \n",
        "  Determines the importance of future rewards.  \n",
        "  A value close to 1 prioritizes long-term rewards, while lower values make the agent more short-sighted.\n",
        "\n",
        "### EPISODES\n",
        "- Value: `15000`\n",
        "- Description: Total number of episodes the agent will be trained.  \n",
        "  Based on testing:\n",
        "  - Less than 10,000 episodes typically leads to **undertraining**\n",
        "  - More than 20,000–30,000 episodes can lead to **overtraining**\n",
        "  - 15,000 is the chosen **sweet spot** for balanced learning.\n",
        "\n",
        "---\n",
        "\n",
        "## Exploration Parameters\n",
        "\n",
        "These control the agent's exploration-exploitation tradeoff using the ε-greedy strategy.\n",
        "\n",
        "### epsilon\n",
        "- Initial Value: `1.0`\n",
        "- Description: Starting exploration rate (ε).  \n",
        "  The agent explores completely randomly at the beginning to gather diverse experiences.\n",
        "\n",
        "### epsilon_decay\n",
        "- Value: `0.99944`\n",
        "- Description: The decay rate applied to epsilon after each episode.  \n",
        "  Gradually reduces exploration, allowing the agent to shift towards exploitation of learned policies.\n",
        "\n",
        "### min_epsilon\n",
        "- Value: `0.01`\n",
        "- Description: The minimum value that epsilon can decay to.  \n",
        "  Ensures that the agent continues exploring at least 1% of the time, preventing it from getting stuck in local optima.\n"
      ]
    },
    {
      "cell_type": "markdown",
      "metadata": {},
      "source": [
        "Number of Bins\n",
        "Due to different levels of sensitivity of the 4 state variables, the number of bins allocated to each varies."
      ]
    },
    {
      "cell_type": "code",
      "execution_count": null,
      "metadata": {},
      "outputs": [
        {
          "name": "stdout",
          "output_type": "stream",
          "text": [
            "initial observation [-0.1687164  -1.7383105   0.25509244  2.8774428 ]\n",
            "actionSpaceDiscrete(2)\n",
            "actionSpaceBox([-4.8               -inf -0.41887903        -inf], [4.8               inf 0.41887903        inf], (4,), float32)\n"
          ]
        }
      ],
      "source": [
        "# Parameters\n",
        "LEARNING_RATE = 0.1 # Learning rate for Q-learning\n",
        "DISCOUNT = 0.95     # Discount factor for future rewards\n",
        "EPISODES = 15000    # Total number of episodes to train agent\n",
        "# from what we tested, <10k leads to undertraining\n",
        "# and >20-30k leads to overtraining\n",
        "\n",
        "epsilon = 1.0\n",
        "epsilon_decay = 0.99944\n",
        "min_epsilon = 0.01\n",
        "print(\"initial observation\", observation)\n",
        "print(\"actionSpace{}\".format(env.action_space))\n",
        "print(\"actionSpace{}\".format(env.observation_space))\n",
        "# State space discretization\n",
        "bins = [6, 6, 12, 50]\n",
        "\n",
        "lower_bounds = np.array([-4.8, -5.0, -0.418, -5.0])\n",
        "upper_bounds = np.array([4.8, 5.0, 0.418, 5.0])\n",
        "\n",
        "bin_sizes = (upper_bounds - lower_bounds) / bins\n",
        "\n",
        "# Q-table\n",
        "q_table = np.random.uniform(low=0, high=1, size=(bins + [env.action_space.n]))"
      ]
    },
    {
      "cell_type": "markdown",
      "metadata": {},
      "source": [
        "### Convert the next continuous state into a discrete state.\n"
      ]
    },
    {
      "cell_type": "code",
      "execution_count": 38,
      "metadata": {
        "id": "Hk-M4QEfh6l5"
      },
      "outputs": [],
      "source": [
        "def get_discrete_state(state):\n",
        "    clipped = np.clip(state, lower_bounds, upper_bounds)\n",
        "    discrete = ((clipped - lower_bounds) / bin_sizes)\n",
        "    discrete = np.clip(discrete, 0, np.array(bins) - 1).astype(int) \n",
        "    return tuple(discrete)\n"
      ]
    },
    {
      "cell_type": "markdown",
      "metadata": {
        "id": "RAi7KKwNiegR"
      },
      "source": [
        "For Task 1, we can show the observation and chosen action below:"
      ]
    },
    {
      "cell_type": "code",
      "execution_count": 39,
      "metadata": {
        "colab": {
          "base_uri": "https://localhost:8080/"
        },
        "id": "ae2ia-vUiNKJ",
        "outputId": "22c614ca-5ba0-43d3-d27a-d79073b5d04e"
      },
      "outputs": [],
      "source": [
        "rewards_per_episode = []\n"
      ]
    },
    {
      "cell_type": "markdown",
      "metadata": {},
      "source": [
        "# Q-Learning Training Loop\n",
        "\n",
        "The training loop is responsible for running the agent through multiple episodes to learn optimal behavior.\n",
        "\n",
        "---\n",
        "\n",
        "## Episode Loop\n",
        "\n",
        "- Iterate through each episode (total defined by `EPISODES`)\n",
        "- At the start of each episode:\n",
        "  - Reset the environment to get the initial state\n",
        "  - Discretize the continuous state into a discrete index using predefined bins\n",
        "  - Initialize `episode_reward = 0` to track total reward\n",
        "  - Initialize flags to monitor if the episode ends (e.g., done or truncated)\n",
        "\n",
        "The episode continues until it reaches a terminal or truncated state.\n",
        "\n",
        "---\n",
        "\n",
        "## Epsilon-Greedy Action Selection\n",
        "\n",
        "This strategy helps balance **exploration** (trying new actions) and **exploitation** (using the best-known action).\n",
        "\n",
        "### Exploration\n",
        "- If a random number `< epsilon`, the agent **explores**:\n",
        "  - Choose a random action from the environment’s action space\n",
        "\n",
        "### Exploitation\n",
        "- Otherwise, the agent **exploits**:\n",
        "  - Select the action with the **highest Q-value** from the Q-table for the current state\n",
        "\n",
        "---\n",
        "\n",
        "## Environment Interaction\n",
        "\n",
        "- The selected action is applied to the environment\n",
        "- The agent receives:\n",
        "  - `next_state`: the resulting state\n",
        "  - `reward`: immediate reward for the action\n",
        "  - `done`: flag indicating whether the episode has ended\n",
        "- The next continuous state is then discretized for further Q-table updates\n",
        "\n",
        "---\n",
        "\n",
        "This loop continues until the episode ends, and the agent updates its Q-values accordingly.\n"
      ]
    },
    {
      "cell_type": "markdown",
      "metadata": {},
      "source": [
        "#### Resetting initial environment for cartpole"
      ]
    },
    {
      "cell_type": "code",
      "execution_count": 40,
      "metadata": {},
      "outputs": [],
      "source": [
        "env = gymnasium.make(\"CartPole-v1\")\n"
      ]
    },
    {
      "cell_type": "code",
      "execution_count": null,
      "metadata": {},
      "outputs": [
        {
          "name": "stdout",
          "output_type": "stream",
          "text": [
            "Episode 0 | Avg Reward (last 100): 23.00 | Epsilon: 0.9994\n",
            "Episode 500 | Avg Reward (last 100): 23.67 | Epsilon: 0.7553\n",
            "Episode 1000 | Avg Reward (last 100): 40.59 | Epsilon: 0.5708\n",
            "Episode 1500 | Avg Reward (last 100): 122.84 | Epsilon: 0.4314\n",
            "Episode 2000 | Avg Reward (last 100): 180.31 | Epsilon: 0.3260\n",
            "Episode 2500 | Avg Reward (last 100): 219.71 | Epsilon: 0.2464\n",
            "Episode 3000 | Avg Reward (last 100): 209.93 | Epsilon: 0.1862\n",
            "Episode 3500 | Avg Reward (last 100): 435.85 | Epsilon: 0.1407\n",
            "Episode 4000 | Avg Reward (last 100): 321.29 | Epsilon: 0.1063\n",
            "Episode 4500 | Avg Reward (last 100): 438.14 | Epsilon: 0.0804\n",
            "Episode 5000 | Avg Reward (last 100): 469.30 | Epsilon: 0.0607\n",
            "Episode 5500 | Avg Reward (last 100): 458.04 | Epsilon: 0.0459\n",
            "Episode 6000 | Avg Reward (last 100): 492.59 | Epsilon: 0.0347\n",
            "Episode 6500 | Avg Reward (last 100): 476.64 | Epsilon: 0.0262\n",
            "Episode 7000 | Avg Reward (last 100): 487.07 | Epsilon: 0.0198\n",
            "Episode 7500 | Avg Reward (last 100): 424.55 | Epsilon: 0.0150\n",
            "Episode 8000 | Avg Reward (last 100): 292.98 | Epsilon: 0.0113\n",
            "Episode 8500 | Avg Reward (last 100): 181.05 | Epsilon: 0.0100\n",
            "Episode 9000 | Avg Reward (last 100): 286.65 | Epsilon: 0.0100\n",
            "Episode 9500 | Avg Reward (last 100): 418.72 | Epsilon: 0.0100\n",
            "Episode 10000 | Avg Reward (last 100): 500.00 | Epsilon: 0.0100\n",
            "Episode 10500 | Avg Reward (last 100): 500.00 | Epsilon: 0.0100\n",
            "Episode 11000 | Avg Reward (last 100): 496.46 | Epsilon: 0.0100\n",
            "Episode 11500 | Avg Reward (last 100): 458.13 | Epsilon: 0.0100\n",
            "Episode 12000 | Avg Reward (last 100): 465.23 | Epsilon: 0.0100\n",
            "Episode 12500 | Avg Reward (last 100): 477.58 | Epsilon: 0.0100\n"
          ]
        }
      ],
      "source": [
        "for episode in range(EPISODES):\n",
        "    state, _ = env.reset()\n",
        "\n",
        "    discrete_state = get_discrete_state(state)\n",
        "    total_reward = 0\n",
        "    done = False\n",
        "    terminated = False\n",
        "    truncated = False\n",
        "\n",
        "\n",
        "    while not (terminated or truncated):\n",
        "        # Epsilon-greedy action selection\n",
        "        if np.random.random() < epsilon:\n",
        "            action = env.action_space.sample()\n",
        "        else:\n",
        "            action = np.argmax(q_table[discrete_state])\n",
        "\n",
        "        # next_state, reward, done, _, _ = env.step(action)\n",
        "        next_state, reward, terminated, truncated, info = env.step(action)\n",
        "        \n",
        "        # move to the next state\n",
        "        next_discrete_state = get_discrete_state(next_state)\n",
        "\n",
        "        # retrieve the maximum Q-value for the next state\n",
        "        # get the current Q-value for the taken action\n",
        "\n",
        "        max_future_q = np.max(q_table[next_discrete_state])\n",
        "        current_q = q_table[discrete_state + (action,)]\n",
        "        \n",
        "        # update Q-table using Bellman Equation\n",
        "        new_q = (1 - LEARNING_RATE) * current_q + LEARNING_RATE * (reward + DISCOUNT * max_future_q)\n",
        "        q_table[discrete_state + (action,)] = new_q\n",
        "\n",
        "        discrete_state = next_discrete_state\n",
        "        total_reward += reward\n",
        "\n",
        "    # decay epsilon for exploration-exploitation trade-off\n",
        "    if epsilon > min_epsilon:\n",
        "        epsilon *= epsilon_decay\n",
        "        epsilon = max(min_epsilon, epsilon)\n",
        "\n",
        "    # accumulate reward for performance tracking\n",
        "    # store total reward for analysis\n",
        "    rewards_per_episode.append(total_reward)\n",
        "\n",
        "    # print progress every 500 episodes\n",
        "    if episode % 500 == 0:\n",
        "        avg = np.mean(rewards_per_episode[-100:])\n",
        "        print(f\"Episode {episode} | Avg Reward (last 100): {avg:.2f} | Epsilon: {epsilon:.4f}\")"
      ]
    },
    {
      "cell_type": "code",
      "execution_count": null,
      "metadata": {},
      "outputs": [],
      "source": [
        "def Reinforcement_Learning_agent(state):\n",
        "    discrete_state=get_discrete_state(state)\n",
        "    action = np.argmax(q_table[discrete_state]) \n",
        "    return action"
      ]
    },
    {
      "cell_type": "markdown",
      "metadata": {
        "id": "-XtIQ0Rti1gm"
      },
      "source": [
        "## Task 2: Demonstrate the effectiveness of the RL agent"
      ]
    },
    {
      "cell_type": "markdown",
      "metadata": {},
      "source": [
        "This is done by printing the cumulative rewards after each run"
      ]
    },
    {
      "cell_type": "code",
      "execution_count": null,
      "metadata": {},
      "outputs": [
        {
          "name": "stdout",
          "output_type": "stream",
          "text": [
            "Cumulative reward for round 1: 123.0\n",
            "Cumulative reward for round 2: 119.0\n",
            "Cumulative reward for round 3: 110.0\n",
            "Cumulative reward for round 4: 126.0\n",
            "Cumulative reward for round 5: 126.0\n",
            "Cumulative reward for round 6: 130.0\n",
            "Cumulative reward for round 7: 112.0\n",
            "Cumulative reward for round 8: 120.0\n",
            "Cumulative reward for round 9: 118.0\n",
            "Cumulative reward for round 10: 123.0\n",
            "Cumulative reward for round 11: 110.0\n",
            "Cumulative reward for round 12: 122.0\n",
            "Cumulative reward for round 13: 118.0\n",
            "Cumulative reward for round 14: 109.0\n",
            "Cumulative reward for round 15: 126.0\n",
            "Cumulative reward for round 16: 117.0\n",
            "Cumulative reward for round 17: 124.0\n",
            "Cumulative reward for round 18: 133.0\n",
            "Cumulative reward for round 19: 131.0\n",
            "Cumulative reward for round 20: 117.0\n",
            "Cumulative reward for round 21: 129.0\n",
            "Cumulative reward for round 22: 106.0\n",
            "Cumulative reward for round 23: 124.0\n",
            "Cumulative reward for round 24: 125.0\n",
            "Cumulative reward for round 25: 121.0\n",
            "Cumulative reward for round 26: 116.0\n",
            "Cumulative reward for round 27: 115.0\n",
            "Cumulative reward for round 28: 122.0\n",
            "Cumulative reward for round 29: 113.0\n",
            "Cumulative reward for round 30: 124.0\n",
            "Cumulative reward for round 31: 120.0\n",
            "Cumulative reward for round 32: 120.0\n",
            "Cumulative reward for round 33: 126.0\n",
            "Cumulative reward for round 34: 128.0\n",
            "Cumulative reward for round 35: 123.0\n",
            "Cumulative reward for round 36: 117.0\n",
            "Cumulative reward for round 37: 111.0\n",
            "Cumulative reward for round 38: 114.0\n",
            "Cumulative reward for round 39: 119.0\n",
            "Cumulative reward for round 40: 117.0\n",
            "Cumulative reward for round 41: 114.0\n",
            "Cumulative reward for round 42: 116.0\n",
            "Cumulative reward for round 43: 134.0\n",
            "Cumulative reward for round 44: 112.0\n",
            "Cumulative reward for round 45: 120.0\n",
            "Cumulative reward for round 46: 121.0\n",
            "Cumulative reward for round 47: 119.0\n",
            "Cumulative reward for round 48: 112.0\n",
            "Cumulative reward for round 49: 133.0\n",
            "Cumulative reward for round 50: 120.0\n",
            "Cumulative reward for round 51: 113.0\n",
            "Cumulative reward for round 52: 108.0\n",
            "Cumulative reward for round 53: 123.0\n",
            "Cumulative reward for round 54: 127.0\n",
            "Cumulative reward for round 55: 113.0\n",
            "Cumulative reward for round 56: 123.0\n",
            "Cumulative reward for round 57: 110.0\n",
            "Cumulative reward for round 58: 114.0\n",
            "Cumulative reward for round 59: 116.0\n",
            "Cumulative reward for round 60: 121.0\n",
            "Cumulative reward for round 61: 133.0\n",
            "Cumulative reward for round 62: 127.0\n",
            "Cumulative reward for round 63: 114.0\n",
            "Cumulative reward for round 64: 117.0\n",
            "Cumulative reward for round 65: 120.0\n",
            "Cumulative reward for round 66: 115.0\n",
            "Cumulative reward for round 67: 105.0\n",
            "Cumulative reward for round 68: 123.0\n",
            "Cumulative reward for round 69: 113.0\n",
            "Cumulative reward for round 70: 129.0\n",
            "Cumulative reward for round 71: 135.0\n",
            "Cumulative reward for round 72: 115.0\n",
            "Cumulative reward for round 73: 110.0\n",
            "Cumulative reward for round 74: 113.0\n",
            "Cumulative reward for round 75: 113.0\n",
            "Cumulative reward for round 76: 127.0\n",
            "Cumulative reward for round 77: 119.0\n",
            "Cumulative reward for round 78: 109.0\n",
            "Cumulative reward for round 79: 125.0\n",
            "Cumulative reward for round 80: 120.0\n",
            "Cumulative reward for round 81: 131.0\n",
            "Cumulative reward for round 82: 132.0\n",
            "Cumulative reward for round 83: 115.0\n",
            "Cumulative reward for round 84: 114.0\n",
            "Cumulative reward for round 85: 120.0\n",
            "Cumulative reward for round 86: 112.0\n",
            "Cumulative reward for round 87: 107.0\n",
            "Cumulative reward for round 88: 112.0\n",
            "Cumulative reward for round 89: 113.0\n",
            "Cumulative reward for round 90: 120.0\n",
            "Cumulative reward for round 91: 120.0\n",
            "Cumulative reward for round 92: 120.0\n",
            "Cumulative reward for round 93: 104.0\n",
            "Cumulative reward for round 94: 110.0\n",
            "Cumulative reward for round 95: 126.0\n",
            "Cumulative reward for round 96: 129.0\n",
            "Cumulative reward for round 97: 123.0\n",
            "Cumulative reward for round 98: 107.0\n",
            "Cumulative reward for round 99: 126.0\n",
            "Cumulative reward for round 100: 133.0\n"
          ]
        }
      ],
      "source": [
        "env = gymnasium.make(\"CartPole-v1\")\n",
        "test_episodes=100\n",
        "episode_results = []\n",
        "cumulative_reward_results = int(0)\n",
        "for test_episode in range(test_episodes):\n",
        "    observation, info = env.reset()\n",
        "    state = observation\n",
        "\n",
        "    cumulative_reward = 0\n",
        "    terminated = False\n",
        "    truncated = False\n",
        "\n",
        "    while not (terminated or truncated):\n",
        "        action = Reinforcement_Learning_agent(state)\n",
        "        \n",
        "        next_state, reward, terminated, truncated, info = env.step(action)\n",
        "        state = next_state\n",
        "        cumulative_reward += reward\n",
        "        cumulative_reward_results+=reward\n",
        "        \n",
        "    episode_results.append(cumulative_reward)\n",
        "    print(f\"Cumulative reward for round {test_episode + 1}: {cumulative_reward}\")\n"
      ]
    },
    {
      "cell_type": "markdown",
      "metadata": {},
      "source": [
        "Plot the cumulative reward against all episodes "
      ]
    },
    {
      "cell_type": "code",
      "execution_count": null,
      "metadata": {
        "colab": {
          "base_uri": "https://localhost:8080/",
          "height": 295
        },
        "id": "RZrCKywQi6CE",
        "outputId": "e304ecc5-14b6-4cf1-831b-dcb42eb46351"
      },
      "outputs": [
        {
          "data": {
            "image/png": "[encoded data removed]",
            "text/plain": [
              "<Figure size 640x480 with 1 Axes>"
            ]
          },
          "metadata": {},
          "output_type": "display_data"
        }
      ],
      "source": [
        "plt.plot(episode_results)\n",
        "\n",
        "plt.title('Cumulative reward for each episode')\n",
        "plt.ylabel('Cumulative reward')\n",
        "plt.xlabel('episode')\n",
        "plt.show()"
      ]
    },
    {
      "cell_type": "markdown",
      "metadata": {
        "id": "XndSYH7wlvn7"
      },
      "source": [
        "Print the average reward over the 100 episodes."
      ]
    },
    {
      "cell_type": "code",
      "execution_count": null,
      "metadata": {
        "colab": {
          "base_uri": "https://localhost:8080/"
        },
        "id": "pOiOp9OYlo5Y",
        "outputId": "7a02ba7b-ff17-41f2-aa7f-eb50d49a83fd"
      },
      "outputs": [
        {
          "name": "stdout",
          "output_type": "stream",
          "text": [
            "Average cumulative reward: 119.29\n",
            "Is my agent good enough? False\n"
          ]
        }
      ],
      "source": [
        "print(\"Average cumulative reward:\", np.mean(episode_results))\n",
        "print(\"Is my agent good enough?\", np.mean(episode_results) > 195)"
      ]
    },
    {
      "cell_type": "markdown",
      "metadata": {
        "id": "Yg0DCT38lFA6"
      },
      "source": [
        "## Task 3: Render one episode played by the agent"
      ]
    },
    {
      "cell_type": "markdown",
      "metadata": {
        "id": "vx1awMr9lc_w"
      },
      "source": [
        "Plug your agent to the code below to obtain rendered result."
      ]
    },
    {
      "cell_type": "code",
      "execution_count": null,
      "metadata": {
        "colab": {
          "base_uri": "https://localhost:8080/",
          "height": 421
        },
        "id": "LYyavfbIa47D",
        "outputId": "10c2f1e7-f3b9-4975-ed25-7c380966a56c"
      },
      "outputs": [
        {
          "ename": "DependencyNotInstalled",
          "evalue": "moviepy is not installed, run `pip install \"gymnasium[other]\"`",
          "output_type": "error",
          "traceback": [
            "\u001b[31m---------------------------------------------------------------------------\u001b[39m",
            "\u001b[31mModuleNotFoundError\u001b[39m                       Traceback (most recent call last)",
            "\u001b[36mFile \u001b[39m\u001b[32mc:\\Users\\calvi\\source\\repos\\SC3000_team5\\.venv\\Lib\\site-packages\\gymnasium\\utils\\save_video.py:13\u001b[39m\n\u001b[32m     12\u001b[39m \u001b[38;5;28;01mtry\u001b[39;00m:\n\u001b[32m---> \u001b[39m\u001b[32m13\u001b[39m     \u001b[38;5;28;01mfrom\u001b[39;00m\u001b[38;5;250m \u001b[39m\u001b[34;01mmoviepy\u001b[39;00m\u001b[34;01m.\u001b[39;00m\u001b[34;01mvideo\u001b[39;00m\u001b[34;01m.\u001b[39;00m\u001b[34;01mio\u001b[39;00m\u001b[34;01m.\u001b[39;00m\u001b[34;01mImageSequenceClip\u001b[39;00m\u001b[38;5;250m \u001b[39m\u001b[38;5;28;01mimport\u001b[39;00m ImageSequenceClip\n\u001b[32m     14\u001b[39m \u001b[38;5;28;01mexcept\u001b[39;00m \u001b[38;5;167;01mImportError\u001b[39;00m \u001b[38;5;28;01mas\u001b[39;00m e:\n",
            "\u001b[31mModuleNotFoundError\u001b[39m: No module named 'moviepy'",
            "\nThe above exception was the direct cause of the following exception:\n",
            "\u001b[31mDependencyNotInstalled\u001b[39m                    Traceback (most recent call last)",
            "\u001b[36mCell\u001b[39m\u001b[36m \u001b[39m\u001b[32mIn[31]\u001b[39m\u001b[32m, line 9\u001b[39m\n\u001b[32m      6\u001b[39m env = gym.make(\u001b[33m\"\u001b[39m\u001b[33mCartPole-v1\u001b[39m\u001b[33m\"\u001b[39m, render_mode=\u001b[33m\"\u001b[39m\u001b[33mrgb_array\u001b[39m\u001b[33m\"\u001b[39m)\n\u001b[32m      8\u001b[39m \u001b[38;5;66;03m# Wrap it to record video\u001b[39;00m\n\u001b[32m----> \u001b[39m\u001b[32m9\u001b[39m env = \u001b[43mRecordVideo\u001b[49m\u001b[43m(\u001b[49m\u001b[43menv\u001b[49m\u001b[43m,\u001b[49m\u001b[43m \u001b[49m\u001b[43mvideo_folder\u001b[49m\u001b[43m=\u001b[49m\u001b[33;43m\"\u001b[39;49m\u001b[33;43m./video\u001b[39;49m\u001b[33;43m\"\u001b[39;49m\u001b[43m)\u001b[49m\n\u001b[32m     11\u001b[39m \u001b[38;5;66;03m# Reset environment and unpack the new return format\u001b[39;00m\n\u001b[32m     12\u001b[39m observation, info = env.reset()\n",
            "\u001b[36mFile \u001b[39m\u001b[32mc:\\Users\\calvi\\source\\repos\\SC3000_team5\\.venv\\Lib\\site-packages\\gymnasium\\wrappers\\rendering.py:273\u001b[39m, in \u001b[36mRecordVideo.__init__\u001b[39m\u001b[34m(self, env, video_folder, episode_trigger, step_trigger, video_length, name_prefix, fps, disable_logger)\u001b[39m\n\u001b[32m    267\u001b[39m     \u001b[38;5;28;01mraise\u001b[39;00m \u001b[38;5;167;01mValueError\u001b[39;00m(\n\u001b[32m    268\u001b[39m         \u001b[33mf\u001b[39m\u001b[33m\"\u001b[39m\u001b[33mRender mode is \u001b[39m\u001b[38;5;132;01m{\u001b[39;00menv.render_mode\u001b[38;5;132;01m}\u001b[39;00m\u001b[33m, which is incompatible with RecordVideo.\u001b[39m\u001b[33m\"\u001b[39m,\n\u001b[32m    269\u001b[39m         \u001b[33m\"\u001b[39m\u001b[33mInitialize your environment with a render_mode that returns an image, such as rgb_array.\u001b[39m\u001b[33m\"\u001b[39m,\n\u001b[32m    270\u001b[39m     )\n\u001b[32m    272\u001b[39m \u001b[38;5;28;01mif\u001b[39;00m episode_trigger \u001b[38;5;129;01mis\u001b[39;00m \u001b[38;5;28;01mNone\u001b[39;00m \u001b[38;5;129;01mand\u001b[39;00m step_trigger \u001b[38;5;129;01mis\u001b[39;00m \u001b[38;5;28;01mNone\u001b[39;00m:\n\u001b[32m--> \u001b[39m\u001b[32m273\u001b[39m     \u001b[38;5;28;01mfrom\u001b[39;00m\u001b[38;5;250m \u001b[39m\u001b[34;01mgymnasium\u001b[39;00m\u001b[34;01m.\u001b[39;00m\u001b[34;01mutils\u001b[39;00m\u001b[34;01m.\u001b[39;00m\u001b[34;01msave_video\u001b[39;00m\u001b[38;5;250m \u001b[39m\u001b[38;5;28;01mimport\u001b[39;00m capped_cubic_video_schedule\n\u001b[32m    275\u001b[39m     episode_trigger = capped_cubic_video_schedule\n\u001b[32m    277\u001b[39m \u001b[38;5;28mself\u001b[39m.episode_trigger = episode_trigger\n",
            "\u001b[36mFile \u001b[39m\u001b[32mc:\\Users\\calvi\\source\\repos\\SC3000_team5\\.venv\\Lib\\site-packages\\gymnasium\\utils\\save_video.py:15\u001b[39m\n\u001b[32m     13\u001b[39m     \u001b[38;5;28;01mfrom\u001b[39;00m\u001b[38;5;250m \u001b[39m\u001b[34;01mmoviepy\u001b[39;00m\u001b[34;01m.\u001b[39;00m\u001b[34;01mvideo\u001b[39;00m\u001b[34;01m.\u001b[39;00m\u001b[34;01mio\u001b[39;00m\u001b[34;01m.\u001b[39;00m\u001b[34;01mImageSequenceClip\u001b[39;00m\u001b[38;5;250m \u001b[39m\u001b[38;5;28;01mimport\u001b[39;00m ImageSequenceClip\n\u001b[32m     14\u001b[39m \u001b[38;5;28;01mexcept\u001b[39;00m \u001b[38;5;167;01mImportError\u001b[39;00m \u001b[38;5;28;01mas\u001b[39;00m e:\n\u001b[32m---> \u001b[39m\u001b[32m15\u001b[39m     \u001b[38;5;28;01mraise\u001b[39;00m gym.error.DependencyNotInstalled(\n\u001b[32m     16\u001b[39m         \u001b[33m'\u001b[39m\u001b[33mmoviepy is not installed, run `pip install \u001b[39m\u001b[33m\"\u001b[39m\u001b[33mgymnasium[other]\u001b[39m\u001b[33m\"\u001b[39m\u001b[33m`\u001b[39m\u001b[33m'\u001b[39m\n\u001b[32m     17\u001b[39m     ) \u001b[38;5;28;01mfrom\u001b[39;00m\u001b[38;5;250m \u001b[39m\u001b[34;01me\u001b[39;00m\n\u001b[32m     20\u001b[39m \u001b[38;5;28;01mdef\u001b[39;00m\u001b[38;5;250m \u001b[39m\u001b[34mcapped_cubic_video_schedule\u001b[39m(episode_id: \u001b[38;5;28mint\u001b[39m) -> \u001b[38;5;28mbool\u001b[39m:\n\u001b[32m     21\u001b[39m \u001b[38;5;250m    \u001b[39m\u001b[33mr\u001b[39m\u001b[33;03m\"\"\"The default episode trigger.\u001b[39;00m\n\u001b[32m     22\u001b[39m \n\u001b[32m     23\u001b[39m \u001b[33;03m    This function will trigger recordings at the episode indices :math:`\\{0, 1, 4, 8, 27, ..., k^3, ..., 729, 1000, 2000, 3000, ...\\}`\u001b[39;00m\n\u001b[32m   (...)\u001b[39m\u001b[32m     29\u001b[39m \u001b[33;03m        If to apply a video schedule number\u001b[39;00m\n\u001b[32m     30\u001b[39m \u001b[33;03m    \"\"\"\u001b[39;00m\n",
            "\u001b[31mDependencyNotInstalled\u001b[39m: moviepy is not installed, run `pip install \"gymnasium[other]\"`"
          ]
        }
      ],
      "source": [
        "import gymnasium as gym\n",
        "from gymnasium.wrappers import RecordVideo\n",
        "import random\n",
        "\n",
        "# Create environment with correct render mode\n",
        "env = gym.make(\"CartPole-v1\", render_mode=\"rgb_array\")\n",
        "\n",
        "# Wrap it to record video\n",
        "env = RecordVideo(env, video_folder=\"./video\")\n",
        "\n",
        "# Reset environment and unpack the new return format\n",
        "observation, info = env.reset()\n",
        "\n",
        "cumulative_reward = 0\n",
        "terminated = False\n",
        "truncated = False\n",
        "\n",
        "while not (terminated or truncated):\n",
        "        action = Reinforcement_Learning_agent(state)\n",
        "        \n",
        "        next_state, reward, terminated, truncated, info = env.step(action)\n",
        "        state = next_state\n",
        "        cumulative_reward += reward\n",
        "        cumulative_reward_results+=reward\n",
        "\n",
        "env.close()\n",
        "\n",
        "print(\"Cumulative reward:\", cumulative_reward)\n",
        "\n",
        "# Show video if you're in Jupyter\n",
        "show_video()\n"
      ]
    },
    {
      "cell_type": "code",
      "execution_count": null,
      "metadata": {},
      "outputs": [],
      "source": []
    }
  ],
  "metadata": {
    "colab": {
      "authorship_tag": "ABX9TyNczA+lJQOKjOo4XtzYjWQc",
      "include_colab_link": true,
      "provenance": []
    },
    "kernelspec": {
      "display_name": ".venv",
      "language": "python",
      "name": "python3"
    },
    "language_info": {
      "codemirror_mode": {
        "name": "ipython",
        "version": 3
      },
      "file_extension": ".py",
      "mimetype": "text/x-python",
      "name": "python",
      "nbconvert_exporter": "python",
      "pygments_lexer": "ipython3",
      "version": "3.12.7"
    }
  },
  "nbformat": 4,
  "nbformat_minor": 0
}
