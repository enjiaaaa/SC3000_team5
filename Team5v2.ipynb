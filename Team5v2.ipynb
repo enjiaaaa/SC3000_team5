{
  "cells": [
    {
      "cell_type": "markdown",
      "metadata": {
        "colab_type": "text",
        "id": "view-in-github"
      },
      "source": [
        "<a href=\"https://colab.research.google.com/github/yue-zhongqi/cartpole_colab/blob/main/cartpole.ipynb\" target=\"_parent\"><img src=\"https://colab.research.google.com/assets/colab-badge.svg\" alt=\"Open In Colab\"/></a>"
      ]
    },
    {
      "cell_type": "markdown",
      "metadata": {},
      "source": [
        "# SC3000 Lab Group:SCSB , Group 5\n",
        "\n",
        "Lim En Jia (U2320279L)\n",
        "- Building RL agent (Q-Learnng)\n",
        "- Collects and observes data to formulate results\n",
        "- Documentations\n",
        "\n",
        "\n",
        "Lee Jia Rong (U2322725D)\n",
        "- Building RL agent (Q-Learnng)\n",
        "- Collects and observes data to formulate results\n",
        "- Documentations\n",
        "\n",
        "\n",
        "Ng Zi Yuan (U2321488D)\n",
        "- Building RL agent (Q-Learnng)\n",
        "- Collects and observes data to formulate results\n",
        "- Documentations\n"
      ]
    },
    {
      "cell_type": "markdown",
      "metadata": {
        "id": "RwKbYeTgbaTA"
      },
      "source": [
        "## Importing Dependencies and Define Helper Functions"
      ]
    },
    {
      "cell_type": "code",
      "execution_count": 22,
      "metadata": {
        "id": "j6KpgCLGYWmj"
      },
      "outputs": [],
      "source": [
        "import gymnasium\n",
        "from gymnasium.wrappers import RecordVideo\n",
        "from gymnasium import logger as gymlogger\n",
        "import tensorflow as tf\n",
        "import numpy as np\n",
        "import random\n",
        "import matplotlib.pyplot as plt\n",
        "import math\n",
        "import glob\n",
        "import io\n",
        "import base64\n",
        "from IPython.display import HTML\n",
        "from IPython import display as ipythondisplay\n",
        "import logging\n",
        "\n",
        "#Function to display a recorded video from the 'video/' directory\n",
        "def show_video():\n",
        "    mp4list = glob.glob('video/*.mp4')\n",
        "    if len(mp4list) > 0:\n",
        "        mp4 = mp4list[0]\n",
        "        video = io.open(mp4, 'r+b').read()\n",
        "        encoded = base64.b64encode(video).decode('ascii')\n",
        "        display_html = f'''\n",
        "        <video alt=\"Recorded video\" autoplay loop controls style=\"height: 400px;\">\n",
        "            <source src=\"data:video/mp4;base64,{encoded}\" type=\"video/mp4\" />\n",
        "        </video>\n",
        "        '''\n",
        "        ipythondisplay.display(HTML(display_html))\n",
        "    else: \n",
        "        print(\"⚠️ Could not find any video in the 'video/' folder.\")\n"
      ]
    },
    {
      "cell_type": "markdown",
      "metadata": {
        "id": "ehbqP9CXbmo7"
      },
      "source": [
        "## Tutorial: Loading CartPole environment"
      ]
    },
    {
      "cell_type": "code",
      "execution_count": 23,
      "metadata": {
        "id": "Go12dH4qbwBy"
      },
      "outputs": [
        {
          "name": "stdout",
          "output_type": "stream",
          "text": [
            "Discrete(2)\n",
            "Box([-4.8               -inf -0.41887903        -inf], [4.8               inf 0.41887903        inf], (4,), float32)\n"
          ]
        }
      ],
      "source": [
        "env = gymnasium.make(\"CartPole-v1\")\n",
        "print(env.action_space)\n",
        "print(env.observation_space)"
      ]
    },
    {
      "cell_type": "markdown",
      "metadata": {
        "id": "9XZ9g3xrcAXE"
      },
      "source": [
        "### Action Space:\n",
        "We can check the action and observation space of this environment. Discrete(2) means that there are two valid discrete actions: 0 & 1."
      ]
    },
    {
      "cell_type": "markdown",
      "metadata": {
        "id": "pVXGWi_Ncfg-"
      },
      "source": [
        "The observation space is given below. The first two arrays define the minimum and maximum values of the 4 observed values, corresponding to cart position, velocity and pole angle, angular velocity."
      ]
    },
    {
      "cell_type": "code",
      "execution_count": 24,
      "metadata": {
        "colab": {
          "base_uri": "https://localhost:8080/"
        },
        "id": "DyqHr9I5cdkX",
        "outputId": "369a0733-e7c0-4bca-b427-5e1c603ff074"
      },
      "outputs": [
        {
          "name": "stdout",
          "output_type": "stream",
          "text": [
            "initial observation (array([-0.02469873,  0.04792952,  0.0465314 ,  0.02677745], dtype=float32), {})\n",
            "actionSpaceDiscrete(2)\n",
            "actionSpaceBox([-4.8               -inf -0.41887903        -inf], [4.8               inf 0.41887903        inf], (4,), float32)\n"
          ]
        }
      ],
      "source": [
        "observation = env.reset()\n",
        "print(\"initial observation\", observation)\n",
        "print(\"actionSpace{}\".format(env.action_space))\n",
        "print(\"actionSpace{}\".format(env.observation_space))"
      ]
    },
    {
      "cell_type": "code",
      "execution_count": 25,
      "metadata": {
        "colab": {
          "base_uri": "https://localhost:8080/"
        },
        "id": "MmfMDvyYdWGk",
        "outputId": "fa12ffd8-6707-4cbc-fb86-aef8484d5d17"
      },
      "outputs": [
        {
          "name": "stdout",
          "output_type": "stream",
          "text": [
            "New observations after choosing action 0: [-0.02374014 -0.14782777  0.04706695  0.33377084]\n",
            "Reward for this step: 1.0\n",
            "Done? False\n"
          ]
        }
      ],
      "source": [
        "observation, reward, terminated, truncated, info = env.step(0)\n",
        "done = terminated or truncated\n",
        "\n",
        "print(\"New observations after choosing action 0:\", observation)\n",
        "print(\"Reward for this step:\", reward)\n",
        "print(\"Done?\", done)\n"
      ]
    },
    {
      "cell_type": "markdown",
      "metadata": {},
      "source": [
        "from this we can see that the agent has successfully balanced the pole for this time step and has been awarded a reward of 1, while the episiode is still running (not failed / achieved goal)"
      ]
    },
    {
      "cell_type": "markdown",
      "metadata": {
        "id": "tj0zCh59fhBb"
      },
      "source": [
        "## Using Naive Strategy\n",
        "\n",
        "Now we can play a full round of the game using a naive strategy (always choosing action 0), and show the cumulative reward in the round. Note that reward returned by env.step(*) corresponds to the reward for current step. So we have to accumulate the reward for each step. Clearly, the naive strategy performs poorly by surviving only a dozen of steps."
      ]
    },
    {
      "cell_type": "code",
      "execution_count": 26,
      "metadata": {
        "colab": {
          "base_uri": "https://localhost:8080/"
        },
        "id": "AVucQVRwf6Jm",
        "outputId": "72f0b7d5-7cb5-4e37-da3d-997c1bfb4641"
      },
      "outputs": [
        {
          "name": "stdout",
          "output_type": "stream",
          "text": [
            "Cumulative reward for this round: 10.0\n"
          ]
        }
      ],
      "source": [
        "observation, info = env.reset()\n",
        "cumulative_reward = 0\n",
        "terminated = False\n",
        "truncated = False\n",
        "\n",
        "while not (terminated or truncated):\n",
        "    observation, reward, terminated, truncated, info = env.step(0)\n",
        "    cumulative_reward += reward\n",
        "\n",
        "print(\"Cumulative reward for this round:\", cumulative_reward)\n"
      ]
    },
    {
      "cell_type": "markdown",
      "metadata": {},
      "source": [
        "# Task 1: Development of an RL agent - Q Learning Algorithm\n"
      ]
    },
    {
      "cell_type": "markdown",
      "metadata": {
        "id": "Cc6_e5c_huiq"
      },
      "source": [
        "# Initialization of parameters\n",
        "\n",
        "## Number of Bins\n",
        "Due to different levels of sensitivity of the 4 variables, the number of bins allocated varies.\n",
        "A variable's sensitivity depends on whether small changes to its value affect the environment's behavior greatly.\n",
        "The more sensitive the variable, the higher the number of bins\n",
        "\n",
        "### 1. Cart Position\n",
        "- Sensitivity: Low  \n",
        "- There is a lot of room for the cart to move, so small errors don’t matter much.  \n",
        "- 6 bins are sufficient.\n",
        "\n",
        "### 2. Cart Velocity\n",
        "- Sensitivity: Low  \n",
        "- Velocity changes are easy to correct and do not cause immediate failure.  \n",
        "- 6 bins are sufficient.\n",
        "\n",
        "### 3. Pole Angle (θ)\n",
        "- Sensitivity: Medium to High  \n",
        "- Small angle changes quickly cause instability, requiring precise control.  \n",
        "- 12 bins are used for finer resolution.\n",
        "\n",
        "### 4. Pole Angular Velocity (θ′)\n",
        "- Sensitivity: Very High  \n",
        "- Small changes lead to immediate tipping, making it the most critical variable.  \n",
        "- 50 bins are required for high precision.\n",
        "\n",
        "\n",
        "\n",
        "## Lower and Upper Bounds\n",
        "Based on observation space of the environment\n",
        "These define the minimum and maximum values each state variable can take.  \n",
        "Used to calculate bin sizes and map continuous states to discrete bins.\n",
        "\n",
        "## Bin Sizes Calculation\n",
        "To ensure that every bin covers an equal portion of the variable's range\n",
        "\n",
        "## Initializing of Q-Table\n",
        "### What is the Q-Table?\n",
        "Each state (cart position, velocity, pole angle, pole angular velocity) is represented as a discrete index (after discretization)\n",
        "\n",
        "Each action has a Q-value -> to show how good the action is in that particular state\n",
        "- The Q-table stores estimated Q-values for each discrete state-action pair.\n",
        "- Each state is represented by a tuple of discrete indices from binning the 4 state variables.\n",
        "- Each state has an associated list of Q-values for the possible actions.\n",
        "\n",
        "\n",
        "Q-values are updated over time through Q-learning.\n",
        "\n",
        "## Constant Variables\n",
        "\n",
        "These hyperparameters define the learning behavior and exploration strategy of the Q-learning agent.\n",
        "\n",
        "### LEARNING_RATE\n",
        "- Value: `0.1`\n",
        "- Description: The learning rate (α).  \n",
        "  Determines how much new Q-value estimates affect existing ones.  \n",
        "  A lower value results in slower, more stable learning, while a higher value can speed up learning but risks instability.\n",
        "\n",
        "### DISCOUNT\n",
        "- Value: `0.95`\n",
        "- Description: The discount factor (γ).  \n",
        "  Determines the importance of future rewards.  \n",
        "  A value close to 1 prioritizes long-term rewards, while lower values make the agent more short-sighted.\n",
        "\n",
        "### EPISODES\n",
        "- Value: `15000`\n",
        "- Description: Total number of episodes the agent will be trained.  \n",
        "  Based on testing:\n",
        "  - Less than 10,000 episodes typically leads to **undertraining**\n",
        "  - More than 20,000–30,000 episodes can lead to **overtraining**\n",
        "  - 15,000 is the chosen **sweet spot** for balanced learning.\n",
        "\n",
        "---\n",
        "\n",
        "## Exploration Parameters\n",
        "\n",
        "These control the agent's exploration-exploitation tradeoff using the ε-greedy strategy.\n",
        "\n",
        "### epsilon\n",
        "- Initial Value: `1.0`\n",
        "- Description: Starting exploration rate (ε).  \n",
        "  The agent explores completely randomly at the beginning to gather diverse experiences.\n",
        "\n",
        "### epsilon_decay\n",
        "- Value: `0.99944`\n",
        "- Description: The decay rate applied to epsilon after each episode.  \n",
        "  Gradually reduces exploration, allowing the agent to shift towards exploitation of learned policies.\n",
        "\n",
        "### min_epsilon\n",
        "- Value: `0.01`\n",
        "- Description: The minimum value that epsilon can decay to.  \n",
        "  Ensures that the agent continues exploring at least 1% of the time, preventing it from getting stuck in local optima.\n"
      ]
    },
    {
      "cell_type": "markdown",
      "metadata": {},
      "source": [
        "Number of Bins\n",
        "Due to different levels of sensitivity of the 4 state variables, the number of bins allocated to each varies."
      ]
    },
    {
      "cell_type": "code",
      "execution_count": 27,
      "metadata": {},
      "outputs": [
        {
          "name": "stdout",
          "output_type": "stream",
          "text": [
            "initial observation [-0.12551722 -1.9453578   0.24157816  3.0763042 ]\n",
            "actionSpaceDiscrete(2)\n",
            "actionSpaceBox([-4.8               -inf -0.41887903        -inf], [4.8               inf 0.41887903        inf], (4,), float32)\n"
          ]
        }
      ],
      "source": [
        "# Parameters\n",
        "LEARNING_RATE = 0.1 # Learning rate for Q-learning\n",
        "DISCOUNT = 0.95     # Discount factor for future rewards\n",
        "EPISODES = 15000    # Total number of episodes to train agent\n",
        "# from what we tested, <10k leads to undertraining\n",
        "# and >20-30k leads to overtraining\n",
        "\n",
        "epsilon = 1.0\n",
        "epsilon_decay = 0.99944\n",
        "min_epsilon = 0.01\n",
        "print(\"initial observation\", observation)\n",
        "print(\"actionSpace{}\".format(env.action_space))\n",
        "print(\"actionSpace{}\".format(env.observation_space))\n",
        "# State space discretization\n",
        "bins = [6, 6, 12, 50]\n",
        "\n",
        "lower_bounds = np.array([-4.8, -5.0, -0.418, -5.0])\n",
        "upper_bounds = np.array([4.8, 5.0, 0.418, 5.0])\n",
        "\n",
        "bin_sizes = (upper_bounds - lower_bounds) / bins\n",
        "\n",
        "# Q-table\n",
        "q_table = np.random.uniform(low=0, high=1, size=(bins + [env.action_space.n]))"
      ]
    },
    {
      "cell_type": "markdown",
      "metadata": {},
      "source": [
        "### Convert the next continuous state into a discrete state.\n"
      ]
    },
    {
      "cell_type": "code",
      "execution_count": 28,
      "metadata": {
        "id": "Hk-M4QEfh6l5"
      },
      "outputs": [],
      "source": [
        "def get_discrete_state(state):\n",
        "    clipped = np.clip(state, lower_bounds, upper_bounds)\n",
        "    discrete = ((clipped - lower_bounds) / bin_sizes)\n",
        "    discrete = np.clip(discrete, 0, np.array(bins) - 1).astype(int) \n",
        "    return tuple(discrete)\n"
      ]
    },
    {
      "cell_type": "markdown",
      "metadata": {
        "id": "RAi7KKwNiegR"
      },
      "source": [
        "For Task 1, we can show the observation and chosen action below:"
      ]
    },
    {
      "cell_type": "code",
      "execution_count": 29,
      "metadata": {
        "colab": {
          "base_uri": "https://localhost:8080/"
        },
        "id": "ae2ia-vUiNKJ",
        "outputId": "22c614ca-5ba0-43d3-d27a-d79073b5d04e"
      },
      "outputs": [],
      "source": [
        "rewards_per_episode = []\n"
      ]
    },
    {
      "cell_type": "markdown",
      "metadata": {},
      "source": [
        "# Q-Learning Training Loop\n",
        "\n",
        "The training loop is responsible for running the agent through multiple episodes to learn optimal behavior.\n",
        "\n",
        "---\n",
        "\n",
        "## Episode Loop\n",
        "\n",
        "- Iterate through each episode (total defined by `EPISODES`)\n",
        "- At the start of each episode:\n",
        "  - Reset the environment to get the initial state\n",
        "  - Discretize the continuous state into a discrete index using predefined bins\n",
        "  - Initialize `episode_reward = 0` to track total reward\n",
        "  - Initialize flags to monitor if the episode ends (e.g., done or truncated)\n",
        "\n",
        "The episode continues until it reaches a terminal or truncated state.\n",
        "\n",
        "---\n",
        "\n",
        "## Epsilon-Greedy Action Selection\n",
        "\n",
        "This strategy helps balance **exploration** (trying new actions) and **exploitation** (using the best-known action).\n",
        "\n",
        "### Exploration\n",
        "- If a random number `< epsilon`, the agent **explores**:\n",
        "  - Choose a random action from the environment’s action space\n",
        "\n",
        "### Exploitation\n",
        "- Otherwise, the agent **exploits**:\n",
        "  - Select the action with the **highest Q-value** from the Q-table for the current state\n",
        "\n",
        "---\n",
        "\n",
        "## Environment Interaction\n",
        "\n",
        "- The selected action is applied to the environment\n",
        "- The agent receives:\n",
        "  - `next_state`: the resulting state\n",
        "  - `reward`: immediate reward for the action\n",
        "  - `done`: flag indicating whether the episode has ended\n",
        "- The next continuous state is then discretized for further Q-table updates\n",
        "\n",
        "---\n",
        "\n",
        "This loop continues until the episode ends, and the agent updates its Q-values accordingly.\n"
      ]
    },
    {
      "cell_type": "markdown",
      "metadata": {},
      "source": [
        "#### Resetting initial environment for cartpole"
      ]
    },
    {
      "cell_type": "code",
      "execution_count": 30,
      "metadata": {},
      "outputs": [],
      "source": [
        "env = gymnasium.make(\"CartPole-v1\")\n"
      ]
    },
    {
      "cell_type": "code",
      "execution_count": 31,
      "metadata": {},
      "outputs": [
        {
          "name": "stdout",
          "output_type": "stream",
          "text": [
            "Episode 0 | Avg Reward (last 100): 26.00 | Epsilon: 0.9994\n",
            "Episode 500 | Avg Reward (last 100): 25.09 | Epsilon: 0.7553\n",
            "Episode 1000 | Avg Reward (last 100): 46.59 | Epsilon: 0.5708\n",
            "Episode 1500 | Avg Reward (last 100): 106.58 | Epsilon: 0.4314\n",
            "Episode 2000 | Avg Reward (last 100): 178.78 | Epsilon: 0.3260\n",
            "Episode 2500 | Avg Reward (last 100): 280.17 | Epsilon: 0.2464\n",
            "Episode 3000 | Avg Reward (last 100): 333.66 | Epsilon: 0.1862\n",
            "Episode 3500 | Avg Reward (last 100): 405.05 | Epsilon: 0.1407\n",
            "Episode 4000 | Avg Reward (last 100): 419.10 | Epsilon: 0.1063\n",
            "Episode 4500 | Avg Reward (last 100): 316.85 | Epsilon: 0.0804\n",
            "Episode 5000 | Avg Reward (last 100): 303.14 | Epsilon: 0.0607\n",
            "Episode 5500 | Avg Reward (last 100): 350.02 | Epsilon: 0.0459\n",
            "Episode 6000 | Avg Reward (last 100): 227.12 | Epsilon: 0.0347\n",
            "Episode 6500 | Avg Reward (last 100): 171.47 | Epsilon: 0.0262\n",
            "Episode 7000 | Avg Reward (last 100): 253.67 | Epsilon: 0.0198\n",
            "Episode 7500 | Avg Reward (last 100): 386.89 | Epsilon: 0.0150\n",
            "Episode 8000 | Avg Reward (last 100): 433.98 | Epsilon: 0.0113\n",
            "Episode 8500 | Avg Reward (last 100): 349.14 | Epsilon: 0.0100\n",
            "Episode 9000 | Avg Reward (last 100): 214.20 | Epsilon: 0.0100\n",
            "Episode 9500 | Avg Reward (last 100): 387.99 | Epsilon: 0.0100\n",
            "Episode 10000 | Avg Reward (last 100): 492.25 | Epsilon: 0.0100\n",
            "Episode 10500 | Avg Reward (last 100): 318.87 | Epsilon: 0.0100\n",
            "Episode 11000 | Avg Reward (last 100): 500.00 | Epsilon: 0.0100\n",
            "Episode 11500 | Avg Reward (last 100): 500.00 | Epsilon: 0.0100\n",
            "Episode 12000 | Avg Reward (last 100): 491.13 | Epsilon: 0.0100\n",
            "Episode 12500 | Avg Reward (last 100): 499.48 | Epsilon: 0.0100\n",
            "Episode 13000 | Avg Reward (last 100): 281.07 | Epsilon: 0.0100\n",
            "Episode 13500 | Avg Reward (last 100): 500.00 | Epsilon: 0.0100\n",
            "Episode 14000 | Avg Reward (last 100): 486.99 | Epsilon: 0.0100\n",
            "Episode 14500 | Avg Reward (last 100): 489.52 | Epsilon: 0.0100\n"
          ]
        }
      ],
      "source": [
        "for episode in range(EPISODES):\n",
        "    state, _ = env.reset()\n",
        "\n",
        "    discrete_state = get_discrete_state(state)\n",
        "    total_reward = 0\n",
        "    done = False\n",
        "    terminated = False\n",
        "    truncated = False\n",
        "\n",
        "\n",
        "    while not (terminated or truncated):\n",
        "        # Epsilon-greedy action selection\n",
        "        if np.random.random() < epsilon:\n",
        "            action = env.action_space.sample()\n",
        "        else:\n",
        "            action = np.argmax(q_table[discrete_state])\n",
        "\n",
        "        # next_state, reward, done, _, _ = env.step(action)\n",
        "        next_state, reward, terminated, truncated, info = env.step(action)\n",
        "        \n",
        "        # move to the next state\n",
        "        next_discrete_state = get_discrete_state(next_state)\n",
        "\n",
        "        # retrieve the maximum Q-value for the next state\n",
        "        # get the current Q-value for the taken action\n",
        "\n",
        "        max_future_q = np.max(q_table[next_discrete_state])\n",
        "        current_q = q_table[discrete_state + (action,)]\n",
        "        \n",
        "        # update Q-table using Bellman Equation\n",
        "        new_q = (1 - LEARNING_RATE) * current_q + LEARNING_RATE * (reward + DISCOUNT * max_future_q)\n",
        "        q_table[discrete_state + (action,)] = new_q\n",
        "\n",
        "        discrete_state = next_discrete_state\n",
        "        total_reward += reward\n",
        "\n",
        "    # decay epsilon for exploration-exploitation trade-off\n",
        "    if epsilon > min_epsilon:\n",
        "        epsilon *= epsilon_decay\n",
        "        epsilon = max(min_epsilon, epsilon)\n",
        "\n",
        "    # accumulate reward for performance tracking\n",
        "    # store total reward for analysis\n",
        "    rewards_per_episode.append(total_reward)\n",
        "\n",
        "    # print progress every 500 episodes\n",
        "    if episode % 500 == 0:\n",
        "        avg = np.mean(rewards_per_episode[-100:])\n",
        "        print(f\"Episode {episode} | Avg Reward (last 100): {avg:.2f} | Epsilon: {epsilon:.4f}\")"
      ]
    },
    {
      "cell_type": "code",
      "execution_count": 32,
      "metadata": {},
      "outputs": [],
      "source": [
        "def Reinforcement_Learning_agent(state):\n",
        "    discrete_state=get_discrete_state(state)\n",
        "    action = np.argmax(q_table[discrete_state]) \n",
        "    return action"
      ]
    },
    {
      "cell_type": "markdown",
      "metadata": {
        "id": "-XtIQ0Rti1gm"
      },
      "source": [
        "## Task 2: Demonstrate the effectiveness of the RL agent"
      ]
    },
    {
      "cell_type": "markdown",
      "metadata": {},
      "source": [
        "This is done by printing the cumulative rewards after each run"
      ]
    },
    {
      "cell_type": "code",
      "execution_count": 33,
      "metadata": {},
      "outputs": [
        {
          "name": "stdout",
          "output_type": "stream",
          "text": [
            "Cumulative reward for round 1: 500.0\n",
            "Cumulative reward for round 2: 500.0\n",
            "Cumulative reward for round 3: 500.0\n",
            "Cumulative reward for round 4: 500.0\n",
            "Cumulative reward for round 5: 500.0\n",
            "Cumulative reward for round 6: 500.0\n",
            "Cumulative reward for round 7: 500.0\n",
            "Cumulative reward for round 8: 500.0\n",
            "Cumulative reward for round 9: 500.0\n",
            "Cumulative reward for round 10: 500.0\n",
            "Cumulative reward for round 11: 500.0\n",
            "Cumulative reward for round 12: 500.0\n",
            "Cumulative reward for round 13: 500.0\n",
            "Cumulative reward for round 14: 500.0\n",
            "Cumulative reward for round 15: 500.0\n",
            "Cumulative reward for round 16: 500.0\n",
            "Cumulative reward for round 17: 500.0\n",
            "Cumulative reward for round 18: 500.0\n",
            "Cumulative reward for round 19: 500.0\n",
            "Cumulative reward for round 20: 500.0\n",
            "Cumulative reward for round 21: 500.0\n",
            "Cumulative reward for round 22: 500.0\n",
            "Cumulative reward for round 23: 500.0\n",
            "Cumulative reward for round 24: 500.0\n",
            "Cumulative reward for round 25: 500.0\n",
            "Cumulative reward for round 26: 500.0\n",
            "Cumulative reward for round 27: 500.0\n",
            "Cumulative reward for round 28: 500.0\n",
            "Cumulative reward for round 29: 500.0\n",
            "Cumulative reward for round 30: 500.0\n",
            "Cumulative reward for round 31: 500.0\n",
            "Cumulative reward for round 32: 500.0\n",
            "Cumulative reward for round 33: 500.0\n",
            "Cumulative reward for round 34: 500.0\n",
            "Cumulative reward for round 35: 500.0\n",
            "Cumulative reward for round 36: 500.0\n",
            "Cumulative reward for round 37: 500.0\n",
            "Cumulative reward for round 38: 500.0\n",
            "Cumulative reward for round 39: 500.0\n",
            "Cumulative reward for round 40: 500.0\n",
            "Cumulative reward for round 41: 500.0\n",
            "Cumulative reward for round 42: 500.0\n",
            "Cumulative reward for round 43: 500.0\n",
            "Cumulative reward for round 44: 500.0\n",
            "Cumulative reward for round 45: 500.0\n",
            "Cumulative reward for round 46: 500.0\n",
            "Cumulative reward for round 47: 500.0\n",
            "Cumulative reward for round 48: 500.0\n",
            "Cumulative reward for round 49: 500.0\n",
            "Cumulative reward for round 50: 500.0\n",
            "Cumulative reward for round 51: 500.0\n",
            "Cumulative reward for round 52: 500.0\n",
            "Cumulative reward for round 53: 500.0\n",
            "Cumulative reward for round 54: 500.0\n",
            "Cumulative reward for round 55: 500.0\n",
            "Cumulative reward for round 56: 500.0\n",
            "Cumulative reward for round 57: 500.0\n",
            "Cumulative reward for round 58: 500.0\n",
            "Cumulative reward for round 59: 500.0\n",
            "Cumulative reward for round 60: 500.0\n",
            "Cumulative reward for round 61: 500.0\n",
            "Cumulative reward for round 62: 500.0\n",
            "Cumulative reward for round 63: 500.0\n",
            "Cumulative reward for round 64: 500.0\n",
            "Cumulative reward for round 65: 500.0\n",
            "Cumulative reward for round 66: 500.0\n",
            "Cumulative reward for round 67: 500.0\n",
            "Cumulative reward for round 68: 500.0\n",
            "Cumulative reward for round 69: 500.0\n",
            "Cumulative reward for round 70: 500.0\n",
            "Cumulative reward for round 71: 500.0\n",
            "Cumulative reward for round 72: 500.0\n",
            "Cumulative reward for round 73: 500.0\n",
            "Cumulative reward for round 74: 500.0\n",
            "Cumulative reward for round 75: 500.0\n",
            "Cumulative reward for round 76: 500.0\n",
            "Cumulative reward for round 77: 500.0\n",
            "Cumulative reward for round 78: 500.0\n",
            "Cumulative reward for round 79: 500.0\n",
            "Cumulative reward for round 80: 500.0\n",
            "Cumulative reward for round 81: 500.0\n",
            "Cumulative reward for round 82: 500.0\n",
            "Cumulative reward for round 83: 500.0\n",
            "Cumulative reward for round 84: 500.0\n",
            "Cumulative reward for round 85: 500.0\n",
            "Cumulative reward for round 86: 500.0\n",
            "Cumulative reward for round 87: 500.0\n",
            "Cumulative reward for round 88: 500.0\n",
            "Cumulative reward for round 89: 500.0\n",
            "Cumulative reward for round 90: 500.0\n",
            "Cumulative reward for round 91: 500.0\n",
            "Cumulative reward for round 92: 500.0\n",
            "Cumulative reward for round 93: 500.0\n",
            "Cumulative reward for round 94: 500.0\n",
            "Cumulative reward for round 95: 500.0\n",
            "Cumulative reward for round 96: 500.0\n",
            "Cumulative reward for round 97: 500.0\n",
            "Cumulative reward for round 98: 500.0\n",
            "Cumulative reward for round 99: 500.0\n",
            "Cumulative reward for round 100: 500.0\n"
          ]
        }
      ],
      "source": [
        "env = gymnasium.make(\"CartPole-v1\")\n",
        "test_episodes=100\n",
        "episode_results = []\n",
        "cumulative_reward_results = int(0)\n",
        "for test_episode in range(test_episodes):\n",
        "    observation, info = env.reset()\n",
        "    state = observation\n",
        "\n",
        "    cumulative_reward = 0\n",
        "    terminated = False\n",
        "    truncated = False\n",
        "\n",
        "    while not (terminated or truncated):\n",
        "        action = Reinforcement_Learning_agent(state)\n",
        "        \n",
        "        next_state, reward, terminated, truncated, info = env.step(action)\n",
        "        state = next_state\n",
        "        cumulative_reward += reward\n",
        "        cumulative_reward_results+=reward\n",
        "        \n",
        "    episode_results.append(cumulative_reward)\n",
        "    print(f\"Cumulative reward for round {test_episode + 1}: {cumulative_reward}\")\n"
      ]
    },
    {
      "cell_type": "markdown",
      "metadata": {},
      "source": [
        "Plot the cumulative reward against all episodes "
      ]
    },
    {
      "cell_type": "code",
      "execution_count": 34,
      "metadata": {
        "colab": {
          "base_uri": "https://localhost:8080/",
          "height": 295
        },
        "id": "RZrCKywQi6CE",
        "outputId": "e304ecc5-14b6-4cf1-831b-dcb42eb46351"
      },
      "outputs": [
        {
          "data": {
            "image/png": "[encoded data removed]",
            "text/plain": [
              "<Figure size 640x480 with 1 Axes>"
            ]
          },
          "metadata": {},
          "output_type": "display_data"
        }
      ],
      "source": [
        "plt.plot(episode_results)\n",
        "\n",
        "plt.title('Cumulative reward for each episode')\n",
        "plt.ylabel('Cumulative reward')\n",
        "plt.xlabel('episode')\n",
        "plt.show()"
      ]
    },
    {
      "cell_type": "markdown",
      "metadata": {
        "id": "XndSYH7wlvn7"
      },
      "source": [
        "Print the average reward over the 100 episodes."
      ]
    },
    {
      "cell_type": "code",
      "execution_count": 35,
      "metadata": {
        "colab": {
          "base_uri": "https://localhost:8080/"
        },
        "id": "pOiOp9OYlo5Y",
        "outputId": "7a02ba7b-ff17-41f2-aa7f-eb50d49a83fd"
      },
      "outputs": [
        {
          "name": "stdout",
          "output_type": "stream",
          "text": [
            "Average cumulative reward: 500.0\n",
            "Is my agent good enough? True\n"
          ]
        }
      ],
      "source": [
        "print(\"Average cumulative reward:\", np.mean(episode_results))\n",
        "print(\"Is my agent good enough?\", np.mean(episode_results) > 195)"
      ]
    },
    {
      "cell_type": "markdown",
      "metadata": {
        "id": "Yg0DCT38lFA6"
      },
      "source": [
        "## Task 3: Render one episode played by the agent"
      ]
    },
    {
      "cell_type": "markdown",
      "metadata": {
        "id": "vx1awMr9lc_w"
      },
      "source": [
        "Plug your agent to the code below to obtain rendered result."
      ]
    },
    {
      "cell_type": "code",
      "execution_count": 36,
      "metadata": {
        "colab": {
          "base_uri": "https://localhost:8080/",
          "height": 421
        },
        "id": "LYyavfbIa47D",
        "outputId": "10c2f1e7-f3b9-4975-ed25-7c380966a56c"
      },
      "outputs": [
        {
          "name": "stderr",
          "output_type": "stream",
          "text": [
            "c:\\Users\\calvi\\source\\repos\\SC3000_team5\\.venv\\Lib\\site-packages\\gymnasium\\wrappers\\rendering.py:283: UserWarning: \u001b[33mWARN: Overwriting existing videos at c:\\Users\\calvi\\source\\repos\\SC3000_team5\\video folder (try specifying a different `video_folder` for the `RecordVideo` wrapper if this is not desired)\u001b[0m\n",
            "  logger.warn(\n"
          ]
        },
        {
          "name": "stdout",
          "output_type": "stream",
          "text": [
            "Cumulative reward: 500.0\n"
          ]
        },
        {
          "data": {
            "text/html": [
              "\n",
              "        <video alt=\"Recorded video\" autoplay loop controls style=\"height: 400px;\">\n",
              "            <source src=\"data:video/mp4;base64,AAAAIGZ0eXBpc29tAAACAGlzb21pc28yYXZjMW1wNDEAAAAIZnJlZQAATdxtZGF0AAACrwYF//+r3EXpvebZSLeWLNgg2SPu73gyNjQgLSBjb3JlIDE2NCByMzE5MiBjMjRlMDZjIC0gSC4yNjQvTVBFRy00IEFWQyBjb2RlYyAtIENvcHlsZWZ0IDIwMDMtMjAyNCAtIGh0dHA6Ly93d3cudmlkZW9sYW4ub3JnL3gyNjQuaHRtbCAtIG9wdGlvbnM6IGNhYmFjPTEgcmVmPTMgZGVibG9jaz0xOjA6MCBhbmFseXNlPTB4MzoweDExMyBtZT1oZXggc3VibWU9NyBwc3k9MSBwc3lfcmQ9MS4wMDowLjAwIG1peGVkX3JlZj0xIG1lX3JhbmdlPTE2IGNocm9tYV9tZT0xIHRyZWxsaXM9MSA4eDhkY3Q9MSBjcW09MCBkZWFkem9uZT0yMSwxMSBmYXN0X3Bza2lwPTEgY2hyb21hX3FwX29mZnNldD0tMiB0aHJlYWRzPTEyIGxvb2thaGVhZF90aHJlYWRzPTIgc2xpY2VkX3RocmVhZHM9MCBucj0wIGRlY2ltYXRlPTEgaW50ZXJsYWNlZD0wIGJsdXJheV9jb21wYXQ9MCBjb25zdHJhaW5lZF9pbnRyYT0wIGJmcmFtZXM9MyBiX3B5cmFtaWQ9MiBiX2FkYXB0PTEgYl9iaWFzPTAgZGlyZWN0PTEgd2VpZ2h0Yj0xIG9wZW5fZ29wPTAgd2VpZ2h0cD0yIGtleWludD0yNTAga2V5aW50X21pbj0yNSBzY2VuZWN1dD00MCBpbnRyYV9yZWZyZXNoPTAgcmNfbG9va2FoZWFkPTQwIHJjPWNyZiBtYnRyZWU9MSBjcmY9MjMuMCBxY29tcD0wLjYwIHFwbWluPTAgcXBtYXg9NjkgcXBzdGVwPTQgaXBfcmF0aW89MS40MCBhcT0xOjEuMDAAgAAAAiFliIQAJ//+9bF8CmrJ84oM6DIu4Zckya62IuJtAMAAJShQAAADABLJlCWzIByZd0AAABMgA4ofQZQeYiYqxUCV4g4GauIAuTAvqDHv67WqhHaZWoW2Oh9sLZabJDO5qpaRSIu6MmIOKeHQDEMI7aRsKysZSIkFKpnnkw2qwn3Az2icswHaUrgaZYRyf5JjgLmNiTw/GDhBeOPPWr9ouzQMRWmIp952A6zlAg3oHysBNGmq0mVNh+359T05P3XGG/sQFHy13AC/fL4IMCRtom+fRRbSyOuRCGh6vmK40366WADc0q9Ec7/aomXBovzr8U64EXfLLWdTFCKzwBI5ay8q7VCtuvfrEAly1gfa5o9/AAeyqupXFKk/gzkJNGRdK+6mEY7o4Hfa7OapCk33ZEQT0N3sUEWjY+5ovJk+T0s7IkeV8fFUJpQz4FO53jImGfRr/JGO3r2Oe4fCl8tMFpQAHmHMA3dq3C5aKjGpq3LBJ+HTXdQEjaU/zqghD8KShG1tjXbQUbI2uuZ4br4W6q/vOVo03S/hftxMssW/7zZwfGvDfvY0f2u6tcAfF93EnwnD9qcgLa2/9/isofQ1SgLsTr1XRV2aZVb1nWdp70PVP7Z+oc3d83MRLBsZUjdwdQABh+EOeNK6ySVn6geUkob+2iubbfv763e3wbO/faPTbjD3WEgHBtg6nx1vifV0exfEz0KRkqh5OAAAAwAAAwAE9QAAAKdBmiRsQn/98QAAAwKhkGIAIYw3l/1h+m1ZzZosFIQNv6/4gBKlOUvLYh3F1SSI0uFddznGc1ATJMlCSEWvf8wJRS6ykm5jTEuPZJsh0mi999qM/xYIDNyew4Il/RqBsZfp49mUmaTptYhE0HOxmO9odPcMH7kM+VfJc/dknPAbKiNGW/83nC3TPIOz3O0e1iQ2410Wqu0+qLqIwvUMRsgASSP4AF8EIAAAADJBnkJ4hH8AABa+S63poK6eRzfMogxKfoLxxEj0jsf92agba23r/VFvKpRTgpuNNIX0qQAAACABnmF0R/8AAA0164ixomOhioepCBAGRXW+6UFKwRR/8AAAACEBnmNqR/8AACO/BCcSyIor/3mdx7TXjR3UodR45ADlSoEAAABMQZpoSahBaJlMCF///oywAAAKCGmKakfCJEXoP0TL6TIpex/dX2LgCs+NbkoOMCa1Whid8NuwRQopBw1g0NXuZ191FYIIIJW4lLRZgQAAACNBnoZFESwj/wAAAwE15OoSnGpRxy5bPrzQj56FpoMUuA0vRwAAABMBnqV0R/8AAAMAGbwBsDKh6eGxAAAAHAGep2pH/wAAAwHmf9VOUbBQHgBs9tGxgzz/tmAAAAAXQZqsSahBbJlMCF///oywAAADAAADA0IAAAAQQZ7KRRUsI/8AAAMAAAMBBwAAAA4Bnul0R/8AAAMAAAMBqQAAAA4BnutqR/8AAAMAAAMBqQAAAFRBmvBJqEFsmUwIV//+OEAAACWcQ3sXUf1WtVwkIAS0jXiVYCUfpb3TX+R8jsbrl50Arh6qZca4guwSDXwZVy6z2gZI7krVPuCGMGl0LxeNC2FFO6kAAAAfQZ8ORRUsI/8AAAMDJTHNo7eWcSO9SznU2ilbR0xAQQAAAA4Bny10R/8AAAMAAAMBqQAAABoBny9qR/8AAAMAumYSz3Elpt7pnx6SBvAtswAAAFFBmzRJqEFsmUwIT//98QAAAwAAvsqk5CXlQ2+vwDJJfpmSfSJiWj160YtdeGAEmc1FwKdvVdZuwAoSJdyWaq/a+D7hE2JWydZgfczFpxENWYAAAAAhQZ9SRRUsI/8AAAMDJbvsmIN8fM5jGhiVtE8YC1BE/8GBAAAAGwGfcXRH/wAAAwHbsiYf2amkATxT9v/HgVE5IAAAABcBn3NqR/8AAAMAumYSz3ElpmrhWdCj4AAAACpBm3hJqEFsmUwIT//98QAAAwANfKGkAOVW0sT+j244AEfmRu7ucYPx/U0AAAAbQZ+WRRUsI/8AAAMDJbvsmH/izstU9MsQ1MGAAAAAFgGftXRH/wAAAwC6Ck02EKcvIpAlpR8AAAAOAZ+3akf/AAADAAADAakAAABQQZu8SahBbJlMCF///oywAABGAvby1oBFEttSYPII79gkZLLpU8AwwEZ4V7/A+C8Yn4Ej6sHxSXrQx9Su/MFnlqks4vQQrSEqokOT2FUAV8AAAAAeQZ/aRRUsI/8AABa1KzdrWl64opoPp8AJW7syN6bhAAAAGAGf+XRH/wAAI8MXaKmlq/pjKQprF6/DGgAAAA4Bn/tqR/8AAAMAAAMBqQAAABdBm+BJqEFsmUwIX//+jLAAAAMAAAMDQwAAAC9Bnh5FFSwj/wAAFr6jnf5dSsqDQ0dlS3UANxeIe8OLC1g5l5tGf60hAbieUINO3AAAAB4Bnj10R/8AACPDF2ippVPU+8JhubcnraCR9jKWQEAAAAAdAZ4/akf/AAAjvwQnEslpmrhYOIO1LWwEPAxOY5MAAAAWQZokSahBbJlMCFf//jhAAAADAAAMqAAAACdBnkJFFSwj/wAAAwMv7kEEeFVk1iKxDFTV7dvM1qgmzuyB2nC/wYEAAAAcAZ5hdEf/AAADAeaxsJSonKiuNW7wOwkHjIztwAAAABsBnmNqR/8AAAUfNNWxkwvP68AVDV/NkEWw7cEAAAAXQZpoSahBbJlMCE///fEAAAMAAAMAHpEAAAAfQZ6GRRUsI/8AAAMDObvslhZNgZG3YWEdDr2+pSbNswAAABwBnqV0R/8AAAMB5rGwlKicqK41bvA7CQeMjO3BAAAAGwGep2pH/wAABR801bGTC8/rwBUNX82QRbDtwAAAADtBmqxJqEFsmUwIV//+OEAAACan7JKJn2i6NBSLInJJnABq2GpuddWJ6CJ2hD9QJcwuB7gZD+rrmHDzuAAAAB1BnspFFSwj/wAAAwM4UzJnQFABMjGOlKlaqUS24QAAABwBnul0R/8AAAMB5rGwlKicqK41bvA7CQeMjO3AAAAAEAGe62pH/wAAAwHmf+KAZ8AAAAAXQZrwSahBbJlMCE///fEAAAMAAAMAHpEAAAASQZ8ORRUsI/8AAAMBNin5ABnxAAAAEAGfLXRH/wAAAwHlij2AfkEAAAAQAZ8vakf/AAADAeZ/4oBnwAAAAEBBmzRJqEFsmUwIV//+OEAAAQz68oAUZAzumokgF4UvK8/bFaieI5n1zd78ZiDNIUQV6IsWk5bZTuf22Ivi1BvQAAAAGEGfUkUVLCP/AAAWtSs3a1peuKN9SxOFlQAAABgBn3F0R/8AACPDF2ippVOBIW+kimVwELAAAAAQAZ9zakf/AAADALX2gMoEXAAAABlBm3hJqEFsmUwIT//98QAAAwANLQ+s9gIXAAAAK0GflkUVLCP/AAAWvqOd/l1KyoM4SFD9GJ7dLafyooumuf39+e8ccAlRbZgAAAAcAZ+1dEf/AAAjwxdoqaVT1PyDVNJhAEKwMHOSTQAAACQBn7dqR/8AACOxzAlvP7c3+MgyJEDYkervcukZ27l1aEsxUk0AAABAQZu8SahBbJlMCF///oywAAAKF7D76Oku/jFUso/D1WReCyvsHAFbxayZpta2GS2PVKzbbC4+8VQYAaI41dZNmAAAABxBn9pFFSwj/wAAAwM4Uwqw4X50S2Aup+uaMadvAAAAGgGf+XRH/wAAAwHmsbCUqUTuDbgSXwY9FvwYAAAADgGf+2pH/wAAAwAAAwGpAAAAFkGb4EmoQWyZTAhX//44QAAAAwAADKkAAAAQQZ4eRRUsI/8AAAMAAAMBBwAAAA4Bnj10R/8AAAMAAAMBqQAAAA4Bnj9qR/8AAAMAAAMBqQAAABdBmiRJqEFsmUwIT//98QAAAwAAAwAekAAAABBBnkJFFSwj/wAAAwAAAwEHAAAADgGeYXRH/wAAAwAAAwGpAAAAJwGeY2pH/wAAI65dVOG+mcAAuhsN/wXGDkL82MEkBFT2BCqTJhbx0wAAADxBmmhJqEFsmUwIT//98QAAAwKfBR02Sx+VgALE0yEnHmSz1ck4ZRzg7NvthImTHijkFiNwcaDmc/JQpx0AAAAyQZ6GRRUsI/8AABa8Q823FcxVl6i4DnyFWBkM/EALfUnTEvkgRorH2+5ttW3KxXdlS28AAAAgAZ6ldEf/AAAjuK/cVXuqrafNkajtdsEHaNCzWSCSds0AAAAlAZ6nakf/AAAjscwJb+cu+6Q6VNPTAAF0L1YmZveQIHA8qOuEBAAAAFNBmqxJqEFsmUwIV//+OEAAACbe4uIZpKb4DyMARg/g6jml5mxxwEMMFYFLySHsOL67hg0sNXjLgXmbdZ1aUiP4dqpffkirRQHn6rUO3LSj2FzL4AAAACBBnspFFSwj/wAAAwM4UwqIIF0nvYjqawfYyswg6LmduQAAABwBnul0R/8AAAMB5RWzAdeNcmwokO+ubC4l7ZtmAAAAEgGe62pH/wAAAwC6Zpq2NdghYAAAABtBmvBJqEFsmUwIT//98QAAAwANfKlLMo/UgWcAAAAUQZ8ORRUsI/8AAAMAdABoS1zEYsEAAAASAZ8tdEf/AAADALoLbzJahGLBAAAADgGfL2pH/wAAAwAAAwGpAAAAQ0GbNEmoQWyZTAhP//3xAAADAp8FYOBSktMjsQpmZyonzfm+mAEJvWxVFFGe/Ro0hYOV9feGpBZ8gPuw8IbD+gdmkTAAAAAsQZ9SRRUsI/8AABa8Q823Fcr1zuXpGpUePRYsrcuIL0FV4oW38btUWsTve28AAAAaAZ9xdEf/AAAE+9DCGG1xHpuevXktHmaWEgIAAAAeAZ9zakf/AAAjvwQnEslpmp41thKSNApxidmXfhbMAAAAQUGbeEmoQWyZTAhX//44QAAAJqdAXfKRsNmIBfKUMSpmuejc1fUcx7VwcvpOsXCWa6iJw4SOEdyOfc5qNysmIHzBAAAAHkGflkUVLCP/AAADATUyxDPDzVTZfwiqQouzEs2dswAAAA4Bn7V0R/8AAAMAAAMBqQAAABwBn7dqR/8AAAMB5S42Ex0VSqV8yjCBqkYEL87dAAAAF0GbvEmoQWyZTAhP//3xAAADAAADAB6QAAAAIEGf2kUVLCP/AAADATUyxlN/NQHvwq424zHMRWLA8HbhAAAAGgGf+XRH/wAAAwHmsbCUqUTuDbgSXwY9FvwYAAAAGwGf+2pH/wAAAwHmf9VJfxNx1fZ3GIeGpyY7cQAAAD9Bm+BJqEFsmUwIT//98QAAAwKfBQ8EnAhwRqhn7u5O6D1BpQAjZlsQBvl131AXQk5NosOrvcFy4D6u01Ru+pEAAAAfQZ4eRRUsI/8AABa8Q8qOh+F0XowFly5zAcB7f1WUkAAAAA4Bnj10R/8AAAMAAAMBqQAAABkBnj9qR/8AACOxzAlvqW/roh8MMcJRD4fBAAAANEGaJEmoQWyZTAhP//3xAAADAF9jwaR1hyKcQHSF/o32mAUgA0dfTG6KqD7hgOMt3oXNbSAAAAAfQZ5CRRUsI/8AAAMBNTIivCbVIRlYW2Hh91P+gsG2YQAAABIBnmF0R/8AAAMB2oo+mUJ4i4AAAAAbAZ5jakf/AAAFHzTVsZMLz+vAFQ1fzZBFsO3BAAAATkGaaEmoQWyZTAhP//3xAAADAqPsODUyCjpzyhM9apM6RxJ5vrLYbO0w4GMg/4mxHtLL7QcnB+Q11ZF7Q0Bus6R5noqVk+XYFUklhYpXEQAAABpBnoZFFSwj/wAAFrxDzbcVzKyZSUMvu/jpgQAAAA4BnqV0R/8AAAMAAAMBqQAAABcBnqdqR/8AACO/BCcSyWmauFZrKWWGNAAAAEJBmqxJqEFsmUwIV//+OEAAAGd9yLtzd2pTCerzhqJWFZ4MVRPUQ+TbWzcOp/kPISIisP0fwngVikCrFU/Lzq2/P+wAAAAmQZ7KRRUsI/8AAAhvJt+7rNtTDABIvl7Mo2ZGv7f/aTZaI5KbJMEAAAAOAZ7pdEf/AAADAAADAakAAAAbAZ7rakf/AAANhJ2rY1lE007JUp3IYkRyWA5IAAAASkGa8EmoQWyZTAj//IQAAAMA2DE8BnrvcOtWLBJBbeJUNfp+msAOoFn/MGQWJObgWueVFw6EC6KLinOIY3RLQbK2LKuXBNvTW6jvAAAAHkGfDkUVLCP/AAADAS3k5swthSZpoXA59pt8rDJAQQAAAA4Bny10R/8AAAMAAAMBqQAAABoBny9qR/8AAAMB23/VbGss9Jf69+34V9KSYAAAADFBmzFJqEFsmUwIV//+OEAAAQT68oAO0iptaaW+cWB9rPqdCD79ak/8CZBas/96asXAAAAAGkGbVUnhClJlMCE//fEAAAMAAEdNef+teLpnAAAALEGfc0U0TCP/AAADASzEhJqPaAAWtozB46kwDIOlN2jZbUZUCrdRn8t6/mICAAAAGwGfknRH/wAAAwHaiiJvdtJwL4tSj4iXQ97pJgAAABgBn5RqR/8AAAMB2s1GmJneE01Iwdu8ockAAABKQZuZSahBaJlMCFf//jhAAAEE+vKACNKQVwSryuA8kmeZuIPVZp4k+1UA9NxoXSX2NOpTTW2mpwqlR7+/BsGJtFGbV2yhZikIYLAAAAAeQZ+3RREsI/8AABYsTmzC2EsLSp4072FjYY8fthPhAAAADgGf1nRH/wAAAwAAAwGpAAAALgGf2GpH/wAAIrIdcMkAJZFSyggKvviWclqWmTxP6t8EGZlSCqZSNLEqznSwT4AAAACKQZvdSahBbJlMCE///fEAAAMCjcpSCpMlOSm/tiFkw0AJIlEeFgfwSXWj3E5vzHOgAc+2S8YKoFBuJXert+Ab+o9+cjhy8DGOWmUw9aIeGL8DQ44GrvF/qlTQXM2jH75OAppqLmfqNb8/59RRpycuR7LjSj8KEkDT5JCGW1B/F11VCw6K/xZqUPr7AAAAMUGf+0UVLCP/AAAWJVjxbFQ7gpY0di/HolEd8c7RvMjVSc7a1Oe4CJuL0UvtkauR5sAAAAAuAZ4adEf/AAAirDkFffc4SgAturzp8dJniWg9DosOtB75KMqNghqIbOKyCb6E+QAAADQBnhxqR/8AAA0yO1Ca4+AlJ98O+6m28a02SAC56xNhKXxnWPREq07FwVprK7TsmBDE9lwRAAAAY0GaAUmoQWyZTAhP//3xAAADAo3zgE8FkQEMADcSYBNq+1WeKOYeUkXQ/COUuDAwCIbd/+E3RvP0As2HkG/w8sicSJ1DKCUSC8u5fi/Zz1cdker8hhG/llVY9D0TQYOwuCrlQAAAAD1Bnj9FFSwj/wAAFixOgMVIJrCkU/ozhArxko82InwC+5rovAz1e3ZIG9D8ALWs3Pt2TGfnGdMjsLpVhzwQAAAAGQGeXnRH/wAADS4S89fRip3P7++zzjxF/TEAAAAeAZ5Aakf/AAAisisNwv0BjKdloNkiN4k/fSimJpUEAAAAUEGaRUmoQWyZTAhH//3hAAADAJd7p7X5VjYb5Q4XFMOLErXOHAsQa5AUlN0BzVERsCKn9PIHFZezaNYqKqQaON51nk8pZ8zYFoBvFBkYT5ntAAAAIkGeY0UVLCP/AAADAzhPLl0xPCCWnyUpjczl+Juw4lJ4xYAAAAASAZ6CdEf/AAAFHFt5tulXIOOBAAAAGQGehGpH/wAABPk+YOJzLEw/MeXGaDcFv5UAAAA5QZqHSahBbJlMFEwz//6eEAAAQ0UotAFjdLQIZNRIM+uF2uKfz5H0LJn+xv54HI3DKAAq7/8K0qzhAAAAHQGepmpH/wAAIrIdIp9towyrgoQaI4gxuN0qkC/xAAAAL0Gaq0nhClJlMCGf/p4QAAADA50/dIrMoAO29XzjyWAiICLVgJS/eTdVWp3TrtxwAAAAPkGeyUU0TCP/AAADAS3pIAAbqK2SEUuOEqK0KF+JGzu0n0VMPuRrZ9t79LBNilmcIEZWHLWN5dpxV1uE3VQ2AAAAGwGe6HRH/wAAAwC6eOExbu7I8amZlkOJz+vENwAAAB0BnupqR/8AAAMAuiX8TK67v4tucXJoljQw3ngzegAAACBBmu9JqEFomUwIZ//+nhAAAAMDuex4MNqFdW0FoLB6QAAAACJBnw1FESwj/wAAAwEuKfHrD11VxcAnf/xnEMt37i96bkNhAAAAGwGfLHRH/wAAAwHaih5ksfa8WUUd1Neh7BpiwQAAABwBny5qR/8AAAMAtaeUin22yaKcgkdwk+pqtH3pAAAAF0GbM0moQWyZTAhn//6eEAAAAwAAAwM+AAAAIEGfUUUVLCP/AAADAS4p9ksLkHn+0RvrcAukHM0SV96AAAAAHQGfcHRH/wAAAwC1+evx++8GAH9O2YYY/IHkkmLBAAAAGwGfcmpH/wAAAwHbf9Vsayz0mChQsuQS06ZTFgAAABdBm3dJqEFsmUwIZ//+nhAAAAMAAAMDPgAAACBBn5VFFSwj/wAAAwEuKfZLC5B5/tEb63ALpBzNElfegQAAAB0Bn7R0R/8AAAMAtfnr8fvvBgB/TtmGGPyB5JJiwAAAABwBn7ZqR/8AAAMAtaeUin22yaKcgkdwk+pqtH3pAAAAF0Gbu0moQWyZTAhn//6eEAAAAwAAAwM/AAAAIEGf2UUVLCP/AAADAS4p9ksLkHn+0RvrcAukHM0SV96AAAAAGwGf+HRH/wAAAwHaih5ksfa8WUUd1Neh7BpiwQAAABwBn/pqR/8AAAMAtaeUin22yaKcgkdwk+pqtH3oAAAAF0Gb/0moQWyZTAhn//6eEAAAAwAAAwM/AAAAIEGeHUUVLCP/AAADAS4p9ksLkHn+0RvrcAukHM0SV96BAAAAGwGePHRH/wAAAwHaih5ksfa8WUUd1Neh7BpiwAAAABwBnj5qR/8AAAMAtaeUin22yaKcgkdwk+pqtH3oAAAAF0GaI0moQWyZTAhn//6eEAAAAwAAAwM/AAAAIEGeQUUVLCP/AAADAS4p9ksLkHn+0RvrcAukHM0SV96AAAAAGwGeYHRH/wAAAwHaih5ksfa8WUUd1Neh7BpiwQAAABwBnmJqR/8AAAMAtaeUin22yaKcgkdwk+pqtH3oAAAAF0GaZ0moQWyZTAhn//6eEAAAAwAAAwM/AAAAIEGehUUVLCP/AAADAS4p9ksLkHn+0RvrcAukHM0SV96BAAAAGwGepHRH/wAAAwHaih5ksfa8WUUd1Neh7BpiwQAAABwBnqZqR/8AAAMAtaeUin22yaKcgkdwk+pqtH3pAAAAH0Gaq0moQWyZTAhn//6eEAAAGd/CKAAnY1ElATgAMqAAAAAgQZ7JRRUsI/8AAAMBLin2SwuQef7RG+twC6QczRJX3oAAAAAbAZ7odEf/AAADAdqKHmSx9rxZRR3U16HsGmLBAAAAGwGe6mpH/wAAAwHbf9Vsayz0mChQsuQS06ZTFgAAABtBmu9JqEFsmUwIZ//+nhAAABnfUVitYGxADqgAAAAhQZ8NRRUsI/8AAAMDJXzT7RsasiA5kh/PK+qACYPJXQ2BAAAAHwGfLHRH/wAADTIbKita6vwkvGsyvGiAoF5ZVmfBxYEAAAAbAZ8uakf/AAAE+zTVsaywKpSwFxBJvUabI0NhAAAAF0GbM0moQWyZTAhn//6eEAAAAwAAAwM+AAAAIEGfUUUVLCP/AAAIMU+yWFyDgyaWeXWwE00AAq7X5DegAAAAGgGfcHRH/wAABPhbeZLHx//GLqIgOTHaI3cXAAAAHQGfcmpH/wAABPk/mzz0ObAj3VrEK3a948xZ196AAAAAF0Gbd0moQWyZTAhn//6eEAAAAwAAAwM+AAAAEkGflUUVLCP/AAADAAI0nCRVeQAAABABn7R0R/8AAAMAA4kUe4mAAAAAEAGftmpH/wAAAwADiv/Fb0EAAAAXQZu7SahBbJlMCGf//p4QAAADAAADAz8AAAASQZ/ZRRUsI/8AAAMAAjxT8hvQAAAAEAGf+HRH/wAAAwADiRR7iYEAAAAQAZ/6akf/AAADAAOK/8VvQAAAABdBm/9JqEFsmUwIZ//+nhAAAAMAAAMDPwAAABJBnh1FFSwj/wAAAwACPFPyG9EAAAAQAZ48dEf/AAADAAOJFHuJgAAAABABnj5qR/8AAAMAA4r/xW9AAAAAGkGaI0moQWyZTAhn//6eEAAAAwAHR4TpJZmpAAAAFEGeQUUVLCP/AAADAAJbB4s/Q1bAAAAAEQGeYHRH/wAAAwADtRl24fmVAAAAEAGeYmpH/wAAAwADiv/Fb0AAAAAXQZpnSahBbJlMCF///oywAAADAAADA0MAAAASQZ6FRRUsI/8AAAMAAjxT8hvRAAAAEAGepHRH/wAAAwADiRR7iYEAAAAQAZ6makf/AAADAAOK/8VvQQAAAFJBmqtJqEFsmUwIX//+jLAAAAnFDX9RICAFmXQU+kzpL1TAtsANIYQRDyvGJ5qgWHjo1Af8yHYp/ktg4+8qGFxhpzFwSHdftmgaArxOOiMV1EOAAAAAIkGeyUUVLCP/AAADAyUxzY3MfZcwHPe89Z+o9JhZa+cXCfAAAAAQAZ7odEf/AAADAAOJFHuJgQAAABsBnupqR/8AAAMAtcsaz80YHkerI3CkotJlflAAAAAuQZrvSahBbJlMCF///oywAAADA6nE9AAb5L0bPwEMJf+kG8wYWrrJxDIVrtkqYAAAAB9Bnw1FFSwj/wAAAwMlu+yWFyDgzuZU/tmBETPUDH5RAAAAGgGfLHRH/wAABPhbeZLHx//GLqIhDdI2B29BAAAAGgGfLmpH/wAAAwC2FWH0jDO5UdFum6QB/Ox9AAAAGkGbM0moQWyZTAhX//44QAAABWFdUpvYKgIWAAAAIUGfUUUVLCP/AAADAyW77Jh+Sb5Jsap6XWvdR4qfDUBPgAAAABoBn3B0R/8AAAT4W3mSx8f/xi6iIQ3SNgdvQQAAABkBn3JqR/8AAAMAtafMHF534YOk4THo/flAAAAAF0Gbd0moQWyZTAhP//3xAAADAAADAB6QAAAAQEGflUUVLCP/AAAWI0iL4kwARExU0QR5QlLOchebvoquHnreDTMGHBVp7usA8/WilBZkW+b9xgQ/MvfL4nKKK2EAAAAeAZ+0dEf/AAAirDkFrk95E6JAOduo2NtACniqFGm4AAAAHwGftmpH/wAAIr8aznveIEEOZnQzm9eU5s9AnlBxQ8EAAAAtQZu7SahBbJlMCF///oywAABEEeRAHJ5s9f30AV3rzeqGah/cQ9KIjGGxWh6RAAAAJEGf2UUVLCP/AAAWJVhVJWPiyC/RF8gEcjhTw3nGHtnEibSQnwAAAB0Bn/h0R/8AACLDPg536zgOirFlkuhBeRoPlOk5WQAAABsBn/pqR/8AAAMB23/VbGss9JgoULWU8bxwx8AAAAAXQZv/SahBbJlMCF///oywAAADAAADA0MAAAAZQZ4dRRUsI/8AABYuppXUBcAbARmUEoQELQAAABQBnjx0R/8AACLDPg542E9CrAOOmAAAABUBnj5qR/8AACK/Gs573gm2Yq1QpIAAAAAhQZojSahBbJlMCF///oywAAADAAb7+WNB0199JFycvpnxAAAAEEGeQUUVLCP/AAADAAADAQcAAAAOAZ5gdEf/AAADAAADAakAAAAOAZ5iakf/AAADAAADAakAAABnQZpnSahBbJlMCFf//jhAAAAlr/jJhLK+1yyRABdBuIMZ6e59RkeUWjZs5uAWOcK5iFM/Vzgtsvl3I5X0cFi0gSsNjcQ17r7x3lZzxi0+rwY8vde5OcNua8oLl7P4VvdcEtB9LSrWzQAAABtBnoVFFSwj/wAAAwMlMc2jt5aMe8A7V6gEoIEAAAAOAZ6kdEf/AAADAAADAakAAAAXAZ6makf/AAAE+zTV3tuI4j0qBGDmEoMAAAAcQZqrSahBbJlMCE///fEAAAMAAEW+ByBO4RjrgAAAABxBnslFFSwj/wAAAwMlu+yYg3x+hnWKqTLgjcuAAAAAFwGe6HRH/wAABPhbeevo2pMKTHSwyblxAAAAFwGe6mpH/wAAAwHazfGbsP6b32lSDw64AAAAKUGa70moQWyZTAhf//6MsAAACcI4DSaFWL5OOzeAAlhHJ9/CI1WH/mUMAAAAGUGfDUUVLCP/AAADAyRTCuY5aP+arh7Sj4EAAAAWAZ8sdEf/AAAE+Ft56+jakwpL0B6vgQAAABABny5qR/8AAAMAumahQIeBAAAAFkGbM0moQWyZTAhX//44QAAAAwAADKgAAAASQZ9RRRUsI/8AAAMAdDcdwBVwAAAAEAGfcHRH/wAAAwC6C37Aq4EAAAAQAZ9yakf/AAADALpmoUCHgAAAABdBm3dJqEFsmUwIT//98QAAAwAAAwAekAAAABJBn5VFFSwj/wAAAwB0Nx3AFXEAAAAQAZ+0dEf/AAADALoLfsCrgAAAABABn7ZqR/8AAAMAumahQIeBAAAAMkGbuUmoQWyZTBRMI//94QAAAwP1YSseAF25a1lUTGgd6L6AAA/FR3pxqLVRbzXsoFTBAAAAHgGf2GpH/wAAIr8aznveICfiuU9MJKj1GCNEH88MGAAAAXNliIIADP/+9uy+BTX9n9CXESzF2kpwPiqkgIB3NMAAA7ApAAADAAIVcq53kCS5xfAAAAMBqABQQsAjwlQthIR9joKChN/g8JnQ50FkLjh9n5+A/5xZpTkRwox0F52OGxww3xtV7z1Yo2nHosXp9ZykkcqFaDKOMEOgJQptB3DZFksgWg9JiA6hUj/SoMfuSueH9ZsbT/XNj/0CwbaFJCtrl+X1qhIgZpakzxILuc1wVpgNjLuhTeSNd5gyBY7uF+aB/+C9SsAnvJH9MVy5oK497X6wpHUgwMv8eVj8JWFAkGG3L8kVKve+NjIsHhchAJ7/hXlAT27ZpC0HHdBU4KWda7vqO9Rpco5KjAuQ8Z8060LyL3chKjq1uhYrfb0Ph//PjU8hYs3PERe3KVWjpyz5kZrm0Ce4etQXwEjZuV1JJW3IU8Ce5ouKaL3VuJSR/Fh5R16npPAe7s0Z7IL4a7EaPF+Bj+ds1aoAQdAAAAMAAAMBXwAAAFNBmiRsQv/+jLAAAEQKr/gRze88GRSEeIKs/UPYnYARUNeDuaLQlWrIrf+h7xjcb5phBtZwGm0mcZs91yEsnDg/6h7+Dd7qyEj2F4/vQMq+Y1K29AAAACtBnkJ4hH8AABYuXQtC360ovaUiIICw5igBYtZ0DjE3/gV048rDNRjayW9BAAAAHQGeYXRH/wAAIrjBBrsjv+mN5OuOIc2sUHXA50mxAAAAHQGeY2pH/wAAIr8aznveCbVsr4BN3P3SZIOrr1vQAAAAFkGaaEmoQWiZTAhX//44QAAAAwAADKgAAAAkQZ6GRREsI/8AAAMDG+5BBHhVwLK1iYB4hqatE9D/DS+rWekLAAAAGQGepXRH/wAABPvQwc8bCfgF/FG7UtKIhvQAAAAaAZ6nakf/AAAE+zTVsaywKoCYnEC3gzHKCFkAAAAXQZqsSahBbJlMCE///fEAAAMAAAMAHpAAAAAfQZ7KRRUsI/8AAAMDJbvslhcg4M6mOsNl6n2IXmhCwQAAABkBnul0R/8AAAT70MHPGwn4BfxRu1LSiIb1AAAAGgGe62pH/wAABPs01bGssCqAmJxAt4MxyghZAAAAK0Ga8EmoQWyZTAhf//6MsAAACcI4DSaFWL5ORRNL4IBNeoEp3GEbmoVWfoEAAAAeQZ8ORRUsI/8AAAMDJTHNmFsJYehI8XrukWndQELAAAAADgGfLXRH/wAAAwAAAwGpAAAAGQGfL2pH/wAABPk+YOJnHII0GnXuB4qeZ00AAAAZQZs0SahBbJlMCFf//jhAAAADABr55yTPaAAAABJBn1JFFSwj/wAAAwACOwK4iYAAAAAQAZ9xdEf/AAADAAOJFHuJgQAAAA4Bn3NqR/8AAAMAAAMBqQAAAFRBm3hJqEFsmUwIT//98QAAAwJ/y8YAx0Am9iVqhCK7S3WptWUjUuraC9Qc9rTCLGpkuMl+Bnhyc9awo2/6NNI84U+CqCdNiNnicOy1hMNNCT3POjcAAAAeQZ+WRRUsI/8AAAfyIx/cOnPjF75LM65EOibAcZJsAAAADwGftXRH/wAAIcM/sADmgAAAABwBn7dqR/8AAAzf1rLhKL6pUOJ9uI137Do5yCFhAAAAUkGbvEmoQWyZTAhP//3xAAADAo0FYOA077JrfRCSP4qQ9vrpCCfKQ2LUj1AlLFUslZfVCBsQ5IbskwpKBJDZjinztfcO92IrJF5JGK60P1Wf0CAAAAAiQZ/aRRUsI/8AABYlKzeNuPR5ae+8s4kohwtANhfV1k1NvQAAACABn/l0R/8AACKr+Ft4FqMv24s62baQi/Izg0sTnwVVgQAAABsBn/tqR/8AAAT7NNWxkwvP68AVDV/NkEWw8EAAAABDQZvgSahBbJlMCFf//jhAAAAlqArAA1JjrGCyR51mKwW0OYIYrt5bmKcGUleAfKXJqA/JtJVR0NK/P6eJY+5YKlWTewAAABxBnh5FFSwj/wAAAwMkUwqw4X50S2Aup+uaMaeDAAAAHAGePXRH/wAAAwHbsX/zua9CCA4tZ4aJQeUz29AAAAAOAZ4/akf/AAADAAADAakAAAAXQZokSahBbJlMCE///fEAAAMAAAMAHpAAAAAQQZ5CRRUsI/8AAAMAAAMBBwAAAA4BnmF0R/8AAAMAAAMBqQAAAA4BnmNqR/8AAAMAAAMBqQAAAE9BmmhJqEFsmUwIT//98QAAAwKNBXmQL16nGRfn8TrLuHniiEM+xR9c0Ew/N35T2JdceHfe7MqGGcWHbJ+LazaSc0ZAWHIUmCK9aV4mHWBAAAAAGkGehkUVLCP/AAAWLEPNttl4kWHPpNzYSMETAAAADgGepXRH/wAAAwAAAwGpAAAAFgGep2pH/wAAIrHMCW+pb7IVltssMuEAAAA8QZqsSahBbJlMCF///oywAAADAWT2DgYfecaySQlHlQI4tEMAk/rZrjg6JkQ4ITHd7NmpyuLHyWvfg8DAAAAAHUGeykUVLCP/AAADAHFh8izormWZ7otetp9j/t6BAAAAGwGe6XRH/wAAIsCZ3elekQaCYz2DLnuCWlx3QQAAACIBnutqR/8AACKuMS/ReUI8EaMeTK0+dKElFuCBLIlJMVwRAAAAIUGa8EmoQWyZTAhX//44QAAAAwAa9fWAJDPYDCpB+S6JeQAAAB5Bnw5FFSwj/wAAAwBxdwo9h/YZB/hdFPZixJSQ7egAAAAaAZ8tdEf/AAADALWKTTYQpzH1Zgt0SkQvuCAAAAAbAZ8vakf/AAAE6hHH5itkGYhgGYSKen8NQ8XBAAAAF0GbNEmoQWyZTAhP//3xAAADAAADAB6QAAAAFEGfUkUVLCP/AAADAxvuQQR72AUkAAAAEAGfcXRH/wAABPhbea6Ai4EAAAAuAZ9zakf/AAADAdrMjuBbPOjuebFzijlyTiGigA/eLXgO0k/Ino6JA47akiDlJwAAADxBm3hJqEFsmUwIT//98QAAAwKOtQz6CEWPDWAGtywKxIeG3GS/EywrSGYtTl9YgDlXhvTWIiv+g7OcaMEAAAAbQZ+WRRUsI/8AABYsQ823FhfZD3p8CIP7Qo3oAAAAEAGftXRH/wAABPhbea6Ai4AAAAAaAZ+3akf/AAAiscwJwWRepivWswgtpeB47oEAAABMQZu8SahBbJlMCFf//jhAAABh5ji/Nx8QvpWF9rzseUz8/S+knywM2F8ikAUESIbND/64tQjQn+KVzlpYTAao/qX4AV8fdMq2VOB34AAAACJBn9pFFSwj/wAAB/AIo4bh8TxunSqgihGWUHu351EygEnAAAAAEQGf+XRH/wAADN4UKrP9cAW1AAAAHAGf+2pH/wAABPs01bGWG15EHlCn2vWPbuDQuCAAAAAXQZvgSahBbJlMCE///fEAAAMAAAMAHpEAAAAQQZ4eRRUsI/8AAAMAAAMBBwAAAA4Bnj10R/8AAAMAAAMBqQAAAA4Bnj9qR/8AAAMAAAMBqQAAAD1BmiRJqEFsmUwIV//+OEAAAQT64J+vAjbscR/a06+uJoD8+glGbX483yNZXTnFacdRiDdxrKNHadDZGHXAAAAAHEGeQkUVLCP/AAAWJSs3a1OuU71aQl0mFnK47oEAAAAXAZ5hdEf/AAAiq/hbeBKdaCOJCcbpshcAAAAOAZ5jakf/AAADAAADAakAAAAXQZpoSahBbJlMCE///fEAAAMAAAMAHpAAAAAiQZ6GRRUsI/8AAAMDJXcEjTBq3caRiAqDrdtjHbEG5fNvQQAAABoBnqV0R/8AAAT4W3mST3cpJIfH3vXrGBnb0AAAABkBnqdqR/8AAAT5PmDgbdvxPxEZ+Si0cx4JAAAAR0GarEmoQWyZTAhX//44QAABBPrygA1GpcO33gXhlu7OlfhQisrC60Lx1v54HR7Fz4Ip5VGPjuTjZry65jN1EoM5mKJFzM2UAAAAJ0GeykUVLCP/AAAWJSs3a2EpRE6gpx3Mv/Mzr5kFduaSFoN+1jkJ0wAAAB8Bnul0R/8AACLDF2ips5F4xBID3xXvE6WcLmrTouHTAAAAGwGe62pH/wAAAwHbf9VsZML0DWwxkLNB3fu3oQAAABdBmvBJqEFsmUwIT//98QAAAwAAAwAekQAAACBBnw5FFSwj/wAAAwMjcRQ1JeEIFm8mRPjnTtFc3a7ggAAAABoBny10R/8AAAT70MHOto3DV9gRWgicZldvQAAAABsBny9qR/8AAAMB23/VbGTC9A1sMZCzQd37t6EAAABRQZs0SahBbJlMCFf//jhAAAEE+uCfrwFU3Blv0bJ09MqsRRli0c33JkqkioZMR3xz3O5EmJHsqLKzClkFXPw/QhfTjwfy8+QQMNhwpLB6SNNYAAAAJ0GfUkUVLCP/AAAWJSs3a2EpB/TI1KENiWzvzaZOjo9m2CXV1pO3oAAAABcBn3F0R/8AACKr+Ft4Ep1oI4l/VqwXcQAAAB0Bn3NqR/8AAAMB23/VSX8CcouxnbTFOLYan023oQAAAHRBm3hJqEFsmUwIR//94QAAAwP2iv+P7cjgCI7jUWHowkZEh2s2IHZGO9EP2P/xYxlQoLSACD0irUM7hWi5JnVio/yha49lWDpC+De441El0JDRaZYn6lWMLwQ31hRZZqNsf6mWpqxCLRUORYyvfXcBwQ+CgQAAADBBn5ZFFSwj/wAAFiUrOk54BsxpqsEEaMtBS9yxRh02IFzqlqZo1Y+UEvYlAYOP8IAAAAAjAZ+1dEf/AAAiwxdoqaV5akLLgHsUEGGwHe77IXySDqZF2pAAAAAbAZ+3akf/AAANL7aMYP+EHLINLpvAE2qT3e3pAAAATEGbvEmoQWyZTAhP//3xAAADAo3y5agQf0u3ltLQG5UxEFoAaVBXkks2pBtnT0ej0O1OJRJukpYdvPRsykYyUW8uoVktsjPCa1HYaMAAAABBQZ/aRRUsI/8AABYsQ83LutIr70KDfV6+2SxWYrvk+gBFN3YPq7j3NmNDJLky+j+IoHv/dp7Q866GzjkGqFmvR1IAAAAbAZ/5dEf/AAANLgDYRQKiSueuTfSlbrHQiqY1AAAAHAGf+2pH/wAAIrHr/BN6WUy+gO9tsfiCJ74jzD4AAABIQZvgSahBbJlMCEf//eEAAAMAkpqzJxIcD3wbLw9hTvEFiNoEeHM6wnpamwFHcqEVwBVgWk44A6oN6T556RuAtP0a7pNOwmTdAAAAJUGeHkUVLCP/AAADAyUwebcPCY42HXNR7UhV7RupK+0sFCu63oEAAAAWAZ49dEf/AAADAAnwygafJM9kTtD1nwAAABcBnj9qR/8AAAT5MA4v6vEbU/nD27fKTwAAAF5BmiRJqEFsmUwIT//98QAAAwKNBWDgnvHSCdLp+zTYXJyZrhPWijmk8+AUo17vY2uqF92DiKixuRcxIZbfaFtSceQNehLU4qT66uloSgzK+ZHRD/czIo3kBN/mSKBwAAAAMkGeQkUVLCP/AAAWJSs3v6AGlP4NPwd3qBxTZpgBBGjoiSzc30ELMxw/6H/qkIKo3g/xAAAAHQGeYXRH/wAAIqv4W3gSnWsK4Z4Fsn7rjMxUxQT5AAAAGgGeY2pH/wAABPs01bGsommnzBCPCgT5xXcEAAAAPEGaaEmoQWyZTAhn//6eEAAAGbpWQu2S/icLfFK6dMTrUB5sAUV43Pv4tP2qbgh+gImWqHeu8Ip48W29AgAAAB5BnoZFFSwj/wAAAwMkUwqw4X50S2Aunr0hhmTK1IEAAAAaAZ6ldEf/AAADAduxsJSplqCKba0bnf9PDb0AAAAOAZ6nakf/AAADAAADAakAAAAXQZqsSahBbJlMCF///oywAAADAAADA0IAAAAQQZ7KRRUsI/8AAAMAAAMBBwAAAA4Bnul0R/8AAAMAAAMBqQAAAA4BnutqR/8AAAMAAAMBqQAAABdBmvBJqEFsmUwIX//+jLAAAAMAAAMDQwAAABBBnw5FFSwj/wAAAwAAAwEHAAAADgGfLXRH/wAAAwAAAwGpAAAADgGfL2pH/wAAAwAAAwGpAAAAFkGbNEmoQWyZTAhX//44QAAAAwAADKgAAAAQQZ9SRRUsI/8AAAMAAAMBBwAAAA4Bn3F0R/8AAAMAAAMBqQAAAA4Bn3NqR/8AAAMAAAMBqQAAABdBm3hJqEFsmUwIT//98QAAAwAAAwAekQAAABBBn5ZFFSwj/wAAAwAAAwEHAAAADgGftXRH/wAAAwAAAwGpAAAADgGft2pH/wAAAwAAAwGpAAAAV0GbvEmoQWyZTAhf//6MsAAARAL21qkAHrcjb10nJ05Y/Fw3GZn4bofQ3YpLAwUUDUqnesJLTziQJzHOoOgFnDAm8H3OUYgYtj+2aYIPQKkzPj3Row1R/gAAABpBn9pFFSwj/wAAFixDzbbZeJFhz6Tc2EjBEwAAAA4Bn/l0R/8AAAMAAAMBqQAAABkBn/tqR/8AACKxzAlv56LQeN1yLv0RuhUwAAAAH0Gb4EmoQWyZTAhf//6MsAAACcIjcgACHY/mmhAA64EAAAAuQZ4eRRUsI/8AABYwmz9h/YZ/tC6VgRzFyI8IIVlgXo8yE+ASboQRcXrsKENbewAAACQBnj10R/8AACKr+Ft4Es3dMfEprLFHLRIjl3TyDNx7NaPESkgAAAAdAZ4/akf/AAAivwQnEslpmrhWVuRlf+9krSxOY6cAAAAZQZokSahBbJlMCFf//jhAAAAk3uLiJgBcQAAAACNBnkJFFSwj/wAAFjCbP2H9hjoRgL8wChUY8TSMGGXj+HMt6QAAABwBnmF0R/8AACLDF2ippcMN78Q00mEAQrAwc5JtAAAAHQGeY2pH/wAAIr8EJxLJaZq4VlMfKjt+L62NBJNgAAAAF0GaaEmoQWyZTAhP//3xAAADAAADAB6QAAAAJUGehkUVLCP/AAADAyWzQkNqXfF1i9meo/VgNQwQS0IFvSeum4MAAAAaAZ6ldEf/AAAE+9DBzraNw1fYEVoInGZXb0AAAAAbAZ6nakf/AAAE+zTVsZMLz+vAFQ1fzZBFsPBBAAAAO0GarEmoQWyZTAhn//6eEAAACapAzmtRDGgBudyOYkUHwyPGocVkcK1p0cWcnrBC5nAMyD1PxL1KaM0gAAAAH0GeykUVLCP/AAADAyUxt+Cs9pID1Jsi0b1G+BoqC4MAAAAOAZ7pdEf/AAADAAADAakAAAAZAZ7rakf/AAAE+T5g4G3b8T8RGfkotHMeCQAAABdBmvBJqEFsmUwIX//+jLAAAAMAAAMDQwAAAB9Bnw5FFSwj/wAAAwMlu+yWFk2BkbdhYR0Ovb6lJs29AAAAGgGfLXRH/wAABPhbeZJPdykkh8fe9esYGdvQAAAAGQGfL2pH/wAABPk+YOBt2/E/ERn5KLRzHgkAAAAXQZs0SahBbJlMCF///oywAAADAAADA0IAAAAQQZ9SRRUsI/8AAAMAAAMBBwAAAA4Bn3F0R/8AAAMAAAMBqQAAAA4Bn3NqR/8AAAMAAAMBqQAAABZBm3hJqEFsmUwIV//+OEAAAAMAAAypAAAAEEGflkUVLCP/AAADAAADAQcAAAAOAZ+1dEf/AAADAAADAakAAAAOAZ+3akf/AAADAAADAakAAAAXQZu8SahBbJlMCE///fEAAAMAAAMAHpAAAAAoQZ/aRRUsI/8AAAMDDoZICJ+7eZhUqU2oUPPJK57P9e/YhlZ+q+y4IAAAABoBn/l0R/8AAATYZ8IYbXEem569eS0eZpYSFwAAABwBn/tqR/8AAATX41nnBuR1F6GmOho475uAPELAAAAAR0Gb4EmoQWyZTAhP//3xAAADAo0FYOES6kNbZp3ZIwZ4Ml8FrMDQcl6FpOZRayQx3pqmjmBMZhbvOwX06EmYrykzcrIIRpUxAAAAIkGeHkUVLCP/AAAWLEPNtxXOWheUuzCw8xK5CwQAbZA4QsEAAAAaAZ49dEf/AAAE2GfCGG1xHpuevXktHmaWEhYAAAAdAZ4/akf/AAAivwQnEslpmrhWUx8qO34vrY0Ek2EAAABGQZokSahBbJlMCF///oywAAAaD7sCAHGc/vXoHEyC8LbAoFylOIKqZJUryIampnzi3U0dD5HrsOi/iflB5UfyeNLIQmTT4QAAAB5BnkJFFSwj/wAAAwMkUwqw4X50S2Aunr0hhmTK1IEAAAAcAZ5hdEf/AAADAdorxGhKNYyZqc8Jz/MudIRPBQAAAA4BnmNqR/8AAAMAAAMBqQAAABdBmmhJqEFsmUwIX//+jLAAAAMAAAMDQgAAABBBnoZFFSwj/wAAAwAAAwEHAAAADgGepXRH/wAAAwAAAwGpAAAADgGep2pH/wAAAwAAAwGpAAAAFkGarEmoQWyZTAhX//44QAAAAwAADKgAAAAQQZ7KRRUsI/8AAAMAAAMBBwAAAA4Bnul0R/8AAAMAAAMBqQAAAA4BnutqR/8AAAMAAAMBqQAAAGJBmvBJqEFsmUwIT//98QAAAwAil8jR50QAH2QUbxMB3DzRlcrOOaKVmPQFCoVfNKlBvPhrDxM0qTzN7Hjsib1rWDIjgMVAJpjtGQm8JASj8dkkPnfemMpjk4vPl4nSNeyJgQAAACJBnw5FFSwj/wAAAwMjcQQCANMl7PiqPUgAC2eOol0x8Iw+AAAAFgGfLXRH/wAABPvQwc62jcNXbzwqJh4AAAAOAZ8vakf/AAADAAADAakAAAAoQZs0SahBbJlMCE///fEAAAMAIqjzTMJ0BbgRJJZENFAvhPf3IDGTgAAAABtBn1JFFSwj/wAAAwEtgUORNKImH9INIUqOfQgAAAAXAZ9xdEf/AAADAdqKHhmoeKtV1LC+KTkAAAAQAZ9zakf/AAADALFmoUCPgQAAAD1Bm3hJqEFsmUwIX//+jLAAAEQC9lkFQCtaFR5FzGwkOLg2ks1SvVia3aCvBSqfN8l7VmUWZ3ytjN5kW2j/AAAAG0GflkUVLCP/AAAWJSsw13tT/mSksk40VFSbgAAAABgBn7V0R/8AACKr+Ft4Es4CMLHDJyxXhlwAAAAOAZ+3akf/AAADAAADAakAAAAiQZu8SahBbJlMCFf//jhAAAAFP7nJWVRhAN2ygHtwQsK4gAAAACVBn9pFFSwj/wAAAwMb7kEEeFXAspRwR0ryQa58m4ZDGDFWg24IAAAAGgGf+XRH/wAABPhbeZLHhMlngMsJlDZj58WBAAAAGQGf+2pH/wAAAwHazUaYG3cDcAbL/cSL/iwAAAAXQZvgSahBbJlMCE///fEAAAMAAAMAHpEAAAAfQZ4eRRUsI/8AAAMDJbvslhcgm/ANX0XSd63ZdE5cEQAAABoBnj10R/8AAAT4W3mSx4TJZ4DLCZQ2Y+fFgAAAABkBnj9qR/8AAAMB2s1GmBt3A3AGy/3Ei/4tAAAAMUGaJEmoQWyZTAhP//3xAAADAA0sqUsYve1gvdEWiABo+NCh4ot/NRg4Ol2eUlrW+kAAAAAeQZ5CRRUsI/8AAAMDJbvsldQLjpdpJS//5qMoZq1JAAAAGgGeYXRH/wAABPhbeZLHhMlngMsJlDZj58WBAAAAEAGeY2pH/wAABPs01bqAUkAAAABJQZpoSahBbJlMCF///oywAABEem2hTuXGKcFcaPUYzKIUyIPBiIhTGNbuVWsC3OAmPsDS2iD19PrQcskVbqMPmcXcpatODtb6QAAAADFBnoZFFSwj/wAAFiUrMNd6ITznq6gRxARxpzYZG+gLka3hBVi+n/xJMr2okgbGS96BAAAAGgGepXRH/wAAIqv4W3gSnWmyiMLzQUfwTWUkAAAAHAGep2pH/wAADTSdFtg6Sb/Q6rRggsRIJOj0uGcAAAAaQZqsSahBbJlMCFf//jhAAAADABu94iVRU0YAAAAkQZ7KRRUsI/8AAAgxT5QVfkgGbhrZJcRUFkYUwAiotufVsq4JAAAAGgGe6XRH/wAADTXrh4xq47mVNqhAUrz+aAhZAAAAGwGe62pH/wAADTSdq2NZRNNOyVKdyGJEclgOmQAAAEpBmvBJqEFsmUwIT//98QAAAwAhu8e79O1YHC11GiAEd96U/dkxlyuFORjq538DYtGLCcyWpm3lIbXLMi7kkLgZanJfjd6Q46piyQAAAB9Bnw5FFSwj/wAAAwEl5ObMLYUmaZvXORclLnAnbm9AAAAADgGfLXRH/wAAAwAAAwGpAAAAGwGfL2pH/wAAAwHQf9Vsayz0l/r3717v/oYhYQAAACNBmzRJqEFsmUwIT//98QAAAwJ7BTSY5z0081LrIuJaP5UY/wAAAC5Bn1JFFSwj/wAAFZVYVS9dQH39fi6qAG5aQYRtaEhQW4MXG4yaXniBse1+3c3oAAAAGwGfcXRH/wAAIcM+DaDXqppn2vri22gTkuonwQAAABsBn3NqR/8AAATX41nPehrJWkWGgIcpcvI+hJsAAAAnQZt4SahBbJlMCE///fEAAAMCe+35hQ19UIuMEkmXvEXlwm3yWpvRAAAAGUGflkUVLCP/AAAVnE5swthLC0qcRc+u7YsAAAAOAZ+1dEf/AAADAAADAakAAAAVAZ+3akf/AAAhvxrOe94JtmKq0/IXAAAAPkGbvEmoQWyZTAhP//3xAAADAAzceGDgGIkZnMD6tHfkWldVc5vF8gNGBMuViGrvi6rIccYIq2roOBKYv1qUAAAAJkGf2kUVLCP/AAADAG6mNO3xfaVdADcSxVOo/W4bykR6pbKpEdxwAAAADgGf+XRH/wAAAwAAAwGpAAAAGgGf+2pH/wAAAwCxZpq2Nr0rBerix6NZcZftAAAAVkGb4EmoQWyZTAhP//3xAAADAnsFNH/kaUlcAyYAbjLzPRtnGGf9NQZpyokh0u/AVgw7sj7EWPguNOwI6Q0u7L3J808ihbB39tNtAmLf209TU6vMv/tBAAAAJEGeHkUVLCP/AAAVnE5tHbeBC+OXDsl1iMIHkvJQK86nrz0ETQAAABMBnj10R/8AAATVhyDWqxNIsMuAAAAAHQGeP2pH/wAAIb8azzg3JxKOOXMDBcJgrJq7nBexAAAAREGaJEmoQWyZTAhP//3xAAADAF19hrOhlpeMT5Met/XABtQsJnaQkl5yflFMwf6i3/Mj9mDkV5c89oZFVxGbL3TlxCEwAAAAJkGeQkUVLCP/AAADAyRPMdz9In/YmrZ7iwxQj/CUlXyvdINLBDKhAAAAEQGeYXRH/wAABPhcFKUawMaBAAAAGgGeY2pH/wAABNZFYOFIaxjn/NsFferRrPxwAAAAbkGaaEmoQWyZTAhX//44QAAAYn+NtAEJoL2V0Ctz9/PgS1zNDYTRhidZ8rGBZUd+gaogwOlpPlhS3opTwQ1UD2/3X1tY9VyGja7i+hbPn+8YNqLww1auQ/LrO7hnk2H122cbIY/rZ2zZ/iqKOXMoAAAAH0GehkUVLCP/AAADASXlC29M38e+V/4Tg8gaFuZssykAAAAQAZ6ldEf/AAADAKyLfsC4gAAAAB0BnqdqR/8AAAzWxyuKPzsDKRI9KvIKygv1rdiouQAAAHhBmqxJqEFsmUwIT//98QAAAwJ7AsTns9ftcBi+ZACvtDbC5vUm149Syjdv6y8wd3NKjjScfigTB1Hp9feMCnXzu3Z11+kAIn9GDx2eym/KNaU/1F1L4a0YUmuhqV2xuEo9cfIwY67vkvHGTOmSvoU+SH7ouQzJXl8AAABDQZ7KRRUsI/8AABWVWK5B2Gh6hE1UUt9ojuVEeFMGti9EAHA6ZXrFSn6/+dJZJZRXkCfl1d1jI0U7wRr3+joq5lvtyQAAABwBnul0R/8AACGsOQWuT3hBPB+noCadmENWT0RVAAAAHQGe62pH/wAADOKBlf8128Th94M6fas9huoKQlkVAAAATEGa8EmoQWyZTAhH//3hAAADA+CL7aL4R6M27kKAdjXfNzVW+eILCwK3djaKfEof8lSgDkzPc7iehvQTUuLS9xGwyLq+bXJzkD6y2hkAAAAwQZ8ORRUsI/8AABWVV4xqxMAMytOZKL18MbqnWA9R2Osyo+zTUFdk6FCcJB9ljuSAAAAAHwGfLXRH/wAAIbjBO5fgz11fM5LcDhkIvigoswg8DtgAAAAUAZ8vakf/AAAM5J3B/y0bB5MTpU0AAABHQZs0SahBbJlMCE///fEAAAMCewU014mLgvaIANljIPPGcn9n8oqdDNn6U0rO542NI8eAcMAFVKYtvez2269PSMWIZLFow+AAAAA4QZ9SRRUsI/8AABWVWGPQAQc5SJ+NPIdi+2fMPxc8nMRtP0Cj4ao+7YH6XC/FvAEmAOC4gOg1ccAAAAAbAZ9xdEf/AAAhrDkFrk9VEUvUaDn2v6B3MvjhAAAAHQGfc2pH/wAAAwHQf/L6QSP3VU/S+h2/ylNJiOZdAAAAP0GbeEmoQWyZTAhP//3xAAADACG9qO56Elom1ZoASdrRniRhpGW6juVqUOSUKBHkQZK/J4uNrPbiHJla52WYgQAAACdBn5ZFFSwj/wAAAwElgUPNjBf18xmzC8K/8I7fikugxaaMOCveDyYAAAAlAZ+1dEf/AAADAc+KHmSq//H7qqfpfQ7f5W3/SC4JCo8wBic3HAAAAA4Bn7dqR/8AAAMAAAMBqQAAABZBm7lJqEFsmUwI//yEAAADAAADAMCAAAABJmWIhAAr//72c3wKa0czlS4Fdvdmo+XQkuX7EGD60AAAAwAAAwAATcVEzosKY8TZAAADAFxAEeCwCPCVC2EhH2OcFzgmK7AALpCwGzmfBrsFFzO3WkDG+ZFKPrbO6gRPX8O/0Q6dIeexIIn6VBQ1TLyNI3uvoCm4FDYLPx4B4g/yJJl/uO2dQt4G+s/HZ0bSr4MpEuGS1ZIRyxBO+ipGqCmwE5MphPYtn7pXZ5MSdxIZMXZN9RW+JsaI0MiNr5Omwfgz0ruSWYLiPXT0UM34vQm1J7X4ZxGrt0ll8KuIXDksfsbHl8gBmHsiXxq2ySJg+VV1gAYF5W9uyQANi2dMHnaQu7LPY2tbVVxkXK1+hZu6tbfVUABggBdgYgAAAwAAAwAAAwADjgAAGqZtb292AAAAbG12aGQAAAAAAAAAAAAAAAAAAAPoAAAnJAABAAABAAAAAAAAAAAAAAAAAQAAAAAAAAAAAAAAAAAAAAEAAAAAAAAAAAAAAAAAAEAAAAAAAAAAAAAAAAAAAAAAAAAAAAAAAAAAAAAAAAACAAAZ0XRyYWsAAABcdGtoZAAAAAMAAAAAAAAAAAAAAAEAAAAAAAAnJAAAAAAAAAAAAAAAAAAAAAAAAQAAAAAAAAAAAAAAAAAAAAEAAAAAAAAAAAAAAAAAAEAAAAACWAAAAZAAAAAAACRlZHRzAAAAHGVsc3QAAAAAAAAAAQAAJyQAAAIAAAEAAAAAGUltZGlhAAAAIG1kaGQAAAAAAAAAAAAAAAAAADIAAAH1AFXEAAAAAAAtaGRscgAAAAAAAAAAdmlkZQAAAAAAAAAAAAAAAFZpZGVvSGFuZGxlcgAAABj0bWluZgAAABR2bWhkAAAAAQAAAAAAAAAAAAAAJGRpbmYAAAAcZHJlZgAAAAAAAAABAAAADHVybCAAAAABAAAYtHN0YmwAAACwc3RzZAAAAAAAAAABAAAAoGF2YzEAAAAAAAAAAQAAAAAAAAAAAAAAAAAAAAACWAGQAEgAAABIAAAAAAAAAAEVTGF2YzYxLjE5LjEwMCBsaWJ4MjY0AAAAAAAAAAAAAAAY//8AAAA2YXZjQwFkAB//4QAZZ2QAH6zZQJgz5eEAAAMAAQAAAwBkDxgxlgEABmjr48siwP34+AAAAAAUYnRydAAAAAAAAD4jAAA+IwAAABhzdHRzAAAAAAAAAAEAAAH1AAABAAAAABxzdHNzAAAAAAAAAAMAAAABAAAA+wAAAfUAAA+wY3R0cwAAAAAAAAH0AAAAAQAAAgAAAAABAAAFAAAAAAEAAAIAAAAAAQAAAAAAAAABAAABAAAAAAEAAAUAAAAAAQAAAgAAAAABAAAAAAAAAAEAAAEAAAAAAQAABQAAAAABAAACAAAAAAEAAAAAAAAAAQAAAQAAAAABAAAFAAAAAAEAAAIAAAAAAQAAAAAAAAABAAABAAAAAAEAAAUAAAAAAQAAAgAAAAABAAAAAAAAAAEAAAEAAAAAAQAABQAAAAABAAACAAAAAAEAAAAAAAAAAQAAAQAAAAABAAAFAAAAAAEAAAIAAAAAAQAAAAAAAAABAAABAAAAAAEAAAUAAAAAAQAAAgAAAAABAAAAAAAAAAEAAAEAAAAAAQAABQAAAAABAAACAAAAAAEAAAAAAAAAAQAAAQAAAAABAAAFAAAAAAEAAAIAAAAAAQAAAAAAAAABAAABAAAAAAEAAAUAAAAAAQAAAgAAAAABAAAAAAAAAAEAAAEAAAAAAQAABQAAAAABAAACAAAAAAEAAAAAAAAAAQAAAQAAAAABAAAFAAAAAAEAAAIAAAAAAQAAAAAAAAABAAABAAAAAAEAAAUAAAAAAQAAAgAAAAABAAAAAAAAAAEAAAEAAAAAAQAABQAAAAABAAACAAAAAAEAAAAAAAAAAQAAAQAAAAABAAAFAAAAAAEAAAIAAAAAAQAAAAAAAAABAAABAAAAAAEAAAUAAAAAAQAAAgAAAAABAAAAAAAAAAEAAAEAAAAAAQAABQAAAAABAAACAAAAAAEAAAAAAAAAAQAAAQAAAAABAAAFAAAAAAEAAAIAAAAAAQAAAAAAAAABAAABAAAAAAEAAAUAAAAAAQAAAgAAAAABAAAAAAAAAAEAAAEAAAAAAQAABQAAAAABAAACAAAAAAEAAAAAAAAAAQAAAQAAAAABAAAFAAAAAAEAAAIAAAAAAQAAAAAAAAABAAABAAAAAAEAAAUAAAAAAQAAAgAAAAABAAAAAAAAAAEAAAEAAAAAAQAABQAAAAABAAACAAAAAAEAAAAAAAAAAQAAAQAAAAABAAAFAAAAAAEAAAIAAAAAAQAAAAAAAAABAAABAAAAAAEAAAUAAAAAAQAAAgAAAAABAAAAAAAAAAEAAAEAAAAAAQAABQAAAAABAAACAAAAAAEAAAAAAAAAAQAAAQAAAAABAAAFAAAAAAEAAAIAAAAAAQAAAAAAAAABAAABAAAAAAEAAAIAAAAAAQAABQAAAAABAAACAAAAAAEAAAAAAAAAAQAAAQAAAAABAAAFAAAAAAEAAAIAAAAAAQAAAAAAAAABAAABAAAAAAEAAAUAAAAAAQAAAgAAAAABAAAAAAAAAAEAAAEAAAAAAQAABQAAAAABAAACAAAAAAEAAAAAAAAAAQAAAQAAAAABAAAFAAAAAAEAAAIAAAAAAQAAAAAAAAABAAABAAAAAAEAAAMAAAAAAQAAAQAAAAABAAAFAAAAAAEAAAIAAAAAAQAAAAAAAAABAAABAAAAAAEAAAUAAAAAAQAAAgAAAAABAAAAAAAAAAEAAAEAAAAAAQAABQAAAAABAAACAAAAAAEAAAAAAAAAAQAAAQAAAAABAAAFAAAAAAEAAAIAAAAAAQAAAAAAAAABAAABAAAAAAEAAAUAAAAAAQAAAgAAAAABAAAAAAAAAAEAAAEAAAAAAQAABQAAAAABAAACAAAAAAEAAAAAAAAAAQAAAQAAAAABAAAFAAAAAAEAAAIAAAAAAQAAAAAAAAABAAABAAAAAAEAAAUAAAAAAQAAAgAAAAABAAAAAAAAAAEAAAEAAAAAAQAABQAAAAABAAACAAAAAAEAAAAAAAAAAQAAAQAAAAABAAAFAAAAAAEAAAIAAAAAAQAAAAAAAAABAAABAAAAAAEAAAUAAAAAAQAAAgAAAAABAAAAAAAAAAEAAAEAAAAAAQAABQAAAAABAAACAAAAAAEAAAAAAAAAAQAAAQAAAAABAAAFAAAAAAEAAAIAAAAAAQAAAAAAAAABAAABAAAAAAEAAAUAAAAAAQAAAgAAAAABAAAAAAAAAAEAAAEAAAAAAQAABQAAAAABAAACAAAAAAEAAAAAAAAAAQAAAQAAAAABAAAFAAAAAAEAAAIAAAAAAQAAAAAAAAABAAABAAAAAAEAAAUAAAAAAQAAAgAAAAABAAAAAAAAAAEAAAEAAAAAAQAABQAAAAABAAACAAAAAAEAAAAAAAAAAQAAAQAAAAABAAAFAAAAAAEAAAIAAAAAAQAAAAAAAAABAAABAAAAAAEAAAUAAAAAAQAAAgAAAAABAAAAAAAAAAEAAAEAAAAAAQAABQAAAAABAAACAAAAAAEAAAAAAAAAAQAAAQAAAAABAAAFAAAAAAEAAAIAAAAAAQAAAAAAAAABAAABAAAAAAEAAAUAAAAAAQAAAgAAAAABAAAAAAAAAAEAAAEAAAAAAQAABQAAAAABAAACAAAAAAEAAAAAAAAAAQAAAQAAAAABAAAFAAAAAAEAAAIAAAAAAQAAAAAAAAABAAABAAAAAAEAAAUAAAAAAQAAAgAAAAABAAAAAAAAAAEAAAEAAAAAAQAABQAAAAABAAACAAAAAAEAAAAAAAAAAQAAAQAAAAABAAAFAAAAAAEAAAIAAAAAAQAAAAAAAAABAAABAAAAAAEAAAMAAAAAAQAAAQAAAAABAAACAAAAAAEAAAUAAAAAAQAAAgAAAAABAAAAAAAAAAEAAAEAAAAAAQAABQAAAAABAAACAAAAAAEAAAAAAAAAAQAAAQAAAAABAAAFAAAAAAEAAAIAAAAAAQAAAAAAAAABAAABAAAAAAEAAAUAAAAAAQAAAgAAAAABAAAAAAAAAAEAAAEAAAAAAQAABQAAAAABAAACAAAAAAEAAAAAAAAAAQAAAQAAAAABAAAFAAAAAAEAAAIAAAAAAQAAAAAAAAABAAABAAAAAAEAAAUAAAAAAQAAAgAAAAABAAAAAAAAAAEAAAEAAAAAAQAABQAAAAABAAACAAAAAAEAAAAAAAAAAQAAAQAAAAABAAAFAAAAAAEAAAIAAAAAAQAAAAAAAAABAAABAAAAAAEAAAUAAAAAAQAAAgAAAAABAAAAAAAAAAEAAAEAAAAAAQAABQAAAAABAAACAAAAAAEAAAAAAAAAAQAAAQAAAAABAAAFAAAAAAEAAAIAAAAAAQAAAAAAAAABAAABAAAAAAEAAAUAAAAAAQAAAgAAAAABAAAAAAAAAAEAAAEAAAAAAQAABQAAAAABAAACAAAAAAEAAAAAAAAAAQAAAQAAAAABAAAFAAAAAAEAAAIAAAAAAQAAAAAAAAABAAABAAAAAAEAAAUAAAAAAQAAAgAAAAABAAAAAAAAAAEAAAEAAAAAAQAABQAAAAABAAACAAAAAAEAAAAAAAAAAQAAAQAAAAABAAAFAAAAAAEAAAIAAAAAAQAAAAAAAAABAAABAAAAAAEAAAUAAAAAAQAAAgAAAAABAAAAAAAAAAEAAAEAAAAAAQAABQAAAAABAAACAAAAAAEAAAAAAAAAAQAAAQAAAAABAAAFAAAAAAEAAAIAAAAAAQAAAAAAAAABAAABAAAAAAEAAAUAAAAAAQAAAgAAAAABAAAAAAAAAAEAAAEAAAAAAQAABQAAAAABAAACAAAAAAEAAAAAAAAAAQAAAQAAAAABAAAFAAAAAAEAAAIAAAAAAQAAAAAAAAABAAABAAAAAAEAAAUAAAAAAQAAAgAAAAABAAAAAAAAAAEAAAEAAAAAAQAABQAAAAABAAACAAAAAAEAAAAAAAAAAQAAAQAAAAABAAAFAAAAAAEAAAIAAAAAAQAAAAAAAAABAAABAAAAAAEAAAUAAAAAAQAAAgAAAAABAAAAAAAAAAEAAAEAAAAAAQAABQAAAAABAAACAAAAAAEAAAAAAAAAAQAAAQAAAAABAAAFAAAAAAEAAAIAAAAAAQAAAAAAAAABAAABAAAAAAEAAAUAAAAAAQAAAgAAAAABAAAAAAAAAAEAAAEAAAAAAQAABQAAAAABAAACAAAAAAEAAAAAAAAAAQAAAQAAAAABAAAFAAAAAAEAAAIAAAAAAQAAAAAAAAABAAABAAAAAAEAAAUAAAAAAQAAAgAAAAABAAAAAAAAAAEAAAEAAAAAAQAABQAAAAABAAACAAAAAAEAAAAAAAAAAQAAAQAAAAABAAAFAAAAAAEAAAIAAAAAAQAAAAAAAAABAAABAAAAAAEAAAUAAAAAAQAAAgAAAAABAAAAAAAAAAEAAAEAAAAAAQAABQAAAAABAAACAAAAAAEAAAAAAAAAAQAAAQAAAAABAAAFAAAAAAEAAAIAAAAAAQAAAAAAAAABAAABAAAAAAEAAAUAAAAAAQAAAgAAAAABAAAAAAAAAAEAAAEAAAAAAQAABQAAAAABAAACAAAAAAEAAAAAAAAAAQAAAQAAAAABAAAFAAAAAAEAAAIAAAAAAQAAAAAAAAABAAABAAAAAAEAAAUAAAAAAQAAAgAAAAABAAAAAAAAAAEAAAEAAAAAAQAABQAAAAABAAACAAAAAAEAAAAAAAAAAQAAAQAAAAABAAAFAAAAAAEAAAIAAAAAAQAAAAAAAAABAAABAAAAAAEAAAUAAAAAAQAAAgAAAAABAAAAAAAAAAEAAAEAAAAAAQAABQAAAAABAAACAAAAAAEAAAAAAAAAAQAAAQAAAAABAAAFAAAAAAEAAAIAAAAAAQAAAAAAAAABAAABAAAAAAEAAAUAAAAAAQAAAgAAAAABAAAAAAAAAAEAAAEAAAAAAQAABQAAAAABAAACAAAAAAEAAAAAAAAAAQAAAQAAAAABAAAFAAAAAAEAAAIAAAAAAQAAAAAAAAABAAABAAAAAAEAAAUAAAAAAQAAAgAAAAABAAAAAAAAAAEAAAEAAAAAAQAABQAAAAABAAACAAAAAAEAAAAAAAAAAQAAAQAAAAABAAAFAAAAAAEAAAIAAAAAAQAAAAAAAAABAAABAAAAAAEAAAUAAAAAAQAAAgAAAAABAAAAAAAAAAEAAAEAAAAAAQAABQAAAAABAAACAAAAAAEAAAAAAAAAAQAAAQAAAAABAAAFAAAAAAEAAAIAAAAAAQAAAAAAAAABAAABAAAAAAEAAAUAAAAAAQAAAgAAAAABAAAAAAAAAAEAAAEAAAAAAQAABQAAAAABAAACAAAAAAEAAAAAAAAAAQAAAQAAAAABAAAFAAAAAAEAAAIAAAAAAQAAAAAAAAABAAABAAAAAAEAAAUAAAAAAQAAAgAAAAABAAAAAAAAAAEAAAEAAAAAAQAABQAAAAABAAACAAAAAAEAAAAAAAAAAQAAAQAAAAACAAACAAAAABxzdHNjAAAAAAAAAAEAAAABAAAB9QAAAAEAAAfoc3RzegAAAAAAAAAAAAAB9QAABNgAAACrAAAANgAAACQAAAAlAAAAUAAAACcAAAAXAAAAIAAAABsAAAAUAAAAEgAAABIAAABYAAAAIwAAABIAAAAeAAAAVQAAACUAAAAfAAAAGwAAAC4AAAAfAAAAGgAAABIAAABUAAAAIgAAABwAAAASAAAAGwAAADMAAAAiAAAAIQAAABoAAAArAAAAIAAAAB8AAAAbAAAAIwAAACAAAAAfAAAAPwAAACEAAAAgAAAAFAAAABsAAAAWAAAAFAAAABQAAABEAAAAHAAAABwAAAAUAAAAHQAAAC8AAAAgAAAAKAAAAEQAAAAgAAAAHgAAABIAAAAaAAAAFAAAABIAAAASAAAAGwAAABQAAAASAAAAKwAAAEAAAAA2AAAAJAAAACkAAABXAAAAJAAAACAAAAAWAAAAHwAAABgAAAAWAAAAEgAAAEcAAAAwAAAAHgAAACIAAABFAAAAIgAAABIAAAAgAAAAGwAAACQAAAAeAAAAHwAAAEMAAAAjAAAAEgAAAB0AAAA4AAAAIwAAABYAAAAfAAAAUgAAAB4AAAASAAAAGwAAAEYAAAAqAAAAEgAAAB8AAABOAAAAIgAAABIAAAAeAAAANQAAAB4AAAAwAAAAHwAAABwAAABOAAAAIgAAABIAAAAyAAAAjgAAADUAAAAyAAAAOAAAAGcAAABBAAAAHQAAACIAAABUAAAAJgAAABYAAAAdAAAAPQAAACEAAAAzAAAAQgAAAB8AAAAhAAAAJAAAACYAAAAfAAAAIAAAABsAAAAkAAAAIQAAAB8AAAAbAAAAJAAAACEAAAAgAAAAGwAAACQAAAAfAAAAIAAAABsAAAAkAAAAHwAAACAAAAAbAAAAJAAAAB8AAAAgAAAAGwAAACQAAAAfAAAAIAAAACMAAAAkAAAAHwAAAB8AAAAfAAAAJQAAACMAAAAfAAAAGwAAACQAAAAeAAAAIQAAABsAAAAWAAAAFAAAABQAAAAbAAAAFgAAABQAAAAUAAAAGwAAABYAAAAUAAAAFAAAAB4AAAAYAAAAFQAAABQAAAAbAAAAFgAAABQAAAAUAAAAVgAAACYAAAAUAAAAHwAAADIAAAAjAAAAHgAAAB4AAAAeAAAAJQAAAB4AAAAdAAAAGwAAAEQAAAAiAAAAIwAAADEAAAAoAAAAIQAAAB8AAAAbAAAAHQAAABgAAAAZAAAAJQAAABQAAAASAAAAEgAAAGsAAAAfAAAAEgAAABsAAAAgAAAAIAAAABsAAAAbAAAALQAAAB0AAAAaAAAAFAAAABoAAAAWAAAAFAAAABQAAAAbAAAAFgAAABQAAAAUAAAANgAAACIAAAF3AAAAVwAAAC8AAAAhAAAAIQAAABoAAAAoAAAAHQAAAB4AAAAbAAAAIwAAAB0AAAAeAAAALwAAACIAAAASAAAAHQAAAB0AAAAWAAAAFAAAABIAAABYAAAAIgAAABMAAAAgAAAAVgAAACYAAAAkAAAAHwAAAEcAAAAgAAAAIAAAABIAAAAbAAAAFAAAABIAAAASAAAAUwAAAB4AAAASAAAAGgAAAEAAAAAhAAAAHwAAACYAAAAlAAAAIgAAAB4AAAAfAAAAGwAAABgAAAAUAAAAMgAAAEAAAAAfAAAAFAAAAB4AAABQAAAAJgAAABUAAAAgAAAAGwAAABQAAAASAAAAEgAAAEEAAAAgAAAAGwAAABIAAAAbAAAAJgAAAB4AAAAdAAAASwAAACsAAAAjAAAAHwAAABsAAAAkAAAAHgAAAB8AAABVAAAAKwAAABsAAAAhAAAAeAAAADQAAAAnAAAAHwAAAFAAAABFAAAAHwAAACAAAABMAAAAKQAAABoAAAAbAAAAYgAAADYAAAAhAAAAHgAAAEAAAAAiAAAAHgAAABIAAAAbAAAAFAAAABIAAAASAAAAGwAAABQAAAASAAAAEgAAABoAAAAUAAAAEgAAABIAAAAbAAAAFAAAABIAAAASAAAAWwAAAB4AAAASAAAAHQAAACMAAAAyAAAAKAAAACEAAAAdAAAAJwAAACAAAAAhAAAAGwAAACkAAAAeAAAAHwAAAD8AAAAjAAAAEgAAAB0AAAAbAAAAIwAAAB4AAAAdAAAAGwAAABQAAAASAAAAEgAAABoAAAAUAAAAEgAAABIAAAAbAAAALAAAAB4AAAAgAAAASwAAACYAAAAeAAAAIQAAAEoAAAAiAAAAIAAAABIAAAAbAAAAFAAAABIAAAASAAAAGgAAABQAAAASAAAAEgAAAGYAAAAmAAAAGgAAABIAAAAsAAAAHwAAABsAAAAUAAAAQQAAAB8AAAAcAAAAEgAAACYAAAApAAAAHgAAAB0AAAAbAAAAIwAAAB4AAAAdAAAANQAAACIAAAAeAAAAFAAAAE0AAAA1AAAAHgAAACAAAAAeAAAAKAAAAB4AAAAfAAAATgAAACMAAAASAAAAHwAAACcAAAAyAAAAHwAAAB8AAAArAAAAHQAAABIAAAAZAAAAQgAAACoAAAASAAAAHgAAAFoAAAAoAAAAFwAAACEAAABIAAAAKgAAABUAAAAeAAAAcgAAACMAAAAUAAAAIQAAAHwAAABHAAAAIAAAACEAAABQAAAANAAAACMAAAAYAAAASwAAADwAAAAfAAAAIQAAAEMAAAArAAAAKQAAABIAAAAaAAABKgAAABRzdGNvAAAAAAAAAAEAAAAwAAAAYXVkdGEAAABZbWV0YQAAAAAAAAAhaGRscgAAAAAAAAAAbWRpcmFwcGwAAAAAAAAAAAAAAAAsaWxzdAAAACSpdG9vAAAAHGRhdGEAAAABAAAAAExhdmY2MS43LjEwMA==\" type=\"video/mp4\" />\n",
              "        </video>\n",
              "        "
            ],
            "text/plain": [
              "<IPython.core.display.HTML object>"
            ]
          },
          "metadata": {},
          "output_type": "display_data"
        }
      ],
      "source": [
        "import gymnasium as gym\n",
        "from gymnasium.wrappers import RecordVideo\n",
        "import random\n",
        "\n",
        "# Create environment with correct render mode\n",
        "env = gym.make(\"CartPole-v1\", render_mode=\"rgb_array\")\n",
        "\n",
        "# Wrap it to record video\n",
        "env = RecordVideo(env, video_folder=\"./video\")\n",
        "\n",
        "# Reset environment and unpack the new return format\n",
        "observation, info = env.reset()\n",
        "\n",
        "cumulative_reward = 0\n",
        "terminated = False\n",
        "truncated = False\n",
        "\n",
        "while not (terminated or truncated):\n",
        "        action = Reinforcement_Learning_agent(state)\n",
        "        \n",
        "        next_state, reward, terminated, truncated, info = env.step(action)\n",
        "        state = next_state\n",
        "        cumulative_reward += reward\n",
        "        cumulative_reward_results+=reward\n",
        "\n",
        "env.close()\n",
        "\n",
        "print(\"Cumulative reward:\", cumulative_reward)\n",
        "\n",
        "# Show video if you're in Jupyter\n",
        "show_video()\n"
      ]
    },
    {
      "cell_type": "code",
      "execution_count": null,
      "metadata": {},
      "outputs": [],
      "source": []
    }
  ],
  "metadata": {
    "colab": {
      "authorship_tag": "ABX9TyNczA+lJQOKjOo4XtzYjWQc",
      "include_colab_link": true,
      "provenance": []
    },
    "kernelspec": {
      "display_name": ".venv",
      "language": "python",
      "name": "python3"
    },
    "language_info": {
      "codemirror_mode": {
        "name": "ipython",
        "version": 3
      },
      "file_extension": ".py",
      "mimetype": "text/x-python",
      "name": "python",
      "nbconvert_exporter": "python",
      "pygments_lexer": "ipython3",
      "version": "3.12.7"
    }
  },
  "nbformat": 4,
  "nbformat_minor": 0
}
